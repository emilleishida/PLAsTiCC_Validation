{
 "cells": [
  {
   "cell_type": "markdown",
   "metadata": {
    "nbpresent": {
     "id": "aaffd2c3-54c1-4f88-840b-02111a6237a8"
    },
    "slideshow": {
     "slide_type": "slide"
    }
   },
   "source": [
    "# **The PLAsTiCC Astronomy \"Starter Kit\"**\n",
    "### -Gautham Narayan, 20180831\n",
    "\n",
    "***"
   ]
  },
  {
   "cell_type": "code",
   "execution_count": 1,
   "metadata": {
    "nbpresent": {
     "id": "c06c5e08-417f-4806-84ca-55c1fc26b576"
    },
    "slideshow": {
     "slide_type": "skip"
    }
   },
   "outputs": [
    {
     "data": {
      "text/html": [
       "<style>.rendered_html { font-size: 18px; }</style>"
      ],
      "text/plain": [
       "<IPython.core.display.HTML object>"
      ]
     },
     "metadata": {},
     "output_type": "display_data"
    }
   ],
   "source": [
    "# You can edit the font size here to make rendered text more comfortable to read\n",
    "# It was built on a 13\" retina screen with 18px\n",
    "from IPython.core.display import display, HTML\n",
    "display(HTML(\"<style>.rendered_html { font-size: 18px; }</style>\"))\n",
    "\n",
    "# we'll also use this package to read tables\n",
    "# it's generally useful for astrophysics work, including this challenge\n",
    "# so we'd suggest installing it, even if you elect to work with pandas\n",
    "from astropy.table import Table"
   ]
  },
  {
   "cell_type": "markdown",
   "metadata": {
    "slideshow": {
     "slide_type": "skip"
    }
   },
   "source": [
    "This Project Jupyter notebook provides an introduction to some of the astrophysics that might be relevant for the \"Photometric LSST Astronomical Time-series Classification Challenge\" (PLAsTiCC) on Kaggle. It's intended to provide some domain knowledge to data scientists taking part in the challenge, and may even prove useful to some of the astronomers competing. You can use it <a href=\"https://medium.com/codingthesmartway-com-blog/getting-started-with-jupyter-notebook-for-python-4e7082bd5d46\">as you would a regular Jupyter notebook</a> or as a slide show with the <a href=\"https://damianavila.github.io/RISE/index.html\">RISE</a> notebook extension and clicking the <img src=\"media/RISE_button.png\" align=\"vertical-align:middle:\" width=\"5%\"> button.\n",
    "\n",
    "Because of the length of the notebook (there's a fair bit to cover!), the slide show will likely be a gentler introduction, though there are points in the regular notebook view that are skipped over entirely in the slide show. If an image looks a bit too large on a slide, you should be able to scroll down.\n",
    "\n",
    "While there's no practical way to cover all of the background astrophysics in a single Jupyter notebook, there should be enough relevant material to tackle the challenge. You can also safely ignore it and dive right in and do things your own way. Astrophysics is interesting stuff though, and if you are curious and want to know more about something, or how to do something that isn't covered here then just ask! You'll find us on the Kaggle forum for this challenge! \n",
    "\n",
    "***\n",
    "\n",
    "## Contents:\n",
    "- [1. LSST, PLAsTiCC and You](#section1)\n",
    "    - [1a. The Large Synoptic Survey Telescope](#section1a)\n",
    "    - [1b. Light Curves: Time-series of Brightness of Astronomical Sources](#section1b)\n",
    "    - [1c. How Astronomers have Studied Astronomical Sources Thus Far](#section1c)\n",
    "    - [1d. The PLAsTiCC Challenge: Classifying Astronomical Sources with Light Curves](#section1d)\n",
    "- [2. A Primer on the Data - Light Curves](#section2)\n",
    "    - [2a. Time](#section2a)\n",
    "    - [2b. Passband](#section2b)\n",
    "    - [2c. Flux and Flux Error](#section2c)\n",
    "- [3. Exploring the Light Curves](#section3)\n",
    "- [4. Primer cont'd - Metadata Provided with Light Curves](#section4)\n",
    "    - [4a. Coordinates on the Sky](#section4a)\n",
    "    - [4b. Galactic Coordinates](#section4b)\n",
    "    - [4c. Redshift](#section4c)\n",
    "    - [4d. A view of our cosmic neighborhood](#section4d)\n",
    "    - [4e. Cosmology](#section4e)\n",
    "    - [4f. Dust](#section4f)\n",
    "\n",
    "***"
   ]
  },
  {
   "cell_type": "markdown",
   "metadata": {
    "slideshow": {
     "slide_type": "slide"
    }
   },
   "source": [
    "## 1. LSST, PLAsTiCC and You\n",
    "<a id=\"section1\"></a>"
   ]
  },
  {
   "cell_type": "markdown",
   "metadata": {
    "slideshow": {
     "slide_type": "slide"
    }
   },
   "source": [
    "### 1a. The Large Synoptic Survey Telescope\n",
    "<a id=\"section1a\"></a>\n",
    "\n",
    "PLAsTiCC is intended to simulate sources that vary with time in the night-sky as seen during the first three years of operation of the <a href=\"http://www.lsst.org\">Large Synoptic Survey Telescope (LSST)</a>. \n",
    "\n",
    "The LSST (illustrated below) is a 8.4 meter telescope being built high up in Atacama desert of Chile, on a mountain called Cerro Pachon.\n",
    "\n",
    "<center><img src=\"media/LSST_night.jpg\"></center>"
   ]
  },
  {
   "cell_type": "markdown",
   "metadata": {
    "slideshow": {
     "slide_type": "-"
    }
   },
   "source": [
    "#### _Figure 1: The LSST Telescope, Credit: LSST Corporation_"
   ]
  },
  {
   "cell_type": "markdown",
   "metadata": {
    "slideshow": {
     "slide_type": "slide"
    }
   },
   "source": [
    "The telescope is going to have a 3.2 gigapixel camera that's about the size of an adult human to take images of the night sky. Those pixel numbers may not seem all that meaningful without a reference, so here is the LSST field-of-view  (FoV) compared against the full moon and a similar class telescope:\n",
    "\n",
    "<center><img src=\"media/LSST_FoV.jpg\"></center>"
   ]
  },
  {
   "cell_type": "markdown",
   "metadata": {
    "slideshow": {
     "slide_type": "-"
    }
   },
   "source": [
    "#### _Figure 2: The LSST Field of View compared to a camera on a similar telescope and the Moon. Credit: Zelko Ivezic, LSST_"
   ]
  },
  {
   "cell_type": "markdown",
   "metadata": {
    "slideshow": {
     "slide_type": "slide"
    }
   },
   "source": [
    "This large FoV is what makes LSST so revolutionary. If you like photography, LSST has a 6.5 *meter* effective aperture and a focal ratio of f/# of 1.23. "
   ]
  },
  {
   "cell_type": "markdown",
   "metadata": {
    "slideshow": {
     "slide_type": "fragment"
    }
   },
   "source": [
    "This means that it can make a map of the entire southern sky, resolving details that are smaller than the width of a human hair held at arm's length... every 4 nights. "
   ]
  },
  {
   "cell_type": "markdown",
   "metadata": {
    "slideshow": {
     "slide_type": "fragment"
    }
   },
   "source": [
    "That's a data rate of 20--40 terabytes, or about 1 US Library of Congress every night. It is, for want of a better word, ginormous."
   ]
  },
  {
   "cell_type": "markdown",
   "metadata": {
    "slideshow": {
     "slide_type": "slide"
    }
   },
   "source": [
    "The difference is even more stark when compared against telescopes that are both smaller and have smaller FoVs - like most everything astronomers have access to now. The Hubble Space Telescope only has a 2.4 meter mirror, and here's it's FoV... relative to one of those full moons:\n",
    "\n",
    "<center><img src=\"media/HST_field_of_view.jpg\"></center>"
   ]
  },
  {
   "cell_type": "markdown",
   "metadata": {
    "slideshow": {
     "slide_type": "-"
    }
   },
   "source": [
    "#### _Figure 3: The Hubble Space Telescope's field of view compared to the Moon_"
   ]
  },
  {
   "cell_type": "markdown",
   "metadata": {
    "nbpresent": {
     "id": "afdbac60-a049-4077-b22a-79d255306198"
    },
    "slideshow": {
     "slide_type": "slide"
    }
   },
   "source": [
    "Hubble isn't just looking at a smaller piece of sky, it is also collecting light from this region much more slowly than LSST. \n",
    "\n",
    "Consequently, LSST will find more sources that vary with time within a week than Hubble has ever seen in it's entire lifetime. Of course, Hubble has seen some sources that vary with time... let's take a look at one of them."
   ]
  },
  {
   "cell_type": "markdown",
   "metadata": {
    "slideshow": {
     "slide_type": "slide"
    }
   },
   "source": [
    "### 1b. Light Curves: Time-series of Brightness of Astronomical Sources\n",
    "<a id=\"section1b\"></a>\n",
    "\n",
    "Scanning the entire sky repeatedly means we can identify astrophysical sources in the night sky that change in brightness over time, and we can create a plot of the the brightness vs time. "
   ]
  },
  {
   "cell_type": "markdown",
   "metadata": {
    "slideshow": {
     "slide_type": "fragment"
    }
   },
   "source": [
    "The *time-series* of these change in brightness. We call these time-series, \"light curves.\" "
   ]
  },
  {
   "cell_type": "markdown",
   "metadata": {
    "nbpresent": {
     "id": "3a9a5622-cd6e-492f-9ef0-a7518d16f756"
    },
    "slideshow": {
     "slide_type": "fragment"
    }
   },
   "source": [
    "Here's an illustration of one of these source - supernova 1998bu, imaged with the Hubble Space Telescope. "
   ]
  },
  {
   "cell_type": "code",
   "execution_count": 2,
   "metadata": {
    "nbpresent": {
     "id": "ffeae5bf-12ea-4581-bfcb-c88b01b57f60"
    },
    "slideshow": {
     "slide_type": "slide"
    }
   },
   "outputs": [
    {
     "data": {
      "text/html": [
       "<div align=\"middle\">\n",
       "<video width=\"60%\" controls>\n",
       "      <source src=\"media/SN98bu_LC.mp4\" type=\"video/mp4\">\n",
       "</video>\n",
       "</div>"
      ],
      "text/plain": [
       "<IPython.core.display.HTML object>"
      ]
     },
     "metadata": {},
     "output_type": "display_data"
    }
   ],
   "source": [
    "%%HTML\n",
    "<div align=\"middle\">\n",
    "<video width=\"60%\" controls>\n",
    "      <source src=\"media/SN98bu_LC.mp4\" type=\"video/mp4\">\n",
    "</video>\n",
    "</div>"
   ]
  },
  {
   "cell_type": "markdown",
   "metadata": {
    "nbpresent": {
     "id": "c2b16093-fffa-4db6-9ecb-a216d2e99b0d"
    },
    "slideshow": {
     "slide_type": "-"
    }
   },
   "source": [
    "#### _Figure 4: The light curve of supernova 1998bu. Credit: Peter Challis, Harvard/CfA_ \n",
    "\n",
    "The left panel shows you how the supernova event looked, while the right panel shows a plot of the brightness of the supernova, measured using a process called \"photometry,\" used to determine the light curve."
   ]
  },
  {
   "cell_type": "markdown",
   "metadata": {
    "slideshow": {
     "slide_type": "slide"
    }
   },
   "source": [
    "LSST presents us with a great opportunity here because it will find an order of magnitude (or more) of these kinds of events than astronomers have ever observed. \n",
    "\n",
    "The same event rate also presents a new challenge - supernovae aren't the only sorts of variable and transient events in the night sky. "
   ]
  },
  {
   "cell_type": "markdown",
   "metadata": {
    "slideshow": {
     "slide_type": "slide"
    }
   },
   "source": [
    "Here's an (incomplete!) tree diagram of the various kinds of variable sources in the night sky:\n",
    "\n",
    "<center><img width=\"90%\" src=\"media/variability_tree.jpg\"></center>"
   ]
  },
  {
   "cell_type": "markdown",
   "metadata": {
    "slideshow": {
     "slide_type": "-"
    }
   },
   "source": [
    "#### _Figure 5: The hierarchy of variable and transient sources. Credit: Laurent Eyer and Nami Mowlawi, Université de Genève_"
   ]
  },
  {
   "cell_type": "markdown",
   "metadata": {
    "slideshow": {
     "slide_type": "skip"
    }
   },
   "source": [
    "Some sources are intrinsically variable, while others are extrinsic - they vary, not because they the source itself has some fundamental physical property that causes them to vary, but rather because of extra attributes - e.g. rotation, or forming part of a binary system that just happens to eclipse along our line of sight from Earth. Some sources vary periodically, while others show random or stochastic behavior. Yet others, like supernovae, typically explode the once and fade away. The named sources in the training set include:\n",
    "\n",
    "- Secular, Pulsating and Eruptive Variable Stars\n",
    "- Tidal Disruption Events\n",
    "- Kilonovae\n",
    "- Supernovae of different types\n",
    "- Active Galactic Nucleii \n",
    "- Microlensing Events\n",
    "- Eclipsing Binaries"
   ]
  },
  {
   "cell_type": "markdown",
   "metadata": {
    "slideshow": {
     "slide_type": "slide"
    }
   },
   "source": [
    "The diversity of these sources is important. "
   ]
  },
  {
   "cell_type": "markdown",
   "metadata": {
    "slideshow": {
     "slide_type": "fragment"
    }
   },
   "source": [
    "LSST data will be useful for many different scientific studies - from studying stars in our Galaxy to understand how solar systems like ours formed, probing nuclear physics with brief burps before stars explode, how galaxies themselves formed and the role massive stars play in shaping their chemistry, to measuring how much matter there is in our Universe - and everything in between. "
   ]
  },
  {
   "cell_type": "markdown",
   "metadata": {
    "slideshow": {
     "slide_type": "fragment"
    }
   },
   "source": [
    "#### _It'll likely answers questions we don't even know to ask yet._"
   ]
  },
  {
   "cell_type": "markdown",
   "metadata": {
    "slideshow": {
     "slide_type": "fragment"
    }
   },
   "source": [
    "There's a lot that we can get out of understanding the time-domain of our Universe."
   ]
  },
  {
   "cell_type": "markdown",
   "metadata": {
    "nbpresent": {
     "id": "5b3f47c0-1126-47e8-9fbb-1d06b1396819"
    },
    "slideshow": {
     "slide_type": "skip"
    }
   },
   "source": [
    "That said, we're being deliberately vague about exactly what sorts of astrophysical sources you'll find in the data, and even what `target` number in the data corresponds to what astrophysical class, but we'll give you a few external resources for these events at the bottom of this notebook, if you are determined to augment the training set where possible - there's been exactly one kilonova event ever seen (we hope this will be out of date by the time LSST turns on though!), so it's not really possible to provide multiple examples!"
   ]
  },
  {
   "cell_type": "markdown",
   "metadata": {
    "slideshow": {
     "slide_type": "slide"
    }
   },
   "source": [
    "### 1c. How Astronomers have Studied Astronomical Sources Thus Far\n",
    "<a id=\"section1c\"></a>\n",
    "\n",
    "To determine the class of any particular astrophysical source, we currently need lots of observational data. \n",
    "\n",
    "At present, we classify the sources not using just their light curves, but using more detailed follow-up with other telescopes. We use \"spectrographs\" - instruments that, much like a prism, disperse a beam of light, spreading different colors over position - to study astrophysical sources.\n",
    "\n",
    "<center><img width=\"50%\" src=\"media/prism.jpg\"></center>"
   ]
  },
  {
   "cell_type": "markdown",
   "metadata": {
    "slideshow": {
     "slide_type": "-"
    }
   },
   "source": [
    "#### _Figure 6: A prism dispersing light, creating a spectrum, open access jpeg._"
   ]
  },
  {
   "cell_type": "markdown",
   "metadata": {
    "slideshow": {
     "slide_type": "slide"
    }
   },
   "source": [
    "Dispersing the light like this is called \"spectroscopy\", and allows us to look for characteristic atomic signatures from astrophysical sources. "
   ]
  },
  {
   "cell_type": "markdown",
   "metadata": {
    "slideshow": {
     "slide_type": "-"
    }
   },
   "source": [
    "#### _Figure 7: Spectra of different kinds of supernovae, with their atomic signatures labeled, Credit: Daniel Kasen (UC Berkeley)._"
   ]
  },
  {
   "cell_type": "markdown",
   "metadata": {
    "slideshow": {
     "slide_type": "-"
    }
   },
   "source": [
    "<center><img width=\"80%\" src=\"media/SN_Spectra.jpg\"></center>"
   ]
  },
  {
   "cell_type": "markdown",
   "metadata": {
    "slideshow": {
     "slide_type": "slide"
    }
   },
   "source": [
    "This is the most reliable method for determining what a point of light in the night sky actually is, and there's a ton of information you can get from it. \n",
    "\n",
    "You can learn more about it <a href=\"https://ed.ted.com/lessons/how-do-we-study-the-stars-yuan-sen-ting\">here</a>. "
   ]
  },
  {
   "cell_type": "markdown",
   "metadata": {
    "slideshow": {
     "slide_type": "slide"
    }
   },
   "source": [
    "Unfortunately, spectroscopy takes a tremendous amount of telescope time and there aren't enough telescopes in the world _combined_ to keep up with the LSST event rate. "
   ]
  },
  {
   "cell_type": "markdown",
   "metadata": {
    "slideshow": {
     "slide_type": "skip"
    }
   },
   "source": [
    "Additionally, if you remember the video of the supernova, you saw it getting brighter initially and then getting fainter. The light from the supernova explosion changes with time and therefore so to does the spectra. We try to time when we obtain a spectra to be near when the object is brightest, but often we can't schedule a telescope in advance exactly then, and even when we do the weather might not cooperate. If you can't see the stars on a cloudy night, then it's probably not good conditions to try and get a spectra."
   ]
  },
  {
   "cell_type": "markdown",
   "metadata": {
    "slideshow": {
     "slide_type": "skip"
    }
   },
   "source": [
    "Other fields have similar issues - if we wanted to uniquely identify a human being for instance, we could test a DNA sample, but that'd be completely impractical given the number of people we encounter. Largely, we use facial recognition. There's less detailed information available, but you can still use it to identify people you see, and categorize them into family, friends, co-workers, strangers etc."
   ]
  },
  {
   "cell_type": "markdown",
   "metadata": {
    "nbpresent": {
     "id": "cd99255f-d6d0-466b-af79-c9b8b11f842d"
    },
    "slideshow": {
     "slide_type": "slide"
    }
   },
   "source": [
    "We've got to invent new techniques to classify astrophysical sources without using the fingerprint that you'd get from spectroscopy, but using the less detailed information in their light curves - their \"photometry.\"\n",
    "\n",
    "**This is where PLAsTiCC and you come in.**"
   ]
  },
  {
   "cell_type": "markdown",
   "metadata": {
    "slideshow": {
     "slide_type": "slide"
    }
   },
   "source": [
    "### 1d. The PLAsTiCC Challenge: Classifying Astronomical Sources with Light Curves\n",
    "<a id=\"section1d\"></a>\n",
    "\n",
    "PLAsTiCC simulates the light curves that LSST can expect to collect (it doesn't exist yet, so we can't give you real LSST data!). These are complete with realistic time-sampling and noise properties, as well as realistic astrophysical effects for a variety of the sources in the variability tree. "
   ]
  },
  {
   "cell_type": "markdown",
   "metadata": {
    "slideshow": {
     "slide_type": "slide"
    }
   },
   "source": [
    "These sources, even closely related classes, can have light curves that look quite different from each other. "
   ]
  },
  {
   "cell_type": "markdown",
   "metadata": {
    "slideshow": {
     "slide_type": "slide"
    }
   },
   "source": [
    "You saw that different kinds of supernovae have different spectra. \n",
    "This also means that they'll have different light curves. \n",
    "\n",
    "Different rise and fall times, different absolute energies, a different structure of bumps and wiggles. \n",
    "\n",
    "<center><img width=\"70%\" src=\"media/smartt_supernovae_diversity.jpg\"></center>"
   ]
  },
  {
   "cell_type": "markdown",
   "metadata": {
    "nbpresent": {
     "id": "8c1389d8-4921-45d9-b51e-02aaa8e650a5"
    },
    "slideshow": {
     "slide_type": "-"
    }
   },
   "source": [
    "#### _Figure 8: The diversity of Supernovae Light Curves, Credit: Stephen J. Smartt, Queen's University, Belfast, https://www.nature.com/articles/nature11643_"
   ]
  },
  {
   "cell_type": "markdown",
   "metadata": {
    "slideshow": {
     "slide_type": "slide"
    }
   },
   "source": [
    "And these explosive transients can look radically different from the light curves of periodic variables. Take for instance the eclipsing binary system <a href=\"http://simbad.u-strasbg.fr/simbad/sim-id?protocol=html&Ident=Y+Psc&NbIdent=1&Radius=2&Radius.unit=arcmin&submit=submit+id\">Y Piscium</a>. This is an eclipsing binary system (a name which the animation below should help explain) with a light curve that looks like this:\n",
    "\n",
    "<center><img src=\"media/Y_Psc_Animated_LC.gif\"></center>"
   ]
  },
  {
   "cell_type": "markdown",
   "metadata": {
    "slideshow": {
     "slide_type": "-"
    }
   },
   "source": [
    "#### _Figure 9: The light curves of an eclipsing binary system, Credit: AstroLab, Durham University, https://community.dur.ac.uk/physics.astrolab/eclipsing.html_"
   ]
  },
  {
   "cell_type": "markdown",
   "metadata": {
    "nbpresent": {
     "id": "4448a0da-7353-4796-b2b8-02cd627211f1"
    },
    "slideshow": {
     "slide_type": "skip"
    }
   },
   "source": [
    "Now, the exact details of each eclipsing binary system determine the properties of the light curve - how bright each star is, their relative sizes, how fast they orbit each other - but all of these have the same general light curve shape. And of course, depending on the period, the time scale of the variability can be anything from hours to years!"
   ]
  },
  {
   "cell_type": "markdown",
   "metadata": {
    "slideshow": {
     "slide_type": "slide"
    }
   },
   "source": [
    "Other variable stars have very different light curve shapes from eclipsing binaries. Indeed, variable stars were the first example of astronomers using light curve shapes for classification. \n",
    "\n",
    "Here's a hand-drawn illustration of some of the different known types of variable stars from <a href=\"https://archive.org/details/popularsciencemo69newy\">Popular Science Monthly in 1906</a> (page 179).\n",
    "<center><img width=\"80%\" src=\"media/atlas_of_variable_stars.png\"></center>"
   ]
  },
  {
   "cell_type": "markdown",
   "metadata": {
    "slideshow": {
     "slide_type": "-"
    }
   },
   "source": [
    "#### _Figure 10: The Atlas of Variable Stars, Credit: Popular Science Monthly, 1906_"
   ]
  },
  {
   "cell_type": "markdown",
   "metadata": {
    "slideshow": {
     "slide_type": "skip"
    }
   },
   "source": [
    "The variables here (from left to right, top to bottom) are a Mira, an eclipsing binary and \"RR Lyrae\" of type AB and an RR Lyrae of type C. Eclipsing binaries are still called Algol-type stars some times, but note that they look really different from the bottom two panels, and if you look at the x-axis on the horizontal panel, you'll notice that the characteristic time-scale there is much different from the rest of them!"
   ]
  },
  {
   "cell_type": "markdown",
   "metadata": {
    "slideshow": {
     "slide_type": "slide"
    }
   },
   "source": [
    "And you have more information than just the one time-series. "
   ]
  },
  {
   "cell_type": "markdown",
   "metadata": {
    "slideshow": {
     "slide_type": "fragment"
    }
   },
   "source": [
    "If you watched that video of the supernova video carefully, you'll have noticed that there's actually two traces of the brightness - one that covers the optical, and one that covers the infrared. "
   ]
  },
  {
   "cell_type": "markdown",
   "metadata": {
    "slideshow": {
     "slide_type": "fragment"
    }
   },
   "source": [
    "This is because our telescope detectors are sensitive to wavelengths of light well beyond the range our eyes can see. "
   ]
  },
  {
   "cell_type": "markdown",
   "metadata": {
    "slideshow": {
     "slide_type": "fragment"
    }
   },
   "source": [
    "We use optical filters - elements that only permit a certain range of wavelengths to pass through - to measure the brightness in different \"passbands.\" "
   ]
  },
  {
   "cell_type": "markdown",
   "metadata": {
    "nbpresent": {
     "id": "7d3965c8-5ae2-442a-bf90-7de613a76694"
    },
    "slideshow": {
     "slide_type": "fragment"
    }
   },
   "source": [
    "Here's the filter exchanger for the LSST camera (adult human for scale):"
   ]
  },
  {
   "cell_type": "code",
   "execution_count": 3,
   "metadata": {
    "nbpresent": {
     "id": "63b94464-92dd-40c0-bcb6-5625b28e0b1e"
    },
    "slideshow": {
     "slide_type": "slide"
    }
   },
   "outputs": [
    {
     "data": {
      "text/html": [
       "<div align=\"middle\">\n",
       "<video width=\"90%\" controls>\n",
       "      <source src=\"media/LSST_filter_change.mp4\" type=\"video/mp4\">\n",
       "</video>\n",
       "</div>"
      ],
      "text/plain": [
       "<IPython.core.display.HTML object>"
      ]
     },
     "metadata": {},
     "output_type": "display_data"
    }
   ],
   "source": [
    "%%HTML\n",
    "<div align=\"middle\">\n",
    "<video width=\"90%\" controls>\n",
    "      <source src=\"media/LSST_filter_change.mp4\" type=\"video/mp4\">\n",
    "</video>\n",
    "</div>"
   ]
  },
  {
   "cell_type": "markdown",
   "metadata": {
    "nbpresent": {
     "id": "6073a488-ee3b-4fcb-bae4-77710fdf4ae2"
    },
    "slideshow": {
     "slide_type": "-"
    }
   },
   "source": [
    "#### _Figure 11: LSST Filter Exchanger, Credit: LSST Corporation_"
   ]
  },
  {
   "cell_type": "markdown",
   "metadata": {
    "slideshow": {
     "slide_type": "slide"
    }
   },
   "source": [
    "This is a bit like taking a low-resolution spectrum - the light is still being split up and we're getting information about different colors, but it's not as detailed. "
   ]
  },
  {
   "cell_type": "markdown",
   "metadata": {
    "slideshow": {
     "slide_type": "fragment"
    }
   },
   "source": [
    "With a spectrum, you can distinguish absorption and emission lines of atomic lines that are a few \"Angstroms\" across (the symbol for it is an A with the circle on top) - very approximately 10,000 times smaller than the width of an average strange of human hair. "
   ]
  },
  {
   "cell_type": "markdown",
   "metadata": {
    "slideshow": {
     "slide_type": "slide"
    }
   },
   "source": [
    "The advantage is that we taken an image of several 100,000 astrophysical sources through a single filter at the same time. "
   ]
  },
  {
   "cell_type": "markdown",
   "metadata": {
    "slideshow": {
     "slide_type": "fragment"
    }
   },
   "source": [
    "Each filter is giving up a sum of the total amount of light in one small region of the spectrum, so you can't measure atomic lines that are only a few features across anymore, but you can get many more light curves in the time it takes to get one spectrum. "
   ]
  },
  {
   "cell_type": "markdown",
   "metadata": {
    "slideshow": {
     "slide_type": "fragment"
    }
   },
   "source": [
    "Even the biggest spectrographs with optical fibers dedicated to each sources can only manage a few thousand sources at most."
   ]
  },
  {
   "cell_type": "markdown",
   "metadata": {
    "slideshow": {
     "slide_type": "fragment"
    }
   },
   "source": [
    "In addition to taking much longer to collect enough photons to have a statistically significant measurement."
   ]
  },
  {
   "cell_type": "markdown",
   "metadata": {
    "slideshow": {
     "slide_type": "slide"
    }
   },
   "source": [
    "How much light gets through each filter depends not only on the properties of the filter, but really the transmission of everything between the camera and the source - the atmosphere, dust in our galaxy, dust in the galaxy of the source... \n",
    "\n",
    "We refer to the total transmission of each filter as the \"passband\" (and often use the terms interchangeably). "
   ]
  },
  {
   "cell_type": "markdown",
   "metadata": {
    "slideshow": {
     "slide_type": "slide"
    }
   },
   "source": [
    "Each object has observations in every passband (though there may not be significant signal in some passbands - that is also information though). The passbands that LSST will use are called *u, g, r, i, z*, and *Y*. In other words, each object has six time-series you can use for classification. \n",
    "\n",
    "<center><img src=\"media/LSST_passbands.jpg\"></center>"
   ]
  },
  {
   "cell_type": "markdown",
   "metadata": {
    "nbpresent": {
     "id": "4f753bdf-1b34-4c5c-afa6-dd3ddc9d160e"
    },
    "slideshow": {
     "slide_type": "-"
    }
   },
   "source": [
    "#### _Figure 12: The throughput of the LSST passbands with wavelength_"
   ]
  },
  {
   "cell_type": "markdown",
   "metadata": {
    "slideshow": {
     "slide_type": "slide"
    }
   },
   "source": [
    "The training sample is what the entire astronomical community can expect to have before LSST turns on, except where astronomers have a mishmash of observations from different telescopes (something you'll have to deal with if you decide and try to augment it from the literature), you get a nice homogeneous training set. "
   ]
  },
  {
   "cell_type": "markdown",
   "metadata": {
    "slideshow": {
     "slide_type": "fragment"
    }
   },
   "source": [
    "The test set is a version what we expect to have after 3 years of LSST operations. "
   ]
  },
  {
   "cell_type": "markdown",
   "metadata": {
    "slideshow": {
     "slide_type": "fragment"
    }
   },
   "source": [
    "It's much, much bigger than the training set. "
   ]
  },
  {
   "cell_type": "markdown",
   "metadata": {
    "slideshow": {
     "slide_type": "fragment"
    }
   },
   "source": [
    "You'll have to design your algorithm with speed as a consideration. "
   ]
  },
  {
   "cell_type": "markdown",
   "metadata": {
    "slideshow": {
     "slide_type": "fragment"
    }
   },
   "source": [
    "Also, it's not perfectly representative - we can usually only classify the brightest objects we find with spectroscopy, whereas you don't get that luxury! "
   ]
  },
  {
   "cell_type": "markdown",
   "metadata": {
    "slideshow": {
     "slide_type": "slide"
    }
   },
   "source": [
    "You can even expect sources in the test set that aren't even in the training set - we expect to find new classes of objects with LSST that we've never seen before, and we've simulated light curves based on theoretical predictions of how they ought to look!"
   ]
  },
  {
   "cell_type": "markdown",
   "metadata": {
    "slideshow": {
     "slide_type": "slide"
    }
   },
   "source": [
    "**Your mission, should you choose to accept it, is to classify the things that go bump in the night.**"
   ]
  },
  {
   "cell_type": "markdown",
   "metadata": {
    "slideshow": {
     "slide_type": "fragment"
    }
   },
   "source": [
    "You can win prizes, eternal glory, and the satisfaction of knowing that you made a real impact and a valuable contribution to the biggest astrophysical experiment to ever be attempted!"
   ]
  },
  {
   "cell_type": "markdown",
   "metadata": {
    "slideshow": {
     "slide_type": "slide"
    }
   },
   "source": [
    "There's not much time too - LSST is coming up fast. Here's a construction picture from August 2018, and it is looking a lot like the render at the top of this page! \n",
    "\n",
    "<center><img width=\"60%\" src=\"media/LSST_construction.jpg\"></center>"
   ]
  },
  {
   "cell_type": "markdown",
   "metadata": {
    "nbpresent": {
     "id": "b52cae10-93c2-4c86-a92b-025730dbf030"
    },
    "slideshow": {
     "slide_type": "-"
    }
   },
   "source": [
    "#### _Figure 13: The LSST telescope under construction on Cerro Pachon in Chile, Credit: Gianluca Lombardi, Gemini Observatory_\n",
    "\n",
    "***"
   ]
  },
  {
   "cell_type": "markdown",
   "metadata": {
    "nbpresent": {
     "id": "99ea822c-dbfc-4fa7-a106-aebfce425acb"
    },
    "slideshow": {
     "slide_type": "slide"
    }
   },
   "source": [
    "## 2. A Primer on the Dataset - Light Curves\n",
    "<a id=\"section2\"></a>"
   ]
  },
  {
   "cell_type": "markdown",
   "metadata": {
    "slideshow": {
     "slide_type": "slide"
    }
   },
   "source": [
    "We've included some example light curve data along with this notebook to illustrate some of the astrophysical effects you'll encounter in the full data set. "
   ]
  },
  {
   "cell_type": "markdown",
   "metadata": {
    "slideshow": {
     "slide_type": "fragment"
    }
   },
   "source": [
    "This example data is simpler than the real data - it has only four of the six passbands, and different properties from the full sample, so that the signal is more obvious, and only a few classes. "
   ]
  },
  {
   "cell_type": "markdown",
   "metadata": {
    "slideshow": {
     "slide_type": "fragment"
    }
   },
   "source": [
    "This will make it easier to work with and highlight some of the issues you'll encounter will the full dataset."
   ]
  },
  {
   "cell_type": "markdown",
   "metadata": {
    "nbpresent": {
     "id": "b144fac1-5b01-441f-b89a-8b52e19b713e"
    },
    "slideshow": {
     "slide_type": "skip"
    }
   },
   "source": [
    "The other reason why this is using example data and not the training data supplied with the challenge is that we've identified the target classes in the challenge with simple random integers. This should help reduce astronomer's advantage of domain knowledge - astronomers will have to identify which class corresponds to which integers before they can take advantage of their understanding of the properties of different classes. Most astronomers only specialize in a few kinds of objects though, so even their domain knowledge isn't complete. "
   ]
  },
  {
   "cell_type": "markdown",
   "metadata": {
    "slideshow": {
     "slide_type": "fragment"
    }
   },
   "source": [
    "Lets begin by looking at the format of the light curve and explaining what the columns are (we'll get to the header in Section 3):"
   ]
  },
  {
   "cell_type": "code",
   "execution_count": 4,
   "metadata": {
    "nbpresent": {
     "id": "8d65ff80-af34-4ddc-afba-b9874ac23e02"
    },
    "slideshow": {
     "slide_type": "slide"
    }
   },
   "outputs": [
    {
     "data": {
      "text/html": [
       "<i>Table length=117</i>\n",
       "<table id=\"table4503190384\" class=\"table-striped table-bordered table-condensed\">\n",
       "<thead><tr><th>object_id</th><th>mjd</th><th>passband</th><th>flux</th><th>flux_err</th><th>detected_bool</th></tr></thead>\n",
       "<thead><tr><th>int64</th><th>float64</th><th>int64</th><th>float64</th><th>float64</th><th>int64</th></tr></thead>\n",
       "<tr><td>10</td><td>56210.172</td><td>1</td><td>5.659</td><td>3.7</td><td>1</td></tr>\n",
       "<tr><td>10</td><td>56210.188</td><td>2</td><td>21.32</td><td>3.245</td><td>1</td></tr>\n",
       "<tr><td>10</td><td>56210.203</td><td>3</td><td>13.28</td><td>3.221</td><td>1</td></tr>\n",
       "<tr><td>10</td><td>56210.234</td><td>4</td><td>9.579</td><td>3.85</td><td>1</td></tr>\n",
       "<tr><td>10</td><td>56218.172</td><td>1</td><td>49.22</td><td>1.654</td><td>1</td></tr>\n",
       "<tr><td>10</td><td>56218.191</td><td>2</td><td>114.6</td><td>2.376</td><td>1</td></tr>\n",
       "<tr><td>10</td><td>56218.211</td><td>3</td><td>88.85</td><td>2.261</td><td>1</td></tr>\n",
       "<tr><td>10</td><td>56219.156</td><td>4</td><td>75.01</td><td>2.394</td><td>1</td></tr>\n",
       "<tr><td>10</td><td>56221.273</td><td>1</td><td>62.28</td><td>4.17</td><td>1</td></tr>\n",
       "<tr><td>10</td><td>56221.281</td><td>2</td><td>126.6</td><td>6.115</td><td>1</td></tr>\n",
       "<tr><td>...</td><td>...</td><td>...</td><td>...</td><td>...</td><td>...</td></tr>\n",
       "<tr><td>10</td><td>56318.109</td><td>3</td><td>24.8</td><td>2.825</td><td>1</td></tr>\n",
       "<tr><td>10</td><td>56318.141</td><td>4</td><td>21.88</td><td>3.006</td><td>1</td></tr>\n",
       "<tr><td>10</td><td>56321.09</td><td>1</td><td>2.743</td><td>6.631</td><td>1</td></tr>\n",
       "<tr><td>10</td><td>56321.098</td><td>2</td><td>10.24</td><td>2.903</td><td>1</td></tr>\n",
       "<tr><td>10</td><td>56321.109</td><td>3</td><td>23.41</td><td>3.438</td><td>1</td></tr>\n",
       "<tr><td>10</td><td>56321.141</td><td>4</td><td>28.58</td><td>3.008</td><td>1</td></tr>\n",
       "<tr><td>10</td><td>56332.039</td><td>1</td><td>2.939</td><td>1.467</td><td>1</td></tr>\n",
       "<tr><td>10</td><td>56332.051</td><td>2</td><td>14.87</td><td>1.025</td><td>1</td></tr>\n",
       "<tr><td>10</td><td>56332.07</td><td>3</td><td>23.66</td><td>1.653</td><td>1</td></tr>\n",
       "<tr><td>10</td><td>56332.094</td><td>4</td><td>26.18</td><td>2.626</td><td>1</td></tr>\n",
       "</table>"
      ],
      "text/plain": [
       "<Table length=117>\n",
       "object_id    mjd    passband   flux  flux_err detected_bool\n",
       "  int64    float64   int64   float64 float64      int64    \n",
       "--------- --------- -------- ------- -------- -------------\n",
       "       10 56210.172        1   5.659      3.7             1\n",
       "       10 56210.188        2   21.32    3.245             1\n",
       "       10 56210.203        3   13.28    3.221             1\n",
       "       10 56210.234        4   9.579     3.85             1\n",
       "       10 56218.172        1   49.22    1.654             1\n",
       "       10 56218.191        2   114.6    2.376             1\n",
       "       10 56218.211        3   88.85    2.261             1\n",
       "       10 56219.156        4   75.01    2.394             1\n",
       "       10 56221.273        1   62.28     4.17             1\n",
       "       10 56221.281        2   126.6    6.115             1\n",
       "      ...       ...      ...     ...      ...           ...\n",
       "       10 56318.109        3    24.8    2.825             1\n",
       "       10 56318.141        4   21.88    3.006             1\n",
       "       10  56321.09        1   2.743    6.631             1\n",
       "       10 56321.098        2   10.24    2.903             1\n",
       "       10 56321.109        3   23.41    3.438             1\n",
       "       10 56321.141        4   28.58    3.008             1\n",
       "       10 56332.039        1   2.939    1.467             1\n",
       "       10 56332.051        2   14.87    1.025             1\n",
       "       10  56332.07        3   23.66    1.653             1\n",
       "       10 56332.094        4   26.18    2.626             1"
      ]
     },
     "execution_count": 4,
     "metadata": {},
     "output_type": "execute_result"
    }
   ],
   "source": [
    "obj1 = Table.read('data/fake010.csv', format='csv')\n",
    "obj1"
   ]
  },
  {
   "cell_type": "markdown",
   "metadata": {
    "slideshow": {
     "slide_type": "slide"
    }
   },
   "source": [
    "The first of the columns is just the `object_id`. In the real data, you'll get many objects in the same CSV, and you'll need some way of getting all the observations for one object. `object_id` gives you that index."
   ]
  },
  {
   "cell_type": "markdown",
   "metadata": {
    "slideshow": {
     "slide_type": "slide"
    }
   },
   "source": [
    "### 2a. Time\n",
    "<a id=\"section2a\"></a>\n",
    "\n",
    "\n",
    "The second column, labeled `mjd`, is the time that LSST took an image. More on why it is called this later. First, you should get a sense for how what the pattern of LSST observations is."
   ]
  },
  {
   "cell_type": "markdown",
   "metadata": {
    "slideshow": {
     "slide_type": "slide"
    }
   },
   "source": [
    "On any given night, LSST will begin by taking a picture of one patch for 15--30 seconds long (the results from PLAsTiCC might help decide this!)."
   ]
  },
  {
   "cell_type": "markdown",
   "metadata": {
    "slideshow": {
     "slide_type": "fragment"
    }
   },
   "source": [
    "This is followed by a gap of 30 minutes -- 2 hours (the results from PLAsTiCC might help decide this too!) where the telescope looks at other patches of sky, before coming back to the original patch of sky."
   ]
  },
  {
   "cell_type": "markdown",
   "metadata": {
    "slideshow": {
     "slide_type": "fragment"
    }
   },
   "source": [
    "It will then take another 15--30 second picture. "
   ]
  },
  {
   "cell_type": "markdown",
   "metadata": {
    "slideshow": {
     "slide_type": "fragment"
    }
   },
   "source": [
    "The data from these two images on the same night are combined to remove spurious glitches like cosmic rays, asteroids, airplane contrails etc."
   ]
  },
  {
   "cell_type": "markdown",
   "metadata": {
    "slideshow": {
     "slide_type": "fragment"
    }
   },
   "source": [
    "LSST will then come back to the same patch of sky, the next night, but it will take the picture in a different passband. "
   ]
  },
  {
   "cell_type": "markdown",
   "metadata": {
    "slideshow": {
     "slide_type": "fragment"
    }
   },
   "source": [
    "LSST will repeat this cycle, returning to the original filter on the original patch of sky 1--2 weeks later. "
   ]
  },
  {
   "cell_type": "markdown",
   "metadata": {
    "slideshow": {
     "slide_type": "slide"
    }
   },
   "source": [
    "This pattern of how a telescope observes the night sky is called the \"cadence\" and it has a large effect on how well the light curve of an astrophysical source is sampled. "
   ]
  },
  {
   "cell_type": "markdown",
   "metadata": {
    "slideshow": {
     "slide_type": "fragment"
    }
   },
   "source": [
    "Because the characteristic times that we conduct our observations on is a day (we can't observe when the sun is up after all!), we measure time in units of decimal day. "
   ]
  },
  {
   "cell_type": "markdown",
   "metadata": {
    "slideshow": {
     "slide_type": "fragment"
    }
   },
   "source": [
    "The specific time format we will use in PLAsTiCC is called the Modified Julian Date (MJD) - simply the number of decimal days from midnight on November 17, 1858. "
   ]
  },
  {
   "cell_type": "markdown",
   "metadata": {
    "slideshow": {
     "slide_type": "skip"
    }
   },
   "source": [
    "(Historical parenthetical: the Smithsonian Astrophysical Observatory modified the original Julian Date which began counting from noon on Jan 1, 4713 BC when the Soviet Sputnik launched. The SAO needed a way to keep track of Sputnik's orbits but the reference for the Julian date was so far in the past that the numbers were too large for their VAX/VMS system to handle. So they did the simple thing and made the reference date of the VAX/VMS system the same as the reference date for the modified Julian date, and consequently, most of astronomy. This date is conveniently 2400000.5 - the extra 0.5 because the VAX reference starts at midnight, while the Julian Date starts from noon.)"
   ]
  },
  {
   "cell_type": "markdown",
   "metadata": {
    "slideshow": {
     "slide_type": "slide"
    }
   },
   "source": [
    "If you want another time format like UNIX time (which counts decimal seconds from a reference date of Jan 1st, 1970), then it's easy to convert between the two. \n",
    "\n",
    "The UNIX epoch in MJD is 40587 (or JD 2440587.5), so you'd use:\n",
    "\n",
    "$$\\textrm{UNIX time} = (\\textrm{MJD} - 40587) \\times 86400$$\n",
    "\n",
    "where 86400 is the number of seconds in 24 hours."
   ]
  },
  {
   "cell_type": "markdown",
   "metadata": {
    "slideshow": {
     "slide_type": "slide"
    }
   },
   "source": [
    "### 2b. Passband\n",
    "<a id=\"section2b\"></a>\n",
    "\n",
    "The next column, labeled `passband` tells you the passband that the observation at time `mjd` was taken. "
   ]
  },
  {
   "cell_type": "markdown",
   "metadata": {
    "nbpresent": {
     "id": "df1626e3-77e6-441c-a3a2-017b2f8c43ee"
    },
    "slideshow": {
     "slide_type": "fragment"
    }
   },
   "source": [
    "We've mapped the passband names to integers, but the mapping is straightforward:\n",
    "\n",
    "$$ \\{ u \\rightarrow 0,~g \\rightarrow 1,~r \\rightarrow 2,~i \\rightarrow 3,~z \\rightarrow 4,~Y \\rightarrow 5 \\} $$"
   ]
  },
  {
   "cell_type": "markdown",
   "metadata": {
    "slideshow": {
     "slide_type": "fragment"
    }
   },
   "source": [
    "You probably guessed as much looking at Figure 10, but $u$ covers the ultraviolet, $g$ covers what your eye perceives as blue/green, $r$ covers red, $i$ covers the infrared. "
   ]
  },
  {
   "cell_type": "markdown",
   "metadata": {
    "slideshow": {
     "slide_type": "fragment"
    }
   },
   "source": [
    "I'm not even going to pretend that $z$ and $Y$ have good reasons to be named what they are. "
   ]
  },
  {
   "cell_type": "markdown",
   "metadata": {
    "slideshow": {
     "slide_type": "fragment"
    }
   },
   "source": [
    "Unlike other multi-channel time-series data, you do not get all the other channels or passbands at once. There's only one filter in front of the camera at any time."
   ]
  },
  {
   "cell_type": "markdown",
   "metadata": {
    "slideshow": {
     "slide_type": "skip"
    }
   },
   "source": [
    "(Historical parenthetical: See <a href=\"http://articles.adsabs.harvard.edu/cgi-bin/nph-iarticle_query?2008JAVSO..36..110M&amp;data_type=PDF_HIGH&amp;whole_paper=YES&amp;type=PRINTER&amp;filetype=.pdf\">Milone and Young, 2008</a>, Sec. 5)"
   ]
  },
  {
   "cell_type": "markdown",
   "metadata": {
    "slideshow": {
     "slide_type": "slide"
    }
   },
   "source": [
    "### 2c. Flux and Flux Error\n",
    "<a id=\"section2c\"></a>\n",
    "\n",
    "The last two columns in this file are named `flux` contains the actual photometry - the measurements of brightness of this source as a function of time. "
   ]
  },
  {
   "cell_type": "markdown",
   "metadata": {
    "slideshow": {
     "slide_type": "fragment"
    }
   },
   "source": [
    "The 68% confidence interval of the measurement is in the `flux_err` column. "
   ]
  },
  {
   "cell_type": "markdown",
   "metadata": {
    "slideshow": {
     "slide_type": "fragment"
    }
   },
   "source": [
    "It's worth noting that while astrophysical sources have to emit enough light to be brighter than the background sky (more or less the definition of what a source is), the flux can be positive or negative."
   ]
  },
  {
   "cell_type": "markdown",
   "metadata": {
    "slideshow": {
     "slide_type": "fragment"
    }
   },
   "source": [
    "This is because of how we actually detect these sources against a background. "
   ]
  },
  {
   "cell_type": "markdown",
   "metadata": {
    "slideshow": {
     "slide_type": "slide"
    }
   },
   "source": [
    "LSST will have a reference image for each position on the sky - called a \"template\". "
   ]
  },
  {
   "cell_type": "markdown",
   "metadata": {
    "slideshow": {
     "slide_type": "fragment"
    }
   },
   "source": [
    "Each image it takes of a particular region is differenced with the template. "
   ]
  },
  {
   "cell_type": "markdown",
   "metadata": {
    "slideshow": {
     "slide_type": "fragment"
    }
   },
   "source": [
    "As a result, sources that are the same brightness as the template are near 0, while sources can be fainter than the template. "
   ]
  },
  {
   "cell_type": "markdown",
   "metadata": {
    "slideshow": {
     "slide_type": "skip"
    }
   },
   "source": [
    "(for e.g. like the eclipsing binary above, if the template was near the background flux level of the star), or brighter than the template (such as the supernova). "
   ]
  },
  {
   "cell_type": "markdown",
   "metadata": {
    "slideshow": {
     "slide_type": "slide"
    }
   },
   "source": [
    "Here's how that looks:\n",
    "\n",
    "<center><img src=\"media/2007-X-025_R.PS.png\"></center>\n",
    "<center><img src=\"media/2007-X-025_I.PS.png\"></center>"
   ]
  },
  {
   "cell_type": "markdown",
   "metadata": {
    "slideshow": {
     "slide_type": "-"
    }
   },
   "source": [
    "#### _Figure 14: Difference Imaging \"Postage Stamps\" (Reference, Image, Difference)_"
   ]
  },
  {
   "cell_type": "markdown",
   "metadata": {
    "slideshow": {
     "slide_type": "fragment"
    }
   },
   "source": [
    "The template image in the left panels is from 2004, while the \"current\" images are from 2007. The third panel has the difference between the two - and you can see there's some light left over near the fuzzy galaxy. The two rows correspond to roughly the $r$ filter and the $i$ filter. "
   ]
  },
  {
   "cell_type": "markdown",
   "metadata": {
    "slideshow": {
     "slide_type": "slide"
    }
   },
   "source": [
    "You can see the properties of the two sets of images are different. There's a much higher background in the bottom row thanks to a bright source off to the top right. This particular source was a supernova, but the same technique can be used to identify all manner of variable and transient sources in astronomical images."
   ]
  },
  {
   "cell_type": "markdown",
   "metadata": {
    "nbpresent": {
     "id": "95f13cf1-5956-4b5d-a40e-dae6c52f8ee6"
    },
    "slideshow": {
     "slide_type": "fragment"
    }
   },
   "source": [
    "Because of this difference imaging techniques, objects have to have changed significantly with respect to the template to be detected by LSST. Whether or not they were detected with respect to the template is reported as `detected_bool`."
   ]
  },
  {
   "cell_type": "markdown",
   "metadata": {
    "slideshow": {
     "slide_type": "slide"
    }
   },
   "source": [
    "## 3. Exploring the Light Curves\n",
    "<a id=\"section3\"></a>\n",
    "\n",
    "To get a better sense of what the `flux` and `flux_err` look like, let's take a look at some of their light curves."
   ]
  },
  {
   "cell_type": "markdown",
   "metadata": {
    "nbpresent": {
     "id": "1fe8a6e9-5eba-4ab1-a2ca-7888f3275dde"
    },
    "slideshow": {
     "slide_type": "skip"
    }
   },
   "source": [
    "We'll begin by define a class to handle this example, with a few illustrative features you can use for classification:"
   ]
  },
  {
   "cell_type": "code",
   "execution_count": 5,
   "metadata": {
    "nbpresent": {
     "id": "9d5ae1ff-bcc0-42a8-b366-38703a122397"
    },
    "slideshow": {
     "slide_type": "skip"
    }
   },
   "outputs": [],
   "source": [
    "import os\n",
    "import numpy as np\n",
    "import scipy.stats as spstat\n",
    "import matplotlib.pyplot as plt\n",
    "from collections import OrderedDict\n",
    "\n",
    "%matplotlib notebook"
   ]
  },
  {
   "cell_type": "code",
   "execution_count": 6,
   "metadata": {
    "nbpresent": {
     "id": "233e0dfe-c579-42b2-ab56-3b1e83492c6b"
    },
    "slideshow": {
     "slide_type": "skip"
    }
   },
   "outputs": [],
   "source": [
    "class LightCurve(object):\n",
    "    '''Light curve object for PLAsTiCC formatted data'''\n",
    "    \n",
    "    _passbands = OrderedDict([(0,'C4'),\\\n",
    "                              (1,'C2'),\\\n",
    "                              (2,'C3'),\\\n",
    "                              (3,'C1'),\\\n",
    "                              (4,'k'),\\\n",
    "                              (5,'C5')])\n",
    "    \n",
    "    _pbnames = ['u','g','r','i','z','Y']\n",
    "    \n",
    "    def __init__(self, filename):\n",
    "        '''Read in light curve data'''\n",
    "\n",
    "        self.DFlc     = Table.read(filename, format='ascii.csv')\n",
    "        self.filename = filename.replace('.csv','')\n",
    "        self._finalize()\n",
    "     \n",
    "    # this is some simple code to demonstrate how to calculate features on these multiband light curves\n",
    "    # we're not suggesting using these features specifically\n",
    "    # there also might be additional pre-processing you do before computing anything\n",
    "    # it's purely for illustration\n",
    "    def _finalize(self):\n",
    "        '''Store individual passband fluxes as object attributes'''\n",
    "        # in this example, we'll use the weighted mean to normalize the features\n",
    "        weighted_mean = lambda flux, dflux: np.sum(flux*(flux/dflux)**2)/np.sum((flux/dflux)**2)\n",
    "        \n",
    "        # define some functions to compute simple descriptive statistics\n",
    "        normalized_flux_std = lambda flux, wMeanFlux: np.std(flux/wMeanFlux, ddof = 1)\n",
    "        normalized_amplitude = lambda flux, wMeanFlux: (np.max(flux) - np.min(flux))/wMeanFlux\n",
    "        normalized_MAD = lambda flux, wMeanFlux: np.median(np.abs((flux - np.median(flux))/wMeanFlux))\n",
    "        beyond_1std = lambda flux, wMeanFlux: sum(np.abs(flux - wMeanFlux) > np.std(flux, ddof = 1))/len(flux)\n",
    "        \n",
    "        for pb in self._passbands:\n",
    "            ind = self.DFlc['passband'] == pb\n",
    "            pbname = self._pbnames[pb]\n",
    "            \n",
    "            if len(self.DFlc[ind]) == 0:\n",
    "                setattr(self, f'{pbname}Std', np.nan)\n",
    "                setattr(self, f'{pbname}Amp', np.nan)\n",
    "                setattr(self, f'{pbname}MAD', np.nan)\n",
    "                setattr(self, f'{pbname}Beyond', np.nan)\n",
    "                setattr(self, f'{pbname}Skew', np.nan)\n",
    "                continue\n",
    "            \n",
    "            f  = self.DFlc['flux'][ind]\n",
    "            df = self.DFlc['flux_err'][ind]\n",
    "            m  = weighted_mean(f, df)\n",
    "            \n",
    "            # we'll save the measurements in each passband to simplify access.\n",
    "            setattr(self, f'{pbname}Flux', f)\n",
    "            setattr(self, f'{pbname}FluxUnc', df)\n",
    "            setattr(self, f'{pbname}Mean', m)\n",
    "            \n",
    "            # compute the features\n",
    "            std = normalized_flux_std(f, df)\n",
    "            amp = normalized_amplitude(f, m)\n",
    "            mad = normalized_MAD(f, m)\n",
    "            beyond = beyond_1std(f, m)\n",
    "            skew = spstat.skew(f) \n",
    "            \n",
    "            # and save the features\n",
    "            setattr(self, f'{pbname}Std', std)\n",
    "            setattr(self, f'{pbname}Amp', amp)\n",
    "            setattr(self, f'{pbname}MAD', mad)\n",
    "            setattr(self, f'{pbname}Beyond', beyond)\n",
    "            setattr(self, f'{pbname}Skew', skew)\n",
    "        \n",
    "        # we can also construct features between passbands\n",
    "        pbs = list(self._passbands.keys())\n",
    "        for i, lpb in enumerate(pbs[0:-1]):\n",
    "            rpb = pbs[i+1]\n",
    "            \n",
    "            lpbname = self._pbnames[lpb]\n",
    "            rpbname = self._pbnames[rpb]\n",
    "            \n",
    "            colname = '{}Minus{}'.format(lpbname, rpbname.upper())\n",
    "            lMean = getattr(self, f'{lpbname}Mean', np.nan)\n",
    "            rMean = getattr(self, f'{rpbname}Mean', np.nan)\n",
    "            col = -2.5*np.log10(lMean/rMean) if lMean> 0 and rMean > 0 else -999\n",
    "            setattr(self, colname, col)\n",
    "    \n",
    "    # this is a simple routine to visualize a light curve\n",
    "    # it can plot vs the MJD array of the light curve\n",
    "    # or vs an optional `phase` array that you pass \n",
    "    def plot_multicolor_lc(self, phase=None):\n",
    "        '''Plot the multiband light curve'''\n",
    "\n",
    "        fig, ax = plt.subplots(figsize=(8,6))\n",
    "\n",
    "        \n",
    "        if phase is None:\n",
    "            phase = []\n",
    "        if len(phase) != len(self.DFlc):\n",
    "            phase = self.DFlc['mjd']\n",
    "            xlabel = 'MJD'\n",
    "        else:\n",
    "            xlabel = 'Phase'\n",
    "            \n",
    "        for i, pb in enumerate(self._passbands):\n",
    "            pbname = self._pbnames[pb]\n",
    "            ind = self.DFlc['passband'] == pb\n",
    "            if len(self.DFlc[ind]) == 0:\n",
    "                continue\n",
    "            ax.errorbar(phase[ind], \n",
    "                     self.DFlc['flux'][ind],\n",
    "                     self.DFlc['flux_err'][ind],\n",
    "                     fmt = 'o', color = self._passbands[pb], label = f'{pbname}')\n",
    "        ax.legend(ncol = 4, frameon = True)\n",
    "        ax.set_xlabel(f'{xlabel}', fontsize='large')\n",
    "        ax.set_ylabel('Flux', fontsize='large')\n",
    "        fig.suptitle(self.filename, fontsize='x-large')\n",
    "        fig.tight_layout(rect=[0, 0, 1, 0.97])\n",
    "    \n",
    "    def get_features(self):\n",
    "        '''Return all the features for this object'''\n",
    "        variables = ['Std', 'Amp', 'MAD', 'Beyond', 'Skew']\n",
    "        feats = []\n",
    "        for i, pb in enumerate(self._passbands):\n",
    "            pbname = self._pbnames[pb]\n",
    "            feats += [getattr(self, f'{pbname}{x}', np.nan) for x in variables]\n",
    "        return feats"
   ]
  },
  {
   "cell_type": "markdown",
   "metadata": {
    "slideshow": {
     "slide_type": "slide"
    }
   },
   "source": [
    "Some of the light curves in the training set should already look familiar - this is a type Ia supernova - like SN1998bu in the animation. "
   ]
  },
  {
   "cell_type": "code",
   "execution_count": 7,
   "metadata": {
    "nbpresent": {
     "id": "84797026-4473-47dd-ac31-082c0759dca5"
    },
    "slideshow": {
     "slide_type": "fragment"
    }
   },
   "outputs": [
    {
     "data": {
      "image/png": "[encoded data removed]",
      "text/plain": [
       "<Figure size 576x432 with 1 Axes>"
      ]
     },
     "metadata": {},
     "output_type": "display_data"
    }
   ],
   "source": [
    "lc = LightCurve('data/fake010.csv')\n",
    "lc.plot_multicolor_lc()"
   ]
  },
  {
   "cell_type": "markdown",
   "metadata": {
    "slideshow": {
     "slide_type": "-"
    }
   },
   "source": [
    "#### *Figure 15: The light curve of FAKE010 - a supernova, Credit: Richard Kessler (University of Chicago), <a href=\"http://adsabs.harvard.edu/abs/2010PASP..122.1415K\">SNPhotCC</a>*"
   ]
  },
  {
   "cell_type": "markdown",
   "metadata": {
    "slideshow": {
     "slide_type": "fragment"
    }
   },
   "source": [
    "You might look at something like this light curve, and try to estimate something like a full-width at half maximum to determine a time-scale. "
   ]
  },
  {
   "cell_type": "markdown",
   "metadata": {
    "nbpresent": {
     "id": "d593a449-c884-4790-a4eb-cc89872764d6"
    },
    "slideshow": {
     "slide_type": "slide"
    }
   },
   "source": [
    "That wouldn't be a bad idea for type Ia supernovae, but of course not everything in the dataset is a supernova..."
   ]
  },
  {
   "cell_type": "code",
   "execution_count": 8,
   "metadata": {
    "nbpresent": {
     "id": "12fe61b3-b5f8-4cc2-8f58-eb930306f950"
    },
    "slideshow": {
     "slide_type": "slide"
    }
   },
   "outputs": [
    {
     "data": {
      "image/png": "[encoded data removed]",
      "text/plain": [
       "<Figure size 576x432 with 1 Axes>"
      ]
     },
     "metadata": {},
     "output_type": "display_data"
    }
   ],
   "source": [
    "lc = LightCurve('data/fake030.csv')\n",
    "lc.plot_multicolor_lc()"
   ]
  },
  {
   "cell_type": "markdown",
   "metadata": {
    "slideshow": {
     "slide_type": "-"
    }
   },
   "source": [
    "#### _Figure 16: The ligt curve of FAKE030 - looks a bit more messy. Credit: Abhijit Saha (NOAO)_\n",
    "\n",
    "This object for instance is something very different - it's a variable star. It's got a characteristic time scale, but you wouldn't know it from a simple light curve plot."
   ]
  },
  {
   "cell_type": "markdown",
   "metadata": {
    "nbpresent": {
     "id": "3ff5aa2b-f582-44ab-9552-54c6f9c512ba"
    },
    "slideshow": {
     "slide_type": "slide"
    }
   },
   "source": [
    "We can use a Fourier technique known as the Lomb-Scargle Periodogram to estimate the characteristic scale, at least given some search range."
   ]
  },
  {
   "cell_type": "code",
   "execution_count": 9,
   "metadata": {
    "nbpresent": {
     "id": "38cc8bd3-7ed0-4fb0-8234-63b9e147ca31"
    },
    "slideshow": {
     "slide_type": "skip"
    }
   },
   "outputs": [],
   "source": [
    "from gatspy.periodic import LombScargleMultiband"
   ]
  },
  {
   "cell_type": "code",
   "execution_count": 10,
   "metadata": {
    "nbpresent": {
     "id": "dee7fd9a-43d4-4233-bfa7-f27cad3a6756"
    },
    "slideshow": {
     "slide_type": "skip"
    }
   },
   "outputs": [
    {
     "name": "stdout",
     "output_type": "stream",
     "text": [
      "Finding optimal frequency:\n",
      " - Estimated peak width = 0.00906\n",
      " - Using 5 steps per peak; omega_step = 0.00181\n",
      " - User-specified period range:  0.1 to 10\n",
      " - Computing periods at 34317 steps\n",
      "Zooming-in on 5 candidate peaks:\n",
      " - Computing periods at 995 steps\n",
      "data/fake030 has a period of 0.43305791539072674 days\n"
     ]
    }
   ],
   "source": [
    "model = LombScargleMultiband(fit_period=True)\n",
    "\n",
    "# we'll window the search range by setting minimums and maximums here\n",
    "# but in general, the search range you want to evaluate will depend on the data\n",
    "# and you will not be able to window like this unless you know something about\n",
    "# the class of the object a priori\n",
    "t_min = max(np.median(np.diff(sorted(lc.DFlc['mjd']))), 0.1)\n",
    "t_max = min(10., (lc.DFlc['mjd'].max() - lc.DFlc['mjd'].min())/2.)\n",
    "\n",
    "model.optimizer.set(period_range=(t_min, t_max), first_pass_coverage=5)\n",
    "model.fit(lc.DFlc['mjd'], lc.DFlc['flux'], dy=lc.DFlc['flux_err'], filts=lc.DFlc['passband'])\n",
    "period = model.best_period\n",
    "print(f'{lc.filename} has a period of {period} days')"
   ]
  },
  {
   "cell_type": "markdown",
   "metadata": {
    "slideshow": {
     "slide_type": "skip"
    }
   },
   "source": [
    "Takes a while eh... you could narrow the search range a bit, if you knew something about the astrophysical class of the object of interest... which is what you want to determine."
   ]
  },
  {
   "cell_type": "markdown",
   "metadata": {
    "slideshow": {
     "slide_type": "skip"
    }
   },
   "source": [
    "Still it's a fairly reliable way to extract a period from an irregularly sampled recurring time-series. "
   ]
  },
  {
   "cell_type": "markdown",
   "metadata": {
    "nbpresent": {
     "id": "e3aa63d2-7e78-484a-9538-aa46909fc1a6"
    },
    "slideshow": {
     "slide_type": "slide"
    }
   },
   "source": [
    "Folding the observations to this period takes that noisy time-series and shows you some of the structure in the data. \n",
    "\n",
    "If you look at the light curve below and compare it to the hand drawn diagram of variable stars from 1906, bearing in mind that it's period is a bit less than 12 hours, you should be able to classify it pretty easily."
   ]
  },
  {
   "cell_type": "code",
   "execution_count": 11,
   "metadata": {
    "nbpresent": {
     "id": "241a12f0-8c15-42e6-93c0-9c5a1e25dcaa"
    },
    "slideshow": {
     "slide_type": "-"
    }
   },
   "outputs": [
    {
     "data": {
      "image/png": "[encoded data removed]",
      "text/plain": [
       "<Figure size 576x432 with 1 Axes>"
      ]
     },
     "metadata": {},
     "output_type": "display_data"
    }
   ],
   "source": [
    "phase = (lc.DFlc['mjd'] /period) % 1\n",
    "lc.plot_multicolor_lc(phase=phase)"
   ]
  },
  {
   "cell_type": "markdown",
   "metadata": {
    "slideshow": {
     "slide_type": "-"
    }
   },
   "source": [
    "#### _Figure 17: The \"folded\" light curve of FAKE030, after determining a period using the Lomb-Scargle algorithm_"
   ]
  },
  {
   "cell_type": "markdown",
   "metadata": {
    "slideshow": {
     "slide_type": "slide"
    }
   },
   "source": [
    "This folded curve is suitable for feature extraction, but we don't a priori know what objects have periodic structure and which ones don't. "
   ]
  },
  {
   "cell_type": "markdown",
   "metadata": {
    "slideshow": {
     "slide_type": "fragment"
    }
   },
   "source": [
    "Also, some classes of objects exhibit stochastic variability - they don't repeat periodically, but they do change more on some time scales than others. "
   ]
  },
  {
   "cell_type": "markdown",
   "metadata": {
    "slideshow": {
     "slide_type": "fragment"
    }
   },
   "source": [
    "Active galactic nucleii - massive black holes surrounded by hot dust and gas at the centers of galaxies - exhibit this kind of behavior."
   ]
  },
  {
   "cell_type": "markdown",
   "metadata": {
    "slideshow": {
     "slide_type": "fragment"
    }
   },
   "source": [
    "Still, you might look at the RR Lyrae and supernova light curve and conclude that extracting information about shape and the relative strengths of the signal in different passbands is a promising way to encode the information on each object... "
   ]
  },
  {
   "cell_type": "markdown",
   "metadata": {
    "slideshow": {
     "slide_type": "fragment"
    }
   },
   "source": [
    "...and would be useful for classification. "
   ]
  },
  {
   "cell_type": "markdown",
   "metadata": {
    "slideshow": {
     "slide_type": "fragment"
    }
   },
   "source": [
    "And you'd be right! "
   ]
  },
  {
   "cell_type": "markdown",
   "metadata": {
    "nbpresent": {
     "id": "c9695847-347a-4def-a778-9e34fb236a6e"
    },
    "slideshow": {
     "slide_type": "slide"
    }
   },
   "source": [
    "But there's another astrophysical effect that affects the determination of time scales and colors, and this one has nothing to do with the nature of the object - what it is - but rather, *where* it is."
   ]
  },
  {
   "cell_type": "markdown",
   "metadata": {
    "nbpresent": {
     "id": "ad0703e9-0909-488d-a584-4c9de29c3d9a"
    },
    "slideshow": {
     "slide_type": "slide"
    }
   },
   "source": [
    "## 4. Primer cont'd - Metadata Provided with Light Curves\n",
    "<a id=\"section4\"></a>"
   ]
  },
  {
   "cell_type": "markdown",
   "metadata": {
    "slideshow": {
     "slide_type": "slide"
    }
   },
   "source": [
    "Real astrophysical data is from sources on the sky, which means that we normally have contextual information in addition to the light curve to help with classification - if a source is near a galaxy or if it is isolated for instance."
   ]
  },
  {
   "cell_type": "markdown",
   "metadata": {
    "slideshow": {
     "slide_type": "fragment"
    }
   },
   "source": [
    "With PLAsTiCC, since we're simulating the time series, we don't have the full breadth of this contextual information. "
   ]
  },
  {
   "cell_type": "markdown",
   "metadata": {
    "slideshow": {
     "slide_type": "fragment"
    }
   },
   "source": [
    "We can't really simulate it from previous surveys, because none of them achieve the same sort of signal-to-noise that LSST will - one of the big motivations for building LSST in the first place.   "
   ]
  },
  {
   "cell_type": "markdown",
   "metadata": {
    "nbpresent": {
     "id": "303d20e7-e53b-4f0e-8c12-75c8b7a5eee1"
    },
    "slideshow": {
     "slide_type": "slide"
    }
   },
   "source": [
    "While we can't give you all the contextual information, we do provide some metadata - a few essential elements that you _may_ want to use to augment the features extracted directly from the light curves (this has pluses and minuses). \n",
    "\n",
    "Let's start by taking a look at the metadata table (a stub of which is provided with the starter kit)"
   ]
  },
  {
   "cell_type": "code",
   "execution_count": 12,
   "metadata": {
    "nbpresent": {
     "id": "f1550ad8-9777-4ab1-8ad6-7551434a4e5b"
    },
    "slideshow": {
     "slide_type": "slide"
    }
   },
   "outputs": [
    {
     "data": {
      "text/html": [
       "<i>Table length=10</i>\n",
       "<table id=\"table112048541592\" class=\"table-striped table-bordered table-condensed\">\n",
       "<thead><tr><th>object_id</th><th>ra</th><th>decl</th><th>gall</th><th>galb</th><th>ddf_bool</th><th>hostgal_specz</th><th>hostgal_photoz</th><th>hostgal_photoz_err</th><th>distmod</th><th>mwebv</th><th>target</th></tr></thead>\n",
       "<thead><tr><th>int64</th><th>float64</th><th>float64</th><th>float64</th><th>float64</th><th>int64</th><th>float64</th><th>float64</th><th>float64</th><th>float64</th><th>float64</th><th>int64</th></tr></thead>\n",
       "<tr><td>615</td><td>349.046051</td><td>-61.943836</td><td>320.79653</td><td>-51.753706</td><td>1</td><td>0.0</td><td>0.0</td><td>0.0</td><td>nan</td><td>0.017</td><td>92</td></tr>\n",
       "<tr><td>713</td><td>53.085938</td><td>-27.784405</td><td>223.525509</td><td>-54.460748</td><td>1</td><td>1.8181</td><td>1.6153</td><td>0.55</td><td>45.3873</td><td>0.007</td><td>88</td></tr>\n",
       "<tr><td>730</td><td>33.574219</td><td>-6.579593</td><td>170.455585</td><td>-61.548219</td><td>1</td><td>0.232</td><td>0.2262</td><td>0.0157</td><td>40.2561</td><td>0.021</td><td>42</td></tr>\n",
       "<tr><td>745</td><td>0.189873</td><td>-45.586655</td><td>328.254458</td><td>-68.969298</td><td>1</td><td>0.3037</td><td>0.2813</td><td>1.1523</td><td>40.7951</td><td>0.007</td><td>90</td></tr>\n",
       "<tr><td>1124</td><td>352.711273</td><td>-63.823658</td><td>316.922299</td><td>-51.059403</td><td>1</td><td>0.1934</td><td>0.2415</td><td>0.0176</td><td>40.4166</td><td>0.024</td><td>90</td></tr>\n",
       "<tr><td>1227</td><td>35.683594</td><td>-5.379379</td><td>171.992947</td><td>-59.253501</td><td>1</td><td>0.0</td><td>0.0</td><td>0.0</td><td>nan</td><td>0.02</td><td>65</td></tr>\n",
       "<tr><td>1598</td><td>347.84671</td><td>-64.760857</td><td>318.929827</td><td>-49.143596</td><td>1</td><td>0.1352</td><td>0.182</td><td>0.0304</td><td>39.7279</td><td>0.019</td><td>90</td></tr>\n",
       "<tr><td>1632</td><td>348.595886</td><td>-63.07262</td><td>320.023289</td><td>-50.71306</td><td>1</td><td>0.6857</td><td>0.7014</td><td>0.01</td><td>43.1524</td><td>0.021</td><td>42</td></tr>\n",
       "<tr><td>1920</td><td>149.414062</td><td>3.433834</td><td>234.919132</td><td>42.24555</td><td>1</td><td>0.3088</td><td>0.3229</td><td>0.336</td><td>41.1401</td><td>0.027</td><td>90</td></tr>\n",
       "<tr><td>1926</td><td>149.414062</td><td>1.940072</td><td>236.565366</td><td>41.393323</td><td>1</td><td>0.0</td><td>0.0</td><td>0.0</td><td>nan</td><td>0.018</td><td>65</td></tr>\n",
       "</table>"
      ],
      "text/plain": [
       "<Table length=10>\n",
       "object_id     ra        decl       gall    ... distmod  mwebv  target\n",
       "  int64    float64    float64    float64   ... float64 float64 int64 \n",
       "--------- ---------- ---------- ---------- ... ------- ------- ------\n",
       "      615 349.046051 -61.943836  320.79653 ...     nan   0.017     92\n",
       "      713  53.085938 -27.784405 223.525509 ... 45.3873   0.007     88\n",
       "      730  33.574219  -6.579593 170.455585 ... 40.2561   0.021     42\n",
       "      745   0.189873 -45.586655 328.254458 ... 40.7951   0.007     90\n",
       "     1124 352.711273 -63.823658 316.922299 ... 40.4166   0.024     90\n",
       "     1227  35.683594  -5.379379 171.992947 ...     nan    0.02     65\n",
       "     1598  347.84671 -64.760857 318.929827 ... 39.7279   0.019     90\n",
       "     1632 348.595886  -63.07262 320.023289 ... 43.1524   0.021     42\n",
       "     1920 149.414062   3.433834 234.919132 ... 41.1401   0.027     90\n",
       "     1926 149.414062   1.940072 236.565366 ...     nan   0.018     65"
      ]
     },
     "execution_count": 12,
     "metadata": {},
     "output_type": "execute_result"
    }
   ],
   "source": [
    "header = Table.read('data/plasticc_training_set_metadata_stub.csv', format='csv')\n",
    "header"
   ]
  },
  {
   "cell_type": "markdown",
   "metadata": {
    "nbpresent": {
     "id": "3dbbfc53-6fda-4ffb-b90a-b09bc4ddb92d"
    },
    "slideshow": {
     "slide_type": "-"
    }
   },
   "source": [
    "That's a fair number of fields. `object_id` is a simple integer ID number that uniquely identifies each object, and corresponds to the object's ID in the light curve files, but the rest might not be familiar."
   ]
  },
  {
   "cell_type": "markdown",
   "metadata": {
    "slideshow": {
     "slide_type": "slide"
    }
   },
   "source": [
    "### 4a. Coordinates on the Sky\n",
    "<a id=\"section4a\"></a>\n",
    "\n",
    "At the minimum, there's the position in our three spatial dimensions."
   ]
  },
  {
   "cell_type": "markdown",
   "metadata": {
    "slideshow": {
     "slide_type": "fragment"
    }
   },
   "source": [
    "We use a spherical coordinate system on the sky, with the positions of stars indexed by a two-tuple that describes where they were on the 1st of January in the year 2000."
   ]
  },
  {
   "cell_type": "markdown",
   "metadata": {
    "slideshow": {
     "slide_type": "slide"
    }
   },
   "source": [
    "These two angles are called the \"Right Ascension\" (R.A.) and the \"Declination\" (often just Dec.) corresponding to longitude and latitude on the Earth. "
   ]
  },
  {
   "cell_type": "markdown",
   "metadata": {
    "slideshow": {
     "slide_type": "fragment"
    }
   },
   "source": [
    "These coordinates are supplied in the `ra` and `decl` columns of the metadata table."
   ]
  },
  {
   "cell_type": "markdown",
   "metadata": {
    "slideshow": {
     "slide_type": "fragment"
    }
   },
   "source": [
    "Wiki has a good illustration of this coordinate system:\n",
    "\n",
    "<center><img src=\"media/Celestial_Coordinates.gif\"></center>"
   ]
  },
  {
   "cell_type": "markdown",
   "metadata": {
    "slideshow": {
     "slide_type": "-"
    }
   },
   "source": [
    "#### *Figure 18: Equatorial coordinates, Credit: https://en.wikipedia.org/wiki/Right_ascension*"
   ]
  },
  {
   "cell_type": "markdown",
   "metadata": {
    "slideshow": {
     "slide_type": "slide"
    }
   },
   "source": [
    "If we unroll the sky into a flat <a href=\"https://en.wikipedia.org/wiki/Aitoff_projection\">Aitoff projection</a>, we can get a view of the entire sky:\n",
    "\n",
    "<center><img width=\"80%\" src=\"media/allsky_equatorial.jpg\"></center>"
   ]
  },
  {
   "cell_type": "markdown",
   "metadata": {
    "slideshow": {
     "slide_type": "-"
    }
   },
   "source": [
    "#### _Figure 19: The sky in equatorial coordinates with a galactic coordinate grid overlaid_\n",
    "\n",
    "Splitting the sky into two hemispheres by extending the Earth's equator outwards, the Milky Way forms a graceful arc.\n",
    "\n",
    "Lines of constant Right Ascension and Declination are in grey, while the green lines indicate a coordinate transform, where the plane of the galaxy defines the equatorial plane, instead of the Earth's equator - a galactic coordinate system."
   ]
  },
  {
   "cell_type": "markdown",
   "metadata": {
    "slideshow": {
     "slide_type": "slide"
    }
   },
   "source": [
    "LSST, based on Chile, views the southern sky. Comparing how the galaxy looks in this projection should help make sense of the otherwise weird looking pattern of observations that LSST plans to obtain:\n",
    "\n",
    "<center><img width='60%' src=\"media/skymap_minion1016.jpg\"></center>"
   ]
  },
  {
   "cell_type": "markdown",
   "metadata": {
    "slideshow": {
     "slide_type": "-"
    }
   },
   "source": [
    "#### _Figure 20: The LSST \"minion 1016\" exposure map in celestial coordinates. Credit: LSST Corporation_"
   ]
  },
  {
   "cell_type": "markdown",
   "metadata": {
    "slideshow": {
     "slide_type": "slide"
    }
   },
   "source": [
    "PLAsTiCC simulates the \"Wide-Fast-Deep\" Survey - the main LSST program, and the \"Deep Drilling Fields\" - a few small regions where LSST will get more observations for specialized scientific studies. "
   ]
  },
  {
   "cell_type": "markdown",
   "metadata": {
    "slideshow": {
     "slide_type": "fragment"
    }
   },
   "source": [
    "Which objects are in the WFD vs the DDF are specified by the `ddf_bool` column in the header (1 if in DDF, 0 otherwise). "
   ]
  },
  {
   "cell_type": "markdown",
   "metadata": {
    "slideshow": {
     "slide_type": "fragment"
    }
   },
   "source": [
    "Note that you can also get this information from the `object_id` column (`object_id` < 1,000,000 are in DDF)."
   ]
  },
  {
   "cell_type": "markdown",
   "metadata": {
    "nbpresent": {
     "id": "d3f1260b-b72c-4fa6-9bc0-20e0b852e673"
    },
    "slideshow": {
     "slide_type": "skip"
    }
   },
   "source": [
    "The DDFs will have more observations, but cover a much smaller chunk of sky. Consequently, the light curves will have better sampling, and potentially be found farther away in our Universe, but there's fewer objects. You may wish to treat the DDF and WFD objects separately and build different sorts of classifiers for them. This is entirely up to you, and the two sets of objects are weighted exactly the same, irrespective of which field they originated from."
   ]
  },
  {
   "cell_type": "markdown",
   "metadata": {
    "slideshow": {
     "slide_type": "slide"
    }
   },
   "source": [
    "### 4b. Galactic Coordinates\n",
    "<a id=\"section4b\"></a>\n",
    "\n",
    "RA and Dec are \"equatorial\" coordinates - a coordinate system where the Earth's equator is extended outwards into infinity and splits space into an imaginary north and south hemisphere."
   ]
  },
  {
   "cell_type": "markdown",
   "metadata": {
    "slideshow": {
     "slide_type": "fragment"
    }
   },
   "source": [
    "This coordinate system makes sense if you are building a telescope on Earth in the southern hemisphere and have to decide how you want to observe the sky."
   ]
  },
  {
   "cell_type": "markdown",
   "metadata": {
    "slideshow": {
     "slide_type": "fragment"
    }
   },
   "source": [
    "But, if we're talking about objects in the distant Universe, it makes sense to not make the Earth the center of it."
   ]
  },
  {
   "cell_type": "markdown",
   "metadata": {
    "slideshow": {
     "slide_type": "slide"
    }
   },
   "source": [
    "We can rotate the sky so that the plane of our galaxy defines the equator, like so:\n",
    "\n",
    "<center><img width=\"80%\" src=\"media/allsky_galactic.jpg\"></center>"
   ]
  },
  {
   "cell_type": "markdown",
   "metadata": {
    "slideshow": {
     "slide_type": "-"
    }
   },
   "source": [
    "#### _Figure 21: The sky in galactic coordinates with a equatorial coordinate grid overlaid_\n",
    "\n",
    "where I'm leaving the celestial coordinate grid (in yellow - notice how they no longer correspond to the North and South relative to the plane of our Galaxy)."
   ]
  },
  {
   "cell_type": "markdown",
   "metadata": {
    "nbpresent": {
     "id": "580fe614-1d41-41ff-861c-311e5a39f014"
    },
    "slideshow": {
     "slide_type": "fragment"
    }
   },
   "source": [
    "If you prefer to work with galactic coordinates instead of equatorial coordinates (`ra` and `decl`), these are provided in the header in the columns `gall` and `galb`."
   ]
  },
  {
   "cell_type": "markdown",
   "metadata": {
    "slideshow": {
     "slide_type": "slide"
    }
   },
   "source": [
    "### 4c. Redshift\n",
    "<a id=\"section4c\"></a>\n",
    "\n",
    "The position of a source on the sky is a tuple of two numbers (in either equatorial or galactic coordinates), but we live in a Universe with (at least) 3 spatial dimensions. The third number we use to locate objects in 3D space isn't even a distance from the origin - it's a speed! We call it the \"redshift.\"\n",
    "\n",
    "<center><img src=\"media/redshift.jpg\"></center>"
   ]
  },
  {
   "cell_type": "markdown",
   "metadata": {
    "slideshow": {
     "slide_type": "-"
    }
   },
   "source": [
    "#### _Figure 22: \"Redshift\" is a measure of how fast a distant source (with more distant on the top) is moving relative to us along the line of sight, and is determined from how much the wavelength (or alternately, the frequency) of the absorption and emission lines of atoms change, relative to what we see here on Earth (bottom panel)_"
   ]
  },
  {
   "cell_type": "markdown",
   "metadata": {
    "slideshow": {
     "slide_type": "fragment"
    }
   },
   "source": [
    "Redshift is so named because if you take the light from distance astrophysical sources and pass it through a prism, you see the same atomic fingerprint of elements and molecules you find here on Earth... just shifted."
   ]
  },
  {
   "cell_type": "markdown",
   "metadata": {
    "slideshow": {
     "slide_type": "slide"
    }
   },
   "source": [
    "If the source is moving towards us, things are shifted to the blue (or higher frequencies), while if the source is moving away from us, things are shifted to the red (or lower frequencies). "
   ]
  },
  {
   "cell_type": "markdown",
   "metadata": {
    "slideshow": {
     "slide_type": "fragment"
    }
   },
   "source": [
    "This isn't all that different from the Doppler shift of the sound of an ambulance or police siren moving across you - it'll increase in frequency as the vehicle approaches you, and decrease in frequency as it moves away. "
   ]
  },
  {
   "cell_type": "markdown",
   "metadata": {
    "nbpresent": {
     "id": "f2a31eb0-95f9-49fd-8d2c-2de39fe21204"
    },
    "slideshow": {
     "slide_type": "fragment"
    }
   },
   "source": [
    "You can convert the change in frequency or wavelength into a speed using:"
   ]
  },
  {
   "cell_type": "markdown",
   "metadata": {
    "nbpresent": {
     "id": "43e3daf6-c170-4d31-9bca-e146ce7557d4"
    },
    "slideshow": {
     "slide_type": "-"
    }
   },
   "source": [
    "$$z = \\frac{\\lambda_{\\text{Source}} - \\lambda_{\\text{Earth}}}{\\lambda_{\\text{Earth}}} = \\frac{\\Delta \\lambda}{\\lambda}  \\sim \\frac{v_r}{c}$$"
   ]
  },
  {
   "cell_type": "markdown",
   "metadata": {
    "slideshow": {
     "slide_type": "-"
    }
   },
   "source": [
    "where $z$ is the redshift, $\\lambda_{\\text{Earth}}$ is the original wavelength we measure on Earth, and $\\Delta \\lambda$ is the change in wavelength, $v_r$ is the recession velocity and $c$ is the speed of light."
   ]
  },
  {
   "cell_type": "markdown",
   "metadata": {
    "slideshow": {
     "slide_type": "fragment"
    }
   },
   "source": [
    "## _<center> AN IMPORTANT NOTE </center>_\n",
    "\n",
    "For historic reasons, redshift is denoted with the letter $z$. This is also the same character as the z passband in LSST (and other surveys), but the two aren't related."
   ]
  },
  {
   "cell_type": "markdown",
   "metadata": {
    "slideshow": {
     "slide_type": "slide"
    }
   },
   "source": [
    "There's a problem though - to measure this accurately we need _spectroscopy_. "
   ]
  },
  {
   "cell_type": "markdown",
   "metadata": {
    "slideshow": {
     "slide_type": "fragment"
    }
   },
   "source": [
    "The same spectroscopy that is expensive and hard to get to classify transients, which is the raison d'être for PLAsTiCC in the first place..."
   ]
  },
  {
   "cell_type": "markdown",
   "metadata": {
    "slideshow": {
     "slide_type": "fragment"
    }
   },
   "source": [
    "But just as with this challenge, there's a solution that involves getting images through broad passbands and extracting ratios of brightness in different passbands to get an estimator of the redshift. "
   ]
  },
  {
   "cell_type": "markdown",
   "metadata": {
    "slideshow": {
     "slide_type": "fragment"
    }
   },
   "source": [
    "Therefore, in the header, you get two redshifts! `hostgal_specz` is the spectroscopic redshift of the host-galaxy of an event, while `hostgal_photoz` is the photometric redshift of the host-galaxy. "
   ]
  },
  {
   "cell_type": "markdown",
   "metadata": {
    "nbpresent": {
     "id": "e511216f-a8ad-4ff6-a9da-956499318fe7"
    },
    "slideshow": {
     "slide_type": "skip"
    }
   },
   "source": [
    "## _<center> ANOTHER IMPORTANT NOTE </center>_\n",
    "\n",
    "The training set has spectroscopic redshifts for all sources. You'll notice quickly that they don't always agree with the photometric redshift. The photometric redshift is sometimes wrong. Consequently, we also give you an estimate of the 68% uncertainty on the photometric redshift (which itself might be inaccurate...) - `hostgal_photoz_err`. Be warned though that the actual photometric redshift distribution is asymmetric, and the redshift is not likely to be less than zero, so you might want to treat it as just a weight. Why is the redshift unlikely to be less than 0... we'll get to that in a bit.\n",
    "\n",
    "The test set does not have spectroscopic redshifts for all sources. There's a few because we simulate occasionally getting lucky and finding a new source in a galaxy which already had spectroscopy, but the vast majority of them will be `NaN`. You could potentially try to use the training set, together with the subset of the test data that does have both spectroscopic and photometric redshifts to make a better redshift predictor if you like, or you could ignore it altogether.\n",
    "\n",
    "That said, redshift is a great feature! We know how to separate extragalactic and galactic sources pretty well, so we simulate this ability by setting the redshifts of galactic sources to exactly `0`. That tells you they are within the galaxy and reduces the size of the possible models they might be, but doesn't identify which is which - that's still your challenge! Most machine learning techniques will pick this feature of redshift up easily, but you might use it to build separate classifiers for extragalactic and galactic sources if you like."
   ]
  },
  {
   "cell_type": "markdown",
   "metadata": {
    "slideshow": {
     "slide_type": "slide"
    }
   },
   "source": [
    "### 4d. A view of our cosmic neighborhood\n",
    "<a id=\"section4d\"></a>\n",
    "\n",
    "You might already have noticed the fuzzy blob in the Southern hemisphere, below and to the right of center of our galaxy in galactic coordinates."
   ]
  },
  {
   "cell_type": "markdown",
   "metadata": {
    "slideshow": {
     "slide_type": "fragment"
    }
   },
   "source": [
    "You can get a clearer view of it from ESA's GAIA satellite without a coordinate grid on top. "
   ]
  },
  {
   "cell_type": "markdown",
   "metadata": {
    "slideshow": {
     "slide_type": "slide"
    }
   },
   "source": [
    "<center><img width=\"60%\" src=\"media/Gaia_milky_way.jpg\"></center>"
   ]
  },
  {
   "cell_type": "markdown",
   "metadata": {
    "slideshow": {
     "slide_type": "-"
    }
   },
   "source": [
    "#### _Figure 23: The GAIA view of our Galaxy, Credit: ESA/GAIA_\n",
    "\n",
    "This fuzzy blob below and to the right of center is called the Large Magellanic cloud - a companion galaxy to our Milky Way. \n",
    "\n",
    "The other fuzzy blob near it is called the Small Magellanic Cloud. You can see it with your own eyes from a dark site in the southern hemisphere. "
   ]
  },
  {
   "cell_type": "markdown",
   "metadata": {
    "slideshow": {
     "slide_type": "skip"
    }
   },
   "source": [
    "(You might even be able to spot some galaxies in the northern hemisphere, but remember the sky in galactic coordinates doesn't look like the sky you'd see from Earth)"
   ]
  },
  {
   "cell_type": "markdown",
   "metadata": {
    "slideshow": {
     "slide_type": "slide"
    }
   },
   "source": [
    "The redshift of the Large Magellanic Cloud is a whopping 0.000875 - i.e. the wavelength of light hasn't exactly changed much. "
   ]
  },
  {
   "cell_type": "markdown",
   "metadata": {
    "slideshow": {
     "slide_type": "fragment"
    }
   },
   "source": [
    "If we color the galaxies in the nearby Universe that we can see from Earth by redshift with a small telescope, there are many sources that we can see with higher redshifts. \n",
    "\n",
    "<center><img width=\"70%\" src=\"media/large_scale_structure.jpg\"></center>"
   ]
  },
  {
   "cell_type": "markdown",
   "metadata": {
    "slideshow": {
     "slide_type": "-"
    }
   },
   "source": [
    "#### _Figure 24: The low redshift Universe, Credit: Tom Jarrett, IPAC/Caltech_"
   ]
  },
  {
   "cell_type": "markdown",
   "metadata": {
    "slideshow": {
     "slide_type": "skip"
    }
   },
   "source": [
    "Our spectrographs are sensitive enough for it to have been possible to measure these redshifts even a century ago. Many of the redshifts of these nearby galaxies was first measured by Vesto Slipher back in 1917. "
   ]
  },
  {
   "cell_type": "markdown",
   "metadata": {
    "slideshow": {
     "slide_type": "slide"
    }
   },
   "source": [
    "### 4e. Cosmology\n",
    "<a id=\"section4e\"></a>\n",
    "\n",
    "In fact, you might notice that all of the redshifts are positive - almost everything is moving *away* from us, "
   ]
  },
  {
   "cell_type": "markdown",
   "metadata": {
    "slideshow": {
     "slide_type": "fragment"
    }
   },
   "source": [
    "In 1927, Georges Lemaître, proposed that this meant the Universe was expanding. "
   ]
  },
  {
   "cell_type": "markdown",
   "metadata": {
    "slideshow": {
     "slide_type": "fragment"
    }
   },
   "source": [
    "The first widely known measurement of this expansion rate came two years later, from Edwin Hubble who showed definitely that the further galaxies were from our own, the faster they were moving away. "
   ]
  },
  {
   "cell_type": "markdown",
   "metadata": {
    "nbpresent": {
     "id": "67a243cd-7009-4efa-89db-529b5df635bb"
    },
    "slideshow": {
     "slide_type": "fragment"
    }
   },
   "source": [
    "And the data at the time suggested that this increase was linear.\n",
    "\n",
    "$$ v_r = H_0 \\cdot D \\sim c\\cdot z $$"
   ]
  },
  {
   "cell_type": "markdown",
   "metadata": {
    "slideshow": {
     "slide_type": "fragment"
    }
   },
   "source": [
    "where $D$ is the \"luminosity\" distance to the object and the dot ($\\cdot$) operator is a shorthand for the multiplication ($\\times$) operator. "
   ]
  },
  {
   "cell_type": "markdown",
   "metadata": {
    "slideshow": {
     "slide_type": "fragment"
    }
   },
   "source": [
    "We call this the \"Hubble Law\"."
   ]
  },
  {
   "cell_type": "markdown",
   "metadata": {
    "slideshow": {
     "slide_type": "slide"
    }
   },
   "source": [
    "This linear relation between redshift and distance is approximate (hence the $\\sim$ sign)."
   ]
  },
  {
   "cell_type": "markdown",
   "metadata": {
    "slideshow": {
     "slide_type": "fragment"
    }
   },
   "source": [
    "As we look to farther horizons, to determine the expansion history of the Universe takes the equations of Einstein's General Theory of Relativity. "
   ]
  },
  {
   "cell_type": "markdown",
   "metadata": {
    "slideshow": {
     "slide_type": "slide"
    }
   },
   "source": [
    "Measuring this expansion history takes bright sources that we can determine the distance to, like those type Ia supernovae like SN1998bu. "
   ]
  },
  {
   "cell_type": "markdown",
   "metadata": {
    "slideshow": {
     "slide_type": "fragment"
    }
   },
   "source": [
    "When scientists used type Ia supernovae to do this for the first time in 1998, they discovered something remarkable - that the Universe wasn't just expanding, but the expansion was accelerating.\n",
    "\n",
    "#### *Something is _pushing_ distant galaxies away from us at an ever increasing rate!*"
   ]
  },
  {
   "cell_type": "markdown",
   "metadata": {
    "slideshow": {
     "slide_type": "slide"
    }
   },
   "source": [
    "This is one of the best current map of that expansion using type Ia supernovae:\n",
    "\n",
    "<center><img src=\"media/JLA_HubbleDiagram.png\"></center>"
   ]
  },
  {
   "cell_type": "markdown",
   "metadata": {
    "slideshow": {
     "slide_type": "-"
    }
   },
   "source": [
    "#### _Figure 25. The JLA Hubble Diagram, Credit: Marc Betoule (Paris Center for Cosmological Physics)_"
   ]
  },
  {
   "cell_type": "markdown",
   "metadata": {
    "slideshow": {
     "slide_type": "skip"
    }
   },
   "source": [
    "The teams that discovered this won the Nobel prize for their work in 2011. "
   ]
  },
  {
   "cell_type": "markdown",
   "metadata": {
    "slideshow": {
     "slide_type": "slide"
    }
   },
   "source": [
    "So we've got to identify such type Ia supernovae among all of the ones that LSST will find... hopefully things are beginning to fit together, and this is giving you a sense for the big picture!"
   ]
  },
  {
   "cell_type": "markdown",
   "metadata": {
    "slideshow": {
     "slide_type": "slide"
    }
   },
   "source": [
    "You might prefer to have the y-axis - called the distance modulus - related to the base 10 logarithm of the luminosity distance, rather than the redshift provided in `hostgal_photoz`. "
   ]
  },
  {
   "cell_type": "markdown",
   "metadata": {
    "slideshow": {
     "slide_type": "fragment"
    }
   },
   "source": [
    "For your convenience, this is provided in the header as a column named `distmod`. "
   ]
  },
  {
   "cell_type": "markdown",
   "metadata": {
    "slideshow": {
     "slide_type": "fragment"
    }
   },
   "source": [
    "For galactic objects with `hostgal_photoz`$ = 0 $, the `distmod` is reported as `NaN` (the distance would be 0, and taking the logarithm of 0 is a bad idea)."
   ]
  },
  {
   "cell_type": "markdown",
   "metadata": {
    "slideshow": {
     "slide_type": "skip"
    }
   },
   "source": [
    "We don't provide another column for distance modulus that was derived from `hostgal_specz` but there's a lookup table included with the dataset if you need to compute this (you probably don't). This is a purely computed quantity and is provided for convenience. It's not a measured distance to each source - actually measuring distances is complicated. You can watch a video about how we do it <a href=\"https://ed.ted.com/lessons/how-do-we-measure-distances-in-space-yuan-sen-ting\">here</a>. \n",
    "\n",
    "Because the speed of light is fixed, and the distance to sources is increasing, you can also compute a how long it took for light from a source at some redshift took to reach up. This is also in the lookup table. You also don't need this, but it is cool to get a sense for the history of our Universe. "
   ]
  },
  {
   "cell_type": "markdown",
   "metadata": {
    "slideshow": {
     "slide_type": "slide"
    }
   },
   "source": [
    "General relativity in the expanding Universe gives us a time machine. "
   ]
  },
  {
   "cell_type": "markdown",
   "metadata": {
    "slideshow": {
     "slide_type": "fragment"
    }
   },
   "source": [
    "As we look farther our, we look further back in time. "
   ]
  },
  {
   "cell_type": "markdown",
   "metadata": {
    "slideshow": {
     "slide_type": "fragment"
    }
   },
   "source": [
    "Here's a visual timeline of the history of our Universe:\n",
    "\n",
    "<center><img src=\"media/UniverseTimeline.jpg\"></center>"
   ]
  },
  {
   "cell_type": "markdown",
   "metadata": {
    "slideshow": {
     "slide_type": "-"
    }
   },
   "source": [
    "#### _Figure 26. A Timeline of our Universe, Credit: BBC Two, Stargazing Live, Public access NASA images_"
   ]
  },
  {
   "cell_type": "markdown",
   "metadata": {
    "nbpresent": {
     "id": "cfeed02f-c105-4d0e-91ea-2fc31e2c0502"
    },
    "slideshow": {
     "slide_type": "skip"
    }
   },
   "source": [
    "Now looking at Figure 25 and the equation above it, you might notice that sources can have a redshift of greater than one i.e. appear to be moving faster than the speed of light! And you might have heard that it isn't possible to go faster than the speed of light. This is how the cosmological redshift differs from the Doppler effect. It's not the physical motion of the sources that is causing the change in frequency, but rather the expansion of the Universe itself - that the space between us and the source is stretching! Your PLAsTiCC dataset will include objects up to a redshift of 3. \n",
    "\n",
    "If everything seems to be moving away with respect to us on Earth, you might also be tempted to think we're the center of the expansion of the Universe. We aren't. We could move to any other point in the Universe and we'd see the same behavior. This is a counterintuitive consequence of Einstein's General Theory of Relativity, and living in a Universe that is homogeneous (same from all positions) and isotropic (same in all directions). If you find this stuff fascinating, you might want to read <a href=\"https://www.forbes.com/sites/startswithabang/2018/04/17/the-most-important-equation-in-the-universe/#8869ba60da5c\">this.</a>"
   ]
  },
  {
   "cell_type": "markdown",
   "metadata": {
    "slideshow": {
     "slide_type": "slide"
    }
   },
   "source": [
    "### 4f. Dust\n",
    "<a id=\"section4f\"></a>\n",
    "\n",
    "Depending on where you are looking on the sky, there's a lot of structure in our Milky Way - lanes of gas and dust obscure the view of stars and galaxies behind it."
   ]
  },
  {
   "cell_type": "markdown",
   "metadata": {
    "slideshow": {
     "slide_type": "fragment"
    }
   },
   "source": [
    "This becomes even more apparent if we look with a different instrument and in a different passband, more sensitive to only the dust. "
   ]
  },
  {
   "cell_type": "markdown",
   "metadata": {
    "slideshow": {
     "slide_type": "slide"
    }
   },
   "source": [
    "This view from ESA's Planck satellite really drives that home:\n",
    "\n",
    "<center><img src=\"media/dust_map.jpeg\"></center>"
   ]
  },
  {
   "cell_type": "markdown",
   "metadata": {
    "slideshow": {
     "slide_type": "-"
    }
   },
   "source": [
    "#### _Figure 27: A dust map of the Milky Way from Planck, Credit: ESA / NASA / JPL-Caltech_"
   ]
  },
  {
   "cell_type": "markdown",
   "metadata": {
    "slideshow": {
     "slide_type": "fragment"
    }
   },
   "source": [
    "Of course, the dust isn't a single layer, and has 3D structure. \n",
    "\n",
    "Astronomers can map this structure using careful observations of lots of stars."
   ]
  },
  {
   "cell_type": "markdown",
   "metadata": {
    "nbpresent": {
     "id": "428d720b-4e26-4f3c-b49a-4fbeef165c0b"
    },
    "slideshow": {
     "slide_type": "slide"
    }
   },
   "source": [
    "This 3D map was made with the Pan-STARRS telescope which has a 1.2 gigapixel camera and a similar field-of-view to LSST, but is a much smaller telescope."
   ]
  },
  {
   "cell_type": "code",
   "execution_count": 13,
   "metadata": {
    "nbpresent": {
     "id": "3bc10b72-7d54-4d07-860c-ab7410ca7070"
    },
    "slideshow": {
     "slide_type": "-"
    }
   },
   "outputs": [
    {
     "data": {
      "text/html": [
       "<p>\n",
       "<div align=\"middle\">\n",
       "<video width=\"60%\" controls>\n",
       "      <source src=\"media/MilkyWayDust.mp4\" type=\"video/mp4\">\n",
       "</video>\n",
       "</div>\n",
       "</p>"
      ],
      "text/plain": [
       "<IPython.core.display.HTML object>"
      ]
     },
     "metadata": {},
     "output_type": "display_data"
    }
   ],
   "source": [
    "%%HTML\n",
    "<p>\n",
    "<div align=\"middle\">\n",
    "<video width=\"60%\" controls>\n",
    "      <source src=\"media/MilkyWayDust.mp4\" type=\"video/mp4\">\n",
    "</video>\n",
    "</div>\n",
    "</p>"
   ]
  },
  {
   "cell_type": "markdown",
   "metadata": {
    "nbpresent": {
     "id": "f4ef7cfa-3744-4329-b2f4-bf804ea36f73"
    },
    "slideshow": {
     "slide_type": "-"
    }
   },
   "source": [
    "#### _Figure 28: A Fly Through of our Galaxy's Dust, Credit: Gregory Green (Stanford/KIPAC)_"
   ]
  },
  {
   "cell_type": "markdown",
   "metadata": {
    "slideshow": {
     "slide_type": "skip"
    }
   },
   "source": [
    "Dust, like increasing luminosity distance (and therefore redshift) in our Universe, makes things fainter and redder. While the light curves we've provided are corrected for the dimming and reddening - called the extinction - along the line of sight in our Galaxy, this correction isn't perfect, because we've not got perfect knowledge of how much dust there is along any line of sight. You'll notice the map in the video is higher resolution towards the center of the galaxy where there are more stars, and lower resolution in the opposite direction for instance.\n",
    "\n",
    "Additionally, extragalactic sources can also suffer from extinction _in their own host galaxies._ Galactic sources are nearer us and brighter, and because they are _in_ our Galaxy, they are likely to be in the plane. All said then, you should expect to find that Galactic sources have a different sort of distribution of dust along the line of sight to them than extragalactic sources."
   ]
  },
  {
   "cell_type": "markdown",
   "metadata": {
    "slideshow": {
     "slide_type": "slide"
    }
   },
   "source": [
    "The correction we applied to the light curves can be described by a single number for our Milky Way."
   ]
  },
  {
   "cell_type": "markdown",
   "metadata": {
    "slideshow": {
     "slide_type": "fragment"
    }
   },
   "source": [
    "This is called $\\text{MW}~E(B-V)$ (MW = Milky Way, E = Extinction between the Blue and Visual, or B-V) and reported in the header in the column named `mwebv`. "
   ]
  },
  {
   "cell_type": "markdown",
   "metadata": {
    "slideshow": {
     "slide_type": "fragment"
    }
   },
   "source": [
    "You will not need to correct the light curves anymore, but you might be able to use this piece of metadata to distinguish some populations from others using clustering techniques for instance.\n",
    "\n",
    "***"
   ]
  },
  {
   "cell_type": "markdown",
   "metadata": {
    "slideshow": {
     "slide_type": "slide"
    }
   },
   "source": [
    "That's it! Phew! It's the minimal bits of the astrophysics you may need to make sense of the data and start to tackle this challenge. \n",
    "\n",
    "This notebook does not need the actual challenge data.\n",
    "\n",
    "In another notebook, `plasticc_classification_demo.ipynb`, included with this starter kit, we'll build a toy classifier on the challenge data, and introduce some of the useful packages astronomers use to tackle this problem.\n",
    "\n",
    "***"
   ]
  },
  {
   "cell_type": "markdown",
   "metadata": {
    "nbpresent": {
     "id": "4f1e8284-d413-43fa-a649-c1c9fb3927b8"
    },
    "slideshow": {
     "slide_type": "fragment"
    }
   },
   "source": [
    "If you have more questions, you can find the PLAsTiCC dev team on the Kaggle forums, and we'll do our best to answer your questions if we can. We hope you have fun and we look forward to your submissions - remember, your work will influence the entire LSST project. \n",
    "\n",
    "Come help us explore the Universe!"
   ]
  },
  {
   "cell_type": "markdown",
   "metadata": {
    "nbpresent": {
     "id": "4b2c29b8-d895-4495-8301-23bf16f0ff7f"
    },
    "slideshow": {
     "slide_type": "fragment"
    }
   },
   "source": [
    "/cheesy"
   ]
  }
 ],
 "metadata": {
  "anaconda-cloud": {},
  "kernelspec": {
   "display_name": "Python (plasticc)",
   "language": "python",
   "name": "plasticc"
  },
  "language_info": {
   "codemirror_mode": {
    "name": "ipython",
    "version": 3
   },
   "file_extension": ".py",
   "mimetype": "text/x-python",
   "name": "python",
   "nbconvert_exporter": "python",
   "pygments_lexer": "ipython3",
   "version": "3.6.6"
  },
  "livereveal": {
   "scroll": true
  }
 },
 "nbformat": 4,
 "nbformat_minor": 2
}
