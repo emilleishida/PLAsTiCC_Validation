{
 "cells": [
  {
   "cell_type": "markdown",
   "metadata": {},
   "source": [
    "# **The PLAsTiCC Astronomy \"Starter Kit\" Classification Demo**\n",
    "\n",
    "### -Gautham Narayan, Renée Hložek, Emilie Ishida 20180831\n",
    "\n",
    "***"
   ]
  },
  {
   "cell_type": "code",
   "execution_count": 1,
   "metadata": {},
   "outputs": [
    {
     "data": {
      "text/html": [
       "<style>.rendered_html { font-size: 18px; }</style>"
      ],
      "text/plain": [
       "<IPython.core.display.HTML object>"
      ]
     },
     "metadata": {},
     "output_type": "display_data"
    }
   ],
   "source": [
    "# You can edit the font size here to make rendered text more comfortable to read\n",
    "# It was built on a 13\" retina screen with 18px\n",
    "from IPython.core.display import display, HTML\n",
    "display(HTML(\"<style>.rendered_html { font-size: 18px; }</style>\"))"
   ]
  },
  {
   "cell_type": "markdown",
   "metadata": {
    "slideshow": {
     "slide_type": "slide"
    }
   },
   "source": [
    "In this notebook, we'll look at how astronomers have approached light curve classification, and provide you some references and useful packages if you want to get a sense for what has been done in the past.\n",
    "\n",
    "It's almost certain that some astronomers will approach PLAsTiCC with these kinds of methods, so if you want to win, you'll likely have to do something better!\n",
    "\n",
    "The PLAsTiCC Dataset is not provided with this notebook, but rather is available directly from Kaggle. \n",
    "We'll assume that you've downloaded it and put it in the `data/` directory of this starter kit.\n",
    "\n",
    "We'll begin by importing some packages that might be useful. "
   ]
  },
  {
   "cell_type": "code",
   "execution_count": 2,
   "metadata": {},
   "outputs": [],
   "source": [
    "%matplotlib notebook\n",
    "\n",
    "import os\n",
    "from collections import Counter, OrderedDict\n",
    "import numpy as np\n",
    "import matplotlib.pyplot as plt\n",
    "from astropy.table import Table\n",
    "import schwimmbad\n",
    "from cesium.time_series import TimeSeries\n",
    "import cesium.featurize as featurize\n",
    "from tqdm import tnrange, tqdm_notebook\n",
    "import sklearn \n",
    "from sklearn.model_selection import StratifiedShuffleSplit"
   ]
  },
  {
   "cell_type": "markdown",
   "metadata": {},
   "source": [
    "We described how the the data is split into a light curve table and a metadata table in the astronomy starter kit. We've described the format of these files there, so if you need a refresher, take a look there again.\n",
    "\n",
    "We described a mapping from string passband name to integer passband IDs. Here, we'll create an `OrderedDict` to invert that transformation. "
   ]
  },
  {
   "cell_type": "code",
   "execution_count": 3,
   "metadata": {},
   "outputs": [],
   "source": [
    "pbmap = OrderedDict([(0,'u'), (1,'g'), (2,'r'), (3,'i'), (4, 'z'), (5, 'Y')])\n",
    "\n",
    "# it also helps to have passbands associated with a color\n",
    "pbcols = OrderedDict([(0,'blueviolet'), (1,'green'), (2,'red'),\\\n",
    "                      (3,'orange'), (4, 'black'), (5, 'brown')])\n",
    "\n",
    "pbnames = list(pbmap.values())"
   ]
  },
  {
   "cell_type": "markdown",
   "metadata": {},
   "source": [
    "Next, we'll read the metadata table."
   ]
  },
  {
   "cell_type": "code",
   "execution_count": 4,
   "metadata": {},
   "outputs": [
    {
     "data": {
      "text/html": [
       "<i>Table length=7848</i>\n",
       "<table id=\"table112261824808\" class=\"table-striped table-bordered table-condensed\">\n",
       "<thead><tr><th>object_id</th><th>ra</th><th>decl</th><th>gall</th><th>galb</th><th>ddf_bool</th><th>hostgal_specz</th><th>hostgal_photoz</th><th>hostgal_photoz_err</th><th>distmod</th><th>mwebv</th><th>target</th></tr></thead>\n",
       "<thead><tr><th>int64</th><th>float64</th><th>float64</th><th>float64</th><th>float64</th><th>int64</th><th>float64</th><th>float64</th><th>float64</th><th>float64</th><th>float64</th><th>int64</th></tr></thead>\n",
       "<tr><td>615</td><td>349.046051</td><td>-61.943836</td><td>320.79653</td><td>-51.753706</td><td>1</td><td>0.0</td><td>0.0</td><td>0.0</td><td>nan</td><td>0.017</td><td>92</td></tr>\n",
       "<tr><td>713</td><td>53.085938</td><td>-27.784405</td><td>223.525509</td><td>-54.460748</td><td>1</td><td>1.8181</td><td>1.6267</td><td>0.2552</td><td>45.4063</td><td>0.007</td><td>88</td></tr>\n",
       "<tr><td>730</td><td>33.574219</td><td>-6.579593</td><td>170.455585</td><td>-61.548219</td><td>1</td><td>0.232</td><td>0.2262</td><td>0.0157</td><td>40.2561</td><td>0.021</td><td>42</td></tr>\n",
       "<tr><td>745</td><td>0.189873</td><td>-45.586655</td><td>328.254458</td><td>-68.969298</td><td>1</td><td>0.3037</td><td>0.2813</td><td>1.1523</td><td>40.7951</td><td>0.007</td><td>90</td></tr>\n",
       "<tr><td>1124</td><td>352.711273</td><td>-63.823658</td><td>316.922299</td><td>-51.059403</td><td>1</td><td>0.1934</td><td>0.2415</td><td>0.0176</td><td>40.4166</td><td>0.024</td><td>90</td></tr>\n",
       "<tr><td>1227</td><td>35.683594</td><td>-5.379379</td><td>171.992947</td><td>-59.253501</td><td>1</td><td>0.0</td><td>0.0</td><td>0.0</td><td>nan</td><td>0.02</td><td>65</td></tr>\n",
       "<tr><td>1598</td><td>347.84671</td><td>-64.760857</td><td>318.929827</td><td>-49.143596</td><td>1</td><td>0.1352</td><td>0.182</td><td>0.0304</td><td>39.7279</td><td>0.019</td><td>90</td></tr>\n",
       "<tr><td>1632</td><td>348.595886</td><td>-63.07262</td><td>320.023289</td><td>-50.71306</td><td>1</td><td>0.6857</td><td>0.7014</td><td>0.01</td><td>43.1524</td><td>0.021</td><td>42</td></tr>\n",
       "<tr><td>1920</td><td>149.414062</td><td>3.433834</td><td>234.919132</td><td>42.24555</td><td>1</td><td>0.3088</td><td>0.3229</td><td>0.336</td><td>41.1401</td><td>0.027</td><td>90</td></tr>\n",
       "<tr><td>1926</td><td>149.414062</td><td>1.940072</td><td>236.565366</td><td>41.393323</td><td>1</td><td>0.0</td><td>0.0</td><td>0.0</td><td>nan</td><td>0.018</td><td>65</td></tr>\n",
       "<tr><td>...</td><td>...</td><td>...</td><td>...</td><td>...</td><td>...</td><td>...</td><td>...</td><td>...</td><td>...</td><td>...</td><td>...</td></tr>\n",
       "<tr><td>130684460</td><td>117.949219</td><td>-0.895283</td><td>220.752608</td><td>12.975772</td><td>0</td><td>0.0</td><td>0.0</td><td>0.0</td><td>nan</td><td>0.053</td><td>16</td></tr>\n",
       "<tr><td>130695262</td><td>90.0</td><td>-20.264481</td><td>226.045011</td><td>-20.105392</td><td>0</td><td>0.1273</td><td>2.6113</td><td>0.9733</td><td>46.6624</td><td>0.043</td><td>15</td></tr>\n",
       "<tr><td>130698059</td><td>142.734375</td><td>-18.997131</td><td>250.892051</td><td>23.021357</td><td>0</td><td>0.0591</td><td>0.0569</td><td>0.0248</td><td>37.0254</td><td>0.045</td><td>67</td></tr>\n",
       "<tr><td>130716752</td><td>337.372894</td><td>-57.209084</td><td>332.816119</td><td>-50.876643</td><td>0</td><td>0.0</td><td>0.0</td><td>0.0</td><td>nan</td><td>0.016</td><td>16</td></tr>\n",
       "<tr><td>130727624</td><td>294.960938</td><td>-4.031936</td><td>34.856817</td><td>-12.602145</td><td>0</td><td>0.0</td><td>0.0</td><td>0.0</td><td>nan</td><td>0.291</td><td>65</td></tr>\n",
       "<tr><td>130739978</td><td>26.71875</td><td>-14.940303</td><td>172.342697</td><td>-72.255675</td><td>0</td><td>0.0</td><td>0.0</td><td>0.0</td><td>nan</td><td>0.013</td><td>65</td></tr>\n",
       "<tr><td>130755807</td><td>120.101349</td><td>-62.696659</td><td>275.742955</td><td>-16.509746</td><td>0</td><td>0.1725</td><td>2.5606</td><td>1.1146</td><td>46.6108</td><td>0.136</td><td>90</td></tr>\n",
       "<tr><td>130762946</td><td>203.108109</td><td>-55.682144</td><td>308.728904</td><td>6.727511</td><td>0</td><td>0.0</td><td>0.0</td><td>0.0</td><td>nan</td><td>0.43</td><td>16</td></tr>\n",
       "<tr><td>130772921</td><td>79.101562</td><td>-35.501846</td><td>239.172243</td><td>-33.827844</td><td>0</td><td>0.0</td><td>0.0</td><td>0.0</td><td>nan</td><td>0.034</td><td>65</td></tr>\n",
       "<tr><td>130779836</td><td>301.992188</td><td>-17.426323</td><td>25.102988</td><td>-24.511101</td><td>0</td><td>0.0</td><td>0.0</td><td>0.0</td><td>nan</td><td>0.091</td><td>6</td></tr>\n",
       "</table>"
      ],
      "text/plain": [
       "<Table length=7848>\n",
       "object_id     ra        decl       gall    ... distmod  mwebv  target\n",
       "  int64    float64    float64    float64   ... float64 float64 int64 \n",
       "--------- ---------- ---------- ---------- ... ------- ------- ------\n",
       "      615 349.046051 -61.943836  320.79653 ...     nan   0.017     92\n",
       "      713  53.085938 -27.784405 223.525509 ... 45.4063   0.007     88\n",
       "      730  33.574219  -6.579593 170.455585 ... 40.2561   0.021     42\n",
       "      745   0.189873 -45.586655 328.254458 ... 40.7951   0.007     90\n",
       "     1124 352.711273 -63.823658 316.922299 ... 40.4166   0.024     90\n",
       "     1227  35.683594  -5.379379 171.992947 ...     nan    0.02     65\n",
       "     1598  347.84671 -64.760857 318.929827 ... 39.7279   0.019     90\n",
       "     1632 348.595886  -63.07262 320.023289 ... 43.1524   0.021     42\n",
       "     1920 149.414062   3.433834 234.919132 ... 41.1401   0.027     90\n",
       "     1926 149.414062   1.940072 236.565366 ...     nan   0.018     65\n",
       "      ...        ...        ...        ... ...     ...     ...    ...\n",
       "130684460 117.949219  -0.895283 220.752608 ...     nan   0.053     16\n",
       "130695262       90.0 -20.264481 226.045011 ... 46.6624   0.043     15\n",
       "130698059 142.734375 -18.997131 250.892051 ... 37.0254   0.045     67\n",
       "130716752 337.372894 -57.209084 332.816119 ...     nan   0.016     16\n",
       "130727624 294.960938  -4.031936  34.856817 ...     nan   0.291     65\n",
       "130739978   26.71875 -14.940303 172.342697 ...     nan   0.013     65\n",
       "130755807 120.101349 -62.696659 275.742955 ... 46.6108   0.136     90\n",
       "130762946 203.108109 -55.682144 308.728904 ...     nan    0.43     16\n",
       "130772921  79.101562 -35.501846 239.172243 ...     nan   0.034     65\n",
       "130779836 301.992188 -17.426323  25.102988 ...     nan   0.091      6"
      ]
     },
     "execution_count": 4,
     "metadata": {},
     "output_type": "execute_result"
    }
   ],
   "source": [
    "datadir = 'data/'\n",
    "metafilename = f'{datadir}/plasticc_training_set_metadata.csv'\n",
    "metadata = Table.read(metafilename, format='csv')\n",
    "nobjects = len(metadata)\n",
    "metadata"
   ]
  },
  {
   "cell_type": "markdown",
   "metadata": {},
   "source": [
    "You can see the class distribution in the training set is imbalanced. This reflects reality. The Universe doesn't produce all kinds of events at equal rates, and even if it did, some events are fainter than others, so we'd naturally find fewer of them than bright events."
   ]
  },
  {
   "cell_type": "code",
   "execution_count": 5,
   "metadata": {},
   "outputs": [
    {
     "data": {
      "text/plain": [
       "Counter({92: 239,\n",
       "         88: 370,\n",
       "         42: 1193,\n",
       "         90: 2313,\n",
       "         65: 981,\n",
       "         16: 924,\n",
       "         67: 208,\n",
       "         95: 175,\n",
       "         62: 484,\n",
       "         15: 495,\n",
       "         52: 183,\n",
       "         6: 151,\n",
       "         64: 102,\n",
       "         53: 30})"
      ]
     },
     "execution_count": 5,
     "metadata": {},
     "output_type": "execute_result"
    }
   ],
   "source": [
    "Counter(metadata['target'])"
   ]
  },
  {
   "cell_type": "markdown",
   "metadata": {},
   "source": [
    "Next, we'll read the light curve data. All the objects in the training set are in a single file"
   ]
  },
  {
   "cell_type": "code",
   "execution_count": 6,
   "metadata": {},
   "outputs": [
    {
     "data": {
      "text/html": [
       "<i>Table length=1421705</i>\n",
       "<table id=\"table112261827832\" class=\"table-striped table-bordered table-condensed\">\n",
       "<thead><tr><th>object_id</th><th>mjd</th><th>passband</th><th>flux</th><th>flux_err</th><th>detected_bool</th></tr></thead>\n",
       "<thead><tr><th>int64</th><th>float64</th><th>int64</th><th>float64</th><th>float64</th><th>int64</th></tr></thead>\n",
       "<tr><td>615</td><td>59750.4229</td><td>2</td><td>-544.810303</td><td>3.622952</td><td>1</td></tr>\n",
       "<tr><td>615</td><td>59750.4306</td><td>1</td><td>-816.434326</td><td>5.55337</td><td>1</td></tr>\n",
       "<tr><td>615</td><td>59750.4383</td><td>3</td><td>-471.385529</td><td>3.801213</td><td>1</td></tr>\n",
       "<tr><td>615</td><td>59750.445</td><td>4</td><td>-388.984985</td><td>11.395031</td><td>1</td></tr>\n",
       "<tr><td>615</td><td>59752.407</td><td>2</td><td>-681.858887</td><td>4.041204</td><td>1</td></tr>\n",
       "<tr><td>615</td><td>59752.4147</td><td>1</td><td>-1061.457031</td><td>6.472994</td><td>1</td></tr>\n",
       "<tr><td>615</td><td>59752.4224</td><td>3</td><td>-524.95459</td><td>3.552751</td><td>1</td></tr>\n",
       "<tr><td>615</td><td>59752.4334</td><td>4</td><td>-393.480225</td><td>3.599346</td><td>1</td></tr>\n",
       "<tr><td>615</td><td>59752.4435</td><td>5</td><td>-355.88678</td><td>10.421921</td><td>1</td></tr>\n",
       "<tr><td>615</td><td>59767.2968</td><td>2</td><td>-548.01355</td><td>3.462291</td><td>1</td></tr>\n",
       "<tr><td>...</td><td>...</td><td>...</td><td>...</td><td>...</td><td>...</td></tr>\n",
       "<tr><td>130779836</td><td>60542.0489</td><td>4</td><td>-60.500492</td><td>14.743795</td><td>0</td></tr>\n",
       "<tr><td>130779836</td><td>60543.0247</td><td>4</td><td>-48.527161</td><td>24.00408</td><td>0</td></tr>\n",
       "<tr><td>130779836</td><td>60545.9844</td><td>5</td><td>32.006413</td><td>77.931732</td><td>0</td></tr>\n",
       "<tr><td>130779836</td><td>60546.9804</td><td>5</td><td>68.152985</td><td>56.351048</td><td>0</td></tr>\n",
       "<tr><td>130779836</td><td>60548.9789</td><td>4</td><td>-60.066154</td><td>34.353317</td><td>0</td></tr>\n",
       "<tr><td>130779836</td><td>60555.9838</td><td>4</td><td>-39.881969</td><td>46.477093</td><td>0</td></tr>\n",
       "<tr><td>130779836</td><td>60560.0459</td><td>1</td><td>14.894439</td><td>18.947685</td><td>0</td></tr>\n",
       "<tr><td>130779836</td><td>60571.0225</td><td>5</td><td>30.59313</td><td>50.69529</td><td>0</td></tr>\n",
       "<tr><td>130779836</td><td>60585.9974</td><td>4</td><td>-23.471439</td><td>44.819859</td><td>0</td></tr>\n",
       "<tr><td>130779836</td><td>60588.0372</td><td>0</td><td>-41.214264</td><td>51.665123</td><td>0</td></tr>\n",
       "</table>"
      ],
      "text/plain": [
       "<Table length=1421705>\n",
       "object_id    mjd     passband     flux      flux_err detected_bool\n",
       "  int64    float64    int64     float64     float64      int64    \n",
       "--------- ---------- -------- ------------ --------- -------------\n",
       "      615 59750.4229        2  -544.810303  3.622952             1\n",
       "      615 59750.4306        1  -816.434326   5.55337             1\n",
       "      615 59750.4383        3  -471.385529  3.801213             1\n",
       "      615  59750.445        4  -388.984985 11.395031             1\n",
       "      615  59752.407        2  -681.858887  4.041204             1\n",
       "      615 59752.4147        1 -1061.457031  6.472994             1\n",
       "      615 59752.4224        3   -524.95459  3.552751             1\n",
       "      615 59752.4334        4  -393.480225  3.599346             1\n",
       "      615 59752.4435        5   -355.88678 10.421921             1\n",
       "      615 59767.2968        2   -548.01355  3.462291             1\n",
       "      ...        ...      ...          ...       ...           ...\n",
       "130779836 60542.0489        4   -60.500492 14.743795             0\n",
       "130779836 60543.0247        4   -48.527161  24.00408             0\n",
       "130779836 60545.9844        5    32.006413 77.931732             0\n",
       "130779836 60546.9804        5    68.152985 56.351048             0\n",
       "130779836 60548.9789        4   -60.066154 34.353317             0\n",
       "130779836 60555.9838        4   -39.881969 46.477093             0\n",
       "130779836 60560.0459        1    14.894439 18.947685             0\n",
       "130779836 60571.0225        5     30.59313  50.69529             0\n",
       "130779836 60585.9974        4   -23.471439 44.819859             0\n",
       "130779836 60588.0372        0   -41.214264 51.665123             0"
      ]
     },
     "execution_count": 6,
     "metadata": {},
     "output_type": "execute_result"
    }
   ],
   "source": [
    "lcfilename = f'{datadir}/plasticc_training_set.csv.gz'\n",
    "lcdata = Table.read(lcfilename, format='csv')\n",
    "lcdata"
   ]
  },
  {
   "cell_type": "markdown",
   "metadata": {},
   "source": [
    "Next, we'll make a `Timeseries` object using the `cesium` python package for each lightcurve."
   ]
  },
  {
   "cell_type": "code",
   "execution_count": 7,
   "metadata": {},
   "outputs": [
    {
     "data": {
      "application/vnd.jupyter.widget-view+json": {
       "model_id": "44b48f43ba0b4f1683712715d9f6ee99",
       "version_major": 2,
       "version_minor": 0
      },
      "text/plain": [
       "HBox(children=(IntProgress(value=0, description='Building Timeseries', max=7848), HTML(value='')))"
      ]
     },
     "metadata": {},
     "output_type": "display_data"
    },
    {
     "name": "stdout",
     "output_type": "stream",
     "text": [
      "\n"
     ]
    }
   ],
   "source": [
    "tsdict = OrderedDict()\n",
    "for i in tnrange(nobjects, desc='Building Timeseries'):\n",
    "    row = metadata[i]\n",
    "    thisid = row['object_id']\n",
    "    target = row['target']\n",
    "    \n",
    "    meta = {'z':row['hostgal_photoz'],\\\n",
    "            'zerr':row['hostgal_photoz_err'],\\\n",
    "            'mwebv':row['mwebv']}\n",
    "    \n",
    "    ind = (lcdata['object_id'] == thisid)\n",
    "    thislc = lcdata[ind]\n",
    "\n",
    "    pbind = [(thislc['passband'] == pb) for pb in pbmap]\n",
    "    t = [thislc['mjd'][mask].data for mask in pbind ]\n",
    "    m = [thislc['flux'][mask].data for mask in pbind ]\n",
    "    e = [thislc['flux_err'][mask].data for mask in pbind ]\n",
    "\n",
    "    tsdict[thisid] = TimeSeries(t=t, m=m, e=e,\\\n",
    "                        label=target, name=thisid, meta_features=meta,\\\n",
    "                        channel_names=pbnames )\n",
    "    \n",
    "del lcdata"
   ]
  },
  {
   "cell_type": "markdown",
   "metadata": {},
   "source": [
    "The list of features available with packages like `cesium` is <a href=\"http://cesium-ml.org/docs/feature_table.html\">huge</a>. We'll only compute a subset now."
   ]
  },
  {
   "cell_type": "code",
   "execution_count": 8,
   "metadata": {},
   "outputs": [],
   "source": [
    "features_to_use = [\"amplitude\",\n",
    "                   \"percent_beyond_1_std\",\n",
    "                   \"maximum\",\n",
    "                   \"max_slope\",\n",
    "                   \"median\",\n",
    "                   \"median_absolute_deviation\",\n",
    "                   \"percent_close_to_median\",\n",
    "                   \"minimum\",\n",
    "                   \"skew\",\n",
    "                   \"std\",\n",
    "                   \"weighted_average\"]"
   ]
  },
  {
   "cell_type": "code",
   "execution_count": 9,
   "metadata": {},
   "outputs": [],
   "source": [
    "# we'll turn off warnings for a bit, because numpy can be whiny. \n",
    "import warnings\n",
    "warnings.simplefilter('ignore')"
   ]
  },
  {
   "cell_type": "markdown",
   "metadata": {},
   "source": [
    "We'll start computing the features. This takes a while, so it's good to do this only the once, and save state. \n",
    "\n",
    "In principle you can avoid loading the data even if you run this again, but it's always a good idea to have access to your raw data while doing exploratory data analysis.\n",
    "\n",
    "If you have access to a multiprocessing capabilities, it is usually a good idea to divide the feature computation task up. Particularly when you are dealing with the test set with about 3.5 million objects... \n",
    "\n",
    "We'll use whatever cores you have on your machine."
   ]
  },
  {
   "cell_type": "code",
   "execution_count": 10,
   "metadata": {},
   "outputs": [],
   "source": [
    "def worker(tsobj):\n",
    "    global features_to_use\n",
    "    thisfeats = featurize.featurize_single_ts(tsobj,\\\n",
    "    features_to_use=features_to_use,\n",
    "    raise_exceptions=False)\n",
    "    return thisfeats"
   ]
  },
  {
   "cell_type": "code",
   "execution_count": 11,
   "metadata": {},
   "outputs": [],
   "source": [
    "featurefile = f'{datadir}/plasticc_featuretable.npz'\n",
    "if os.path.exists(featurefile):\n",
    "    featuretable, _ = featurize.load_featureset(featurefile)\n",
    "else:\n",
    "    features_list = []\n",
    "    with tqdm_notebook(total=nobjects) as pbar:\n",
    "        with schwimmbad.MultiPool() as pool:  \n",
    "            results = pool.imap(worker, list(tsdict.values()))\n",
    "            for res in results:\n",
    "                features_list.append(res)\n",
    "                pbar.update()\n",
    "            \n",
    "    featuretable = featurize.assemble_featureset(features_list=features_list,\\\n",
    "                              time_series=tsdict.values())\n",
    "    featurize.save_featureset(fset=featuretable, path=featurefile)"
   ]
  },
  {
   "cell_type": "markdown",
   "metadata": {},
   "source": [
    "The computed feature table has descriptive statistics for each object - a low-dimensional encoding of the information in the light curves. `cesium` assembles it as a `MultiIndex` which does not make `sklearn` happy, so we'll make a simpler table out of it."
   ]
  },
  {
   "cell_type": "code",
   "execution_count": 12,
   "metadata": {},
   "outputs": [],
   "source": [
    "old_names = featuretable.columns.values\n",
    "new_names = ['{}_{}'.format(x, pbmap.get(y,'meta')) for x,y in old_names]\n",
    "cols = [featuretable[col] for col in old_names]\n",
    "allfeats = Table(cols, names=new_names)"
   ]
  },
  {
   "cell_type": "markdown",
   "metadata": {},
   "source": [
    "We'll split the training set into two - one for training in this demo and the other for testing.\n",
    "\n",
    "We'll do this preserving class balance in the full training set, but remember the training set might not be representative. The class balance in the training set reflects whatever we've followed up spectroscopically prior to LSST science operations starting."
   ]
  },
  {
   "cell_type": "code",
   "execution_count": 13,
   "metadata": {},
   "outputs": [],
   "source": [
    "splitter = StratifiedShuffleSplit(n_splits=1, test_size=0.4, random_state=42)\n",
    "splits = list(splitter.split(allfeats, metadata['target']))[0]\n",
    "train_ind, test_ind = splits"
   ]
  },
  {
   "cell_type": "code",
   "execution_count": null,
   "metadata": {},
   "outputs": [],
   "source": []
  }
 ],
 "metadata": {
  "kernelspec": {
   "display_name": "Python (antares)",
   "language": "python",
   "name": "antares"
  },
  "language_info": {
   "codemirror_mode": {
    "name": "ipython",
    "version": 3
   },
   "file_extension": ".py",
   "mimetype": "text/x-python",
   "name": "python",
   "nbconvert_exporter": "python",
   "pygments_lexer": "ipython3",
   "version": "3.6.6"
  }
 },
 "nbformat": 4,
 "nbformat_minor": 2
}
