{
 "cells": [
  {
   "cell_type": "markdown",
   "metadata": {},
   "source": [
    "|Reference   | Light Curve fit  | Dimensionality <br> Reduction  | Classification <br> algorithm  | Use redshift  | Code available | \n",
    "|---|---|---|---|---|---|\n",
    "|[Poznanski *et al*, 2006](https://arxiv.org/pdf/astro-ph/0610129.pdf)| --- | --- | Template fit | Yes | [pSNiD II](https://www.sas.upenn.edu/~gladney/html-physics/psnid/psnidII/)|\n",
    "|[Newling *et al*, 2010](https://arxiv.org/pdf/1010.1005.pdf)   | parametric | parameters from fit  | Kernel Density Estimation <br> Boosting  | Yes  |  |\n",
    "|[Richards *et al*, 2011](https://arxiv.org/pdf/1103.6034.pdf)   | spline  | diffusion maps  | Random Forest  | Yes  | |\n",
    "|[Karpenka *et al*, 2012](https://arxiv.org/pdf/1208.1264.pdf)   |parametric | parameters from fit  | Neural Network  | No  | |\n",
    "|[Ishida & de Souza, 2013](https://arxiv.org/pdf/1201.6676.pdf)| spline | kernel PCA | Nearest Neighbor | No |[github](https://github.com/emilleishida/snclass) |\n",
    "|[Varughese *et al*, 2015](https://arxiv.org/pdf/1504.00015.pdf)| spline | Wavelets | Nearest Neighbor <br> Support Vector Machine | No| |\n",
    "|[Lochner *et al*, 2016](https://arxiv.org/pdf/1603.00882.pdf)|parametric <br> Gaussian Process | Wavelets<br> PCA <br> Model Fit | Naive Bayes<br> Nearest Neighbor <br> Support Vector Machine <br> Boosted Decision Trees |No|  |\n",
    "|[Moller *et al*, 2016](https://arxiv.org/pdf/1608.05423.pdf) | parametric | parameters from fit| Boosted Decision Trees  <br> Random Forest | Yes | \n",
    "|[Charnok and Moss, 2017](https://arxiv.org/pdf/1606.07442.pdf)<sup>[1](#RNN)</sup>| --- | --- | Recurrent Neural Network | No|[github](https://github.com/adammoss/supernovae) |   \n",
    "|[Revsbech *et al*, 2018](https://arxiv.org/pdf/1706.03811.pdf)<sup>[2](#PSM)</sup>|Gaussian Process|Diffusion Maps| Random Forest |Yes| [github](https://github.com/rtrotta/STACCATO)|\n",
    "| [Dai *et al*, 2018](https://arxiv.org/pdf/1701.05689.pdf)|parametric|parameters from fit| Random Forest| No||\n",
    "\n",
    "\n",
    "<a name=\"RNN\">1</a>: Uses data augmentation  \n",
    "<a name=\"PSM\">2</a>: Propensity score matching for landmark selection and data augmentation from Gaussian Process"
   ]
  },
  {
   "cell_type": "markdown",
   "metadata": {},
   "source": [
    "### In Python\n",
    "[Scikit-learn](http://scikit-learn.org/stable/)\n",
    "\n",
    "#### For Astronomy\n",
    "[astropy](http://www.astropy.org/)  \n",
    "[astroML](http://www.astroml.org/)  \n",
    "\n",
    "### In R\n",
    "[randomForest](https://cran.r-project.org/web/packages/randomForest/)    \n",
    "[Caret](http://topepo.github.io/caret/index.html)"
   ]
  },
  {
   "cell_type": "code",
   "execution_count": null,
   "metadata": {},
   "outputs": [],
   "source": []
  }
 ],
 "metadata": {
  "kernelspec": {
   "display_name": "Python 3",
   "language": "python",
   "name": "python3"
  },
  "language_info": {
   "codemirror_mode": {
    "name": "ipython",
    "version": 3
   },
   "file_extension": ".py",
   "mimetype": "text/x-python",
   "name": "python",
   "nbconvert_exporter": "python",
   "pygments_lexer": "ipython3",
   "version": "3.6.5"
  }
 },
 "nbformat": 4,
 "nbformat_minor": 2
}
