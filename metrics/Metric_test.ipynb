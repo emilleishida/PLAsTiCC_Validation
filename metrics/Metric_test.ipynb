{
 "cells": [
  {
   "cell_type": "code",
   "execution_count": 1,
   "metadata": {},
   "outputs": [],
   "source": [
    "from metric import *\n",
    "from util import *\n",
    "from logloss import *\n",
    "\n",
    "import numpy as np\n",
    "\n",
    "pop_test = {1: 1458440,\n",
    "         2: 581681,\n",
    "         3: 152048,\n",
    "         43: 57285,\n",
    "         60: 33159,\n",
    "         70: 119363,\n",
    "         80: 359297,\n",
    "         41: 32336,\n",
    "         64: 12964,\n",
    "         91: 1218,\n",
    "         83: 131225,\n",
    "         84: 988,\n",
    "         81: 13166,\n",
    "         51: 22,\n",
    "           99: 11839}\n",
    "\n",
    "pop_train = {2: 819,\n",
    "         1: 2272,\n",
    "         80: 389,\n",
    "         81: 132,\n",
    "         3: 531,\n",
    "         43: 172,\n",
    "         70: 388,\n",
    "         60: 178,\n",
    "         41: 205,\n",
    "         91: 158,\n",
    "         84: 32,\n",
    "         83: 1113,\n",
    "         64: 459,\n",
    "         51: 21}\n",
    "\n",
    "w1 =    {1: 1,\n",
    "         2: 2,\n",
    "         3: 9,\n",
    "         43: 25,\n",
    "         60: 43,\n",
    "         70: 12,\n",
    "         80: 4,\n",
    "         41: 45,\n",
    "         64: 112,\n",
    "         91: 1197,\n",
    "         83: 11,\n",
    "         84: 1476,\n",
    "         81: 110,\n",
    "         51: 66292,\n",
    "         99: 123}\n",
    "\n",
    "types = list(pop_test.keys())\n",
    "types.sort()"
   ]
  },
  {
   "cell_type": "markdown",
   "metadata": {},
   "source": [
    "### Number correspondance"
   ]
  },
  {
   "cell_type": "raw",
   "metadata": {},
   "source": [
    "#    MODELNUM  MODELNUM   symbol        model\n",
    "#   SNANA-GEN  PLASTICC   suffix        name\n",
    "# ========================================================================\n",
    "MODEL:  1         1      SNIa           Type Ia Supernova\n",
    "MODEL:  2+12+14   2      CCII           Type II Supernova\n",
    "MODEL:  3+13      3      CCIbc          Type Ibc Supernova\n",
    "MODEL:  41       41      bg             Type Ia Supernova 91bg sublcass\n",
    "MODEL:  43       43      Iax            Type Ia Supernova Iax subclass\n",
    "MODEL:  51       51      KN             Kilonova\n",
    "MODEL:  60       60      SLSN           Super Luminous Supernova\n",
    "MODEL:  61       99      PISN           Pair Instability Supernova\n",
    "MODEL:  62       99      ILOT           Intermediate Luminosity Transient\n",
    "MODEL:  63       99      CART           Calcium Rich Transient\n",
    "MODEL:  64       64      TDE            Tidal Disruption Event\n",
    "MODEL:  70       70      AGN            Active Galactic Nucleii\n",
    "MODEL:  80       80      RRlyrae        RR Lyrae Variable Star\n",
    "MODEL:  81       81      Mdwarf         M-dwarf Flare\n",
    "MODEL:  83       83      EB             Eclipsing Binary\n",
    "MODEL:  84       84      MIRA           Mira Variable Star\n",
    "MODEL:  90       99      uLensBinary    microlensing-Binary\n",
    "MODEL:  91+93    91      uLensPoint     microlensing-Point\n",
    "MODEL:  92       99      uLensSTRING    microlensing-String\n",
    "# =========================================================================="
   ]
  },
  {
   "cell_type": "markdown",
   "metadata": {},
   "source": [
    "###  Create model name dictionary"
   ]
  },
  {
   "cell_type": "code",
   "execution_count": 2,
   "metadata": {},
   "outputs": [],
   "source": [
    "model_name = {1: 'Ia',\n",
    "              2: 'CCII',\n",
    "              3: 'CCIbc',\n",
    "              41:'bg',\n",
    "              43:'Iax',\n",
    "              51:'KN',\n",
    "              60:'SLSN',\n",
    "              64:'TDE',\n",
    "              70:'AGN',\n",
    "              80:'RRLyrae',\n",
    "              81:'Mdwarf',\n",
    "              83:'EB',\n",
    "              84:'MIRA',\n",
    "              91:'uLensPoint',\n",
    "              99:'other'}"
   ]
  },
  {
   "cell_type": "markdown",
   "metadata": {},
   "source": [
    "### Determine weights"
   ]
  },
  {
   "cell_type": "code",
   "execution_count": 3,
   "metadata": {},
   "outputs": [
    {
     "name": "stdout",
     "output_type": "stream",
     "text": [
      "model:  weight\n",
      "Ia :  1\n",
      "CCII :  1\n",
      "CCIbc :  1\n",
      "bg :  1\n",
      "Iax :  1\n",
      "KN :  2\n",
      "SLSN :  1\n",
      "TDE :  2\n",
      "AGN :  1\n",
      "RRLyrae :  1\n",
      "Mdwarf :  1\n",
      "EB :  1\n",
      "MIRA :  1\n",
      "uLensPoint :  1\n",
      "other :  2\n"
     ]
    }
   ],
   "source": [
    "high_weights = [51, 64, 99]\n",
    "indx_high_weights = [types.index(k) for k in high_weights]\n",
    "weights = [1 if i not in indx_high_weights else 2 for i in range(len(types))]\n",
    "\n",
    "print('model:  weight')\n",
    "for i in range(len(weights)):\n",
    "    print(model_name[types[i]], ': ', weights[i])"
   ]
  },
  {
   "cell_type": "code",
   "execution_count": 4,
   "metadata": {},
   "outputs": [
    {
     "name": "stdout",
     "output_type": "stream",
     "text": [
      "truth length:  2965031\n"
     ]
    }
   ],
   "source": [
    "# Build true class vector\n",
    "truth = []\n",
    "for k in range(len(types)):\n",
    "    for l in range(pop_test[types[k]]):\n",
    "        truth.append(k)\n",
    "\n",
    "print('truth length: ', len(truth))"
   ]
  },
  {
   "cell_type": "markdown",
   "metadata": {},
   "source": [
    "## Perfect classification"
   ]
  },
  {
   "cell_type": "code",
   "execution_count": 5,
   "metadata": {},
   "outputs": [],
   "source": [
    "# Build prediction vector - perfect classification\n",
    "prediction = []\n",
    "for k in types:\n",
    "    for l in range(pop_test[k]):\n",
    "        line = [1.0 if j == k else 0 for j in types]\n",
    "        prediction.append(line)\n",
    "\n",
    "prediction = np.array(prediction)"
   ]
  },
  {
   "cell_type": "code",
   "execution_count": 6,
   "metadata": {},
   "outputs": [
    {
     "name": "stdout",
     "output_type": "stream",
     "text": [
      "(0, 1458440, 3.1086244689504395e-15)\n",
      "(1, 581681, 3.1086244689504403e-15)\n",
      "(2, 152048, 3.1086244689504446e-15)\n",
      "(3, 32336, 3.108624468950444e-15)\n",
      "(4, 57285, 3.1086244689504442e-15)\n",
      "(5, 22, 3.1086244689504423e-15)\n",
      "(6, 33159, 3.1086244689504442e-15)\n",
      "(7, 12964, 3.1086244689504442e-15)\n",
      "(8, 119363, 3.1086244689504442e-15)\n",
      "(9, 359297, 3.108624468950441e-15)\n",
      "(10, 13166, 3.1086244689504442e-15)\n",
      "(11, 131225, 3.1086244689504442e-15)\n",
      "(12, 988, 3.1086244689504442e-15)\n",
      "(13, 1218, 3.1086244689504434e-15)\n",
      "(14, 11839, 3.1086244689504442e-15)\n",
      "perfect score: 3.108624468950443e-15\n"
     ]
    }
   ],
   "source": [
    "score = LogLoss()\n",
    "m_perfect = score.evaluate(prediction, truth, averaging=weights)\n",
    "print('perfect score:', m_perfect)"
   ]
  },
  {
   "cell_type": "markdown",
   "metadata": {},
   "source": [
    "## All SN Ia classified as Kilonova, everything else correct"
   ]
  },
  {
   "cell_type": "code",
   "execution_count": 7,
   "metadata": {},
   "outputs": [],
   "source": [
    "pred_Ia_to_KN = []\n",
    "for k in types:\n",
    "    for l in range(pop_test[k]):\n",
    "        if k != 1:\n",
    "            line = [1.0 if j == k else 0 for j in types]\n",
    "            pred_Ia_to_KN.append(line)\n",
    "        else:\n",
    "            line = [1.0 if j == 51 else 0 for j in types]\n",
    "            pred_Ia_to_KN.append(line)\n",
    "pred_Ia_to_KN = np.array(pred_Ia_to_KN)"
   ]
  },
  {
   "cell_type": "code",
   "execution_count": 8,
   "metadata": {},
   "outputs": [
    {
     "name": "stdout",
     "output_type": "stream",
     "text": [
      "(0, 1458440, 36.04365338911708)\n",
      "(1, 581681, 3.1086244689504403e-15)\n",
      "(2, 152048, 3.1086244689504446e-15)\n",
      "(3, 32336, 3.108624468950444e-15)\n",
      "(4, 57285, 3.1086244689504442e-15)\n",
      "(5, 22, 3.1086244689504423e-15)\n",
      "(6, 33159, 3.1086244689504442e-15)\n",
      "(7, 12964, 3.1086244689504442e-15)\n",
      "(8, 119363, 3.1086244689504442e-15)\n",
      "(9, 359297, 3.108624468950441e-15)\n",
      "(10, 13166, 3.1086244689504442e-15)\n",
      "(11, 131225, 3.1086244689504442e-15)\n",
      "(12, 988, 3.1086244689504442e-15)\n",
      "(13, 1218, 3.1086244689504434e-15)\n",
      "(14, 11839, 3.1086244689504442e-15)\n",
      "Ia_to_KN score: 2.0024251882842847\n"
     ]
    }
   ],
   "source": [
    "score = LogLoss()\n",
    "m_Ia_to_KN = score.evaluate(pred_Ia_to_KN, truth, averaging=weights)\n",
    "print('Ia_to_KN score:', m_Ia_to_KN)"
   ]
  },
  {
   "cell_type": "markdown",
   "metadata": {},
   "source": [
    "## All Kilonova classified as SN Ia, everything else correct"
   ]
  },
  {
   "cell_type": "code",
   "execution_count": 9,
   "metadata": {},
   "outputs": [],
   "source": [
    "pred_KN_to_Ia = []\n",
    "for k in types:\n",
    "    for l in range(pop_test[k]):\n",
    "        if k != 51:\n",
    "            line = [1.0 if j == k else 0 for j in types]\n",
    "            pred_KN_to_Ia.append(line)\n",
    "        else:\n",
    "            line = [1.0 if j == 1 else 0 for j in types]\n",
    "            pred_KN_to_Ia.append(line)\n",
    "pred_KN_to_Ia = np.array(pred_KN_to_Ia)"
   ]
  },
  {
   "cell_type": "code",
   "execution_count": 10,
   "metadata": {},
   "outputs": [
    {
     "name": "stdout",
     "output_type": "stream",
     "text": [
      "(0, 1458440, 3.1086244689504395e-15)\n",
      "(1, 581681, 3.1086244689504403e-15)\n",
      "(2, 152048, 3.1086244689504446e-15)\n",
      "(3, 32336, 3.108624468950444e-15)\n",
      "(4, 57285, 3.1086244689504442e-15)\n",
      "(5, 22, 36.04365338911715)\n",
      "(6, 33159, 3.1086244689504442e-15)\n",
      "(7, 12964, 3.1086244689504442e-15)\n",
      "(8, 119363, 3.1086244689504442e-15)\n",
      "(9, 359297, 3.108624468950441e-15)\n",
      "(10, 13166, 3.1086244689504442e-15)\n",
      "(11, 131225, 3.1086244689504442e-15)\n",
      "(12, 988, 3.1086244689504442e-15)\n",
      "(13, 1218, 3.1086244689504434e-15)\n",
      "(14, 11839, 3.1086244689504442e-15)\n",
      "KN_to_Ia score: 4.004850376568576\n"
     ]
    }
   ],
   "source": [
    "score = LogLoss()\n",
    "m_KN_to_Ia = score.evaluate(pred_KN_to_Ia, truth, averaging=weights)\n",
    "print('KN_to_Ia score:', m_KN_to_Ia)"
   ]
  },
  {
   "cell_type": "markdown",
   "metadata": {},
   "source": [
    "## Everything classified as the Other class"
   ]
  },
  {
   "cell_type": "code",
   "execution_count": 11,
   "metadata": {},
   "outputs": [],
   "source": [
    "pred_all_other = []\n",
    "for k in types:\n",
    "    for l in range(pop_test[k]):\n",
    "        line = [1.0 if j == 99 else 0 for j in types]\n",
    "        pred_all_other.append(line)\n",
    "pred_all_other = np.array(pred_all_other)"
   ]
  },
  {
   "cell_type": "code",
   "execution_count": 12,
   "metadata": {},
   "outputs": [
    {
     "name": "stdout",
     "output_type": "stream",
     "text": [
      "(0, 1458440, 36.04365338911708)\n",
      "(1, 581681, 36.04365338911716)\n",
      "(2, 152048, 36.043653389117146)\n",
      "(3, 32336, 36.04365338911716)\n",
      "(4, 57285, 36.043653389117146)\n",
      "(5, 22, 36.04365338911715)\n",
      "(6, 33159, 36.04365338911715)\n",
      "(7, 12964, 36.04365338911715)\n",
      "(8, 119363, 36.043653389117146)\n",
      "(9, 359297, 36.043653389117175)\n",
      "(10, 13166, 36.04365338911715)\n",
      "(11, 131225, 36.043653389117146)\n",
      "(12, 988, 36.04365338911716)\n",
      "(13, 1218, 36.04365338911716)\n",
      "(14, 11839, 3.1086244689504442e-15)\n",
      "all_other score: 32.03880301254857\n"
     ]
    }
   ],
   "source": [
    "score = LogLoss()\n",
    "m_all_other = score.evaluate(pred_all_other, truth, averaging=weights)\n",
    "print('all_other score:', m_all_other)"
   ]
  },
  {
   "cell_type": "markdown",
   "metadata": {},
   "source": [
    "## Randomly assign high weight classes"
   ]
  },
  {
   "cell_type": "code",
   "execution_count": 13,
   "metadata": {},
   "outputs": [],
   "source": [
    "pred_random_rare = []\n",
    "for k in types:\n",
    "    for l in range(pop_test[k]):\n",
    "        guess_type = np.random.choice([51,64,99])\n",
    "        line = [1.0 if j == guess_type else 0 for j in types]\n",
    "        pred_random_rare.append(line)\n",
    "pred_random_rare = np.array(pred_random_rare)"
   ]
  },
  {
   "cell_type": "code",
   "execution_count": 14,
   "metadata": {},
   "outputs": [
    {
     "name": "stdout",
     "output_type": "stream",
     "text": [
      "(0, 1458440, 36.04365338911708)\n",
      "(1, 581681, 36.04365338911716)\n",
      "(2, 152048, 36.043653389117146)\n",
      "(3, 32336, 36.04365338911716)\n",
      "(4, 57285, 36.043653389117146)\n",
      "(5, 22, 24.575218219852605)\n",
      "(6, 33159, 36.04365338911715)\n",
      "(7, 12964, 23.749219935964117)\n",
      "(8, 119363, 36.043653389117146)\n",
      "(9, 359297, 36.043653389117175)\n",
      "(10, 13166, 36.04365338911715)\n",
      "(11, 131225, 36.043653389117146)\n",
      "(12, 988, 36.04365338911716)\n",
      "(13, 1218, 36.04365338911716)\n",
      "(14, 11839, 24.03925054147048)\n",
      "random_rare score: 32.069512114665564\n"
     ]
    }
   ],
   "source": [
    "score = LogLoss()\n",
    "m_random_rare = score.evaluate(pred_random_rare, truth, averaging=weights)\n",
    "print('random_rare score:', m_random_rare)"
   ]
  },
  {
   "cell_type": "markdown",
   "metadata": {},
   "source": [
    "## Ia correct, everything else random"
   ]
  },
  {
   "cell_type": "code",
   "execution_count": 15,
   "metadata": {},
   "outputs": [],
   "source": [
    "pred_Ia_correct = []\n",
    "for k in types:\n",
    "    for l in range(pop_test[k]):\n",
    "        if k != 1:\n",
    "            temp =np.random.choice(types)\n",
    "            line = [1.0 if j == temp else 0 for j in types]\n",
    "            pred_Ia_correct.append(line)\n",
    "        else:\n",
    "            line = [1.0 if j == 1 else 0 for j in types]\n",
    "            pred_Ia_correct.append(line)\n",
    "pred_Ia_correct = np.array(pred_Ia_correct)"
   ]
  },
  {
   "cell_type": "code",
   "execution_count": 16,
   "metadata": {},
   "outputs": [
    {
     "name": "stdout",
     "output_type": "stream",
     "text": [
      "(0, 1458440, 3.1086244689504395e-15)\n",
      "(1, 581681, 33.63335284718803)\n",
      "(2, 152048, 33.64489951767869)\n",
      "(3, 32336, 33.62706999761524)\n",
      "(4, 57285, 33.59544084941121)\n",
      "(5, 22, 34.40530550779365)\n",
      "(6, 33159, 33.5674797282586)\n",
      "(7, 12964, 33.71933263677976)\n",
      "(8, 119363, 33.66808121673388)\n",
      "(9, 359297, 33.645973030936354)\n",
      "(10, 13166, 33.65096365327572)\n",
      "(11, 131225, 33.64468010886911)\n",
      "(12, 988, 33.562916111323666)\n",
      "(13, 1218, 33.6170691708022)\n",
      "(14, 11839, 33.62633260265216)\n",
      "Ia_correct score: 31.853325984807988\n"
     ]
    }
   ],
   "source": [
    "score = LogLoss()\n",
    "m_Ia_correct = score.evaluate(pred_Ia_correct, truth, averaging=weights)\n",
    "print('Ia_correct score:', m_Ia_correct)"
   ]
  },
  {
   "cell_type": "markdown",
   "metadata": {},
   "source": [
    "## KN correct, everything else random"
   ]
  },
  {
   "cell_type": "code",
   "execution_count": 17,
   "metadata": {},
   "outputs": [],
   "source": [
    "pred_KN_correct = []\n",
    "for k in types:\n",
    "    for l in range(pop_test[k]):\n",
    "        if k != 51:\n",
    "            temp =np.random.choice(types)\n",
    "            line = [1.0 if j == temp else 0 for j in types]\n",
    "            pred_KN_correct.append(line)\n",
    "        else:\n",
    "            line = [1.0 if j == 51 else 0 for j in types]\n",
    "            pred_KN_correct.append(line)\n",
    "pred_KN_correct = np.array(pred_KN_correct)"
   ]
  },
  {
   "cell_type": "code",
   "execution_count": 18,
   "metadata": {},
   "outputs": [
    {
     "name": "stdout",
     "output_type": "stream",
     "text": [
      "(0, 1458440, 33.647201713466515)\n",
      "(1, 581681, 33.63663697307426)\n",
      "(2, 152048, 33.638499047817156)\n",
      "(3, 32336, 33.583598248413864)\n",
      "(4, 57285, 33.63130518114168)\n",
      "(5, 22, 3.1086244689504423e-15)\n",
      "(6, 33159, 33.70878902409336)\n",
      "(7, 12964, 33.67762831706079)\n",
      "(8, 119363, 33.63607274460059)\n",
      "(9, 359297, 33.654901257867365)\n",
      "(10, 13166, 33.62084970923195)\n",
      "(11, 131225, 33.6408347200526)\n",
      "(12, 988, 33.41699038910052)\n",
      "(13, 1218, 33.824216604073)\n",
      "(14, 11839, 33.6994002334773)\n",
      "KN_correct score: 29.910775150778278\n"
     ]
    }
   ],
   "source": [
    "score = LogLoss()\n",
    "m_KN_correct = score.evaluate(pred_KN_correct, truth, averaging=weights)\n",
    "print('KN_correct score:', m_KN_correct)"
   ]
  },
  {
   "cell_type": "markdown",
   "metadata": {},
   "source": [
    "## Everything wrong"
   ]
  },
  {
   "cell_type": "code",
   "execution_count": 19,
   "metadata": {},
   "outputs": [],
   "source": [
    "pred_all_wrong = []\n",
    "for k in types:\n",
    "    for l in range(pop_test[k]):\n",
    "        if k not in [51, 64, 99]:\n",
    "            line = [1.0 if j == 51 else 0 for j in types]\n",
    "            pred_all_wrong.append(line)\n",
    "        else:\n",
    "            line = [1.0 if j == 1 else 0 for j in types]\n",
    "            pred_all_wrong.append(line)\n",
    "pred_all_wrong = np.array(pred_all_wrong)"
   ]
  },
  {
   "cell_type": "code",
   "execution_count": 20,
   "metadata": {},
   "outputs": [
    {
     "name": "stdout",
     "output_type": "stream",
     "text": [
      "(0, 1458440, 36.04365338911708)\n",
      "(1, 581681, 36.04365338911716)\n",
      "(2, 152048, 36.043653389117146)\n",
      "(3, 32336, 36.04365338911716)\n",
      "(4, 57285, 36.043653389117146)\n",
      "(5, 22, 36.04365338911715)\n",
      "(6, 33159, 36.04365338911715)\n",
      "(7, 12964, 36.04365338911715)\n",
      "(8, 119363, 36.043653389117146)\n",
      "(9, 359297, 36.043653389117175)\n",
      "(10, 13166, 36.04365338911715)\n",
      "(11, 131225, 36.043653389117146)\n",
      "(12, 988, 36.04365338911716)\n",
      "(13, 1218, 36.04365338911716)\n",
      "(14, 11839, 36.04365338911715)\n",
      "all_wrong score: 36.043653389117146\n"
     ]
    }
   ],
   "source": [
    "score = LogLoss()\n",
    "m_all_wrong = score.evaluate(pred_all_wrong, truth, averaging=weights)\n",
    "print('all_wrong score:', m_all_wrong)"
   ]
  },
  {
   "cell_type": "markdown",
   "metadata": {},
   "source": [
    "# Plot"
   ]
  },
  {
   "cell_type": "code",
   "execution_count": 21,
   "metadata": {},
   "outputs": [],
   "source": [
    "results = np.array([[1, m_perfect],\n",
    "                    [4, m_Ia_to_KN],\n",
    "                    [7, m_KN_to_Ia],\n",
    "                    [10, m_KN_correct],\n",
    "                    [13, m_Ia_correct],\n",
    "                    [16, m_all_other],\n",
    "                    [19, m_random_rare],\n",
    "                    [22, m_all_wrong]])\n",
    "\n",
    "import matplotlib.pylab as plt\n",
    "\n",
    "plt.figure()\n",
    "plt.scatter(results[:,0], results[:,1])\n",
    "plt.xlabel('scenario')\n",
    "plt.ylabel('score')\n",
    "plt.xticks([1,4,7,10,13, 16, 19,22],['perfect', 'Ia_to_KN', 'KN_to_Ia', 'KN_correct','Ia_correct','all_other','random_rare','all_wrong'], rotation=45)\n",
    "plt.savefig('Extreme_class.png')"
   ]
  },
  {
   "cell_type": "code",
   "execution_count": 22,
   "metadata": {},
   "outputs": [
    {
     "name": "stdout",
     "output_type": "stream",
     "text": [
      "Case \t \t \t \t \t  score\n",
      "Perfect classification: \t \t  3.108624468950443e-15\n",
      "\t All Ia classified as KN: \t  2.0024251882842847\n",
      "\t All KN classified as Ia: \t  4.004850376568576\n",
      "Kilonova correct, everything else random: 29.910775150778278\n",
      "Ia correct, everything else random: \t  31.853325984807988\n",
      "All objects classified as \"Other\": \t  32.03880301254857\n",
      "Random rare: \t \t \t \t  32.069512114665564\n",
      "All wrong: \t \t \t \t  36.043653389117146\n"
     ]
    }
   ],
   "source": [
    "print('Case \\t \\t \\t \\t \\t  score')\n",
    "print('Perfect classification: \\t \\t ', m_perfect)\n",
    "print('\\t All Ia classified as KN: \\t ', m_Ia_to_KN)\n",
    "print('\\t All KN classified as Ia: \\t ', m_KN_to_Ia)\n",
    "print('Kilonova correct, everything else random:', m_KN_correct)\n",
    "print('Ia correct, everything else random: \\t ', m_Ia_correct)\n",
    "print('All objects classified as \"Other\": \\t ', m_all_other)\n",
    "print('Random rare: \\t \\t \\t \\t ', m_random_rare)\n",
    "print('All wrong: \\t \\t \\t \\t ', m_all_wrong)"
   ]
  },
  {
   "cell_type": "code",
   "execution_count": null,
   "metadata": {},
   "outputs": [],
   "source": []
  }
 ],
 "metadata": {
  "kernelspec": {
   "display_name": "Python 3",
   "language": "python",
   "name": "python3"
  },
  "language_info": {
   "codemirror_mode": {
    "name": "ipython",
    "version": 3
   },
   "file_extension": ".py",
   "mimetype": "text/x-python",
   "name": "python",
   "nbconvert_exporter": "python",
   "pygments_lexer": "ipython3",
   "version": "3.6.5"
  }
 },
 "nbformat": 4,
 "nbformat_minor": 2
}
