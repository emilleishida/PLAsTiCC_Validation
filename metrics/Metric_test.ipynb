{
 "cells": [
  {
   "cell_type": "code",
   "execution_count": 1,
   "metadata": {},
   "outputs": [],
   "source": [
    "from metric import *\n",
    "from util import *\n",
    "from logloss import *\n",
    "\n",
    "import numpy as np\n",
    "\n",
    "pop_test = {1: 1458440,\n",
    "         2: 581681,\n",
    "         3: 152048,\n",
    "         43: 57285,\n",
    "         60: 33159,\n",
    "         70: 119363,\n",
    "         80: 359297,\n",
    "         41: 32336,\n",
    "         64: 12964,\n",
    "         91: 1218,\n",
    "         83: 131225,\n",
    "         84: 988,\n",
    "         81: 13166,\n",
    "         51: 22,\n",
    "           99: 11839}\n",
    "\n",
    "pop_train = {2: 819,\n",
    "         1: 2272,\n",
    "         80: 389,\n",
    "         81: 132,\n",
    "         3: 531,\n",
    "         43: 172,\n",
    "         70: 388,\n",
    "         60: 178,\n",
    "         41: 205,\n",
    "         91: 158,\n",
    "         84: 32,\n",
    "         83: 1113,\n",
    "         64: 459,\n",
    "         51: 21}\n",
    "\n",
    "types = list(pop_test.keys())\n",
    "types.sort()"
   ]
  },
  {
   "cell_type": "raw",
   "metadata": {},
   "source": [
    "#    MODELNUM  MODELNUM   symbol        model\n",
    "#   SNANA-GEN  PLASTICC   suffix        name\n",
    "# ========================================================================\n",
    "MODEL:  1         1      SNIa           Type Ia Supernova\n",
    "MODEL:  2+12+14   2      CCII           Type II Supernova\n",
    "MODEL:  3+13      3      CCIbc          Type Ibc Supernova\n",
    "MODEL:  41       41      bg             Type Ia Supernova 91bg sublcass\n",
    "MODEL:  43       43      Iax            Type Ia Supernova Iax subclass\n",
    "MODEL:  51       51      KN             Kilonova\n",
    "MODEL:  60       60      SLSN           Super Luminous Supernova\n",
    "MODEL:  61       99      PISN           Pair Instability Supernova\n",
    "MODEL:  62       99      ILOT           Intermediate Luminosity Transient\n",
    "MODEL:  63       99      CART           Calcium Rich Transient\n",
    "MODEL:  64       64      TDE            Tidal Disruption Event\n",
    "MODEL:  70       70      AGN            Active Galactic Nucleii\n",
    "MODEL:  80       80      RRlyrae        RR Lyrae Variable Star\n",
    "MODEL:  81       81      Mdwarf         M-dwarf Flare\n",
    "MODEL:  83       83      EB             Eclipsing Binary\n",
    "MODEL:  84       84      MIRA           Mira Variable Star\n",
    "MODEL:  90       99      uLensBinary    microlensing-Binary\n",
    "MODEL:  91+93    91      uLensPoint     microlensing-Point\n",
    "MODEL:  92       99      uLensSTRING    microlensing-String\n",
    "# =========================================================================="
   ]
  },
  {
   "cell_type": "code",
   "execution_count": 2,
   "metadata": {},
   "outputs": [],
   "source": [
    "# Build true class vector\n",
    "truth = []\n",
    "for k in range(len(types)):\n",
    "    for l in range(pop_test[types[k]]):\n",
    "        truth.append(k)"
   ]
  },
  {
   "cell_type": "code",
   "execution_count": 8,
   "metadata": {},
   "outputs": [],
   "source": [
    "# Build prediction vector - perfect classification\n",
    "prediction = []\n",
    "for k in types:\n",
    "    for l in range(pop_test[k]):\n",
    "        line = [1 if j == k else 0 for j in types]\n",
    "        prediction.append(line)\n",
    "\n",
    "prediction = np.array(prediction)"
   ]
  },
  {
   "cell_type": "code",
   "execution_count": 9,
   "metadata": {},
   "outputs": [],
   "source": [
    "weights = [1.0/len(types) for i in range(len(types))]"
   ]
  },
  {
   "cell_type": "code",
   "execution_count": 10,
   "metadata": {},
   "outputs": [
    {
     "name": "stderr",
     "output_type": "stream",
     "text": [
      "/home/emille/Documents/git/PLAsTiCC_Validation/metrics/util.py:41: RuntimeWarning: divide by zero encountered in true_divide\n",
      "  predictions = predictions / np.sum(predictions, axis=1)[:, np.newaxis]\n",
      "/home/emille/Documents/git/PLAsTiCC_Validation/metrics/util.py:41: RuntimeWarning: invalid value encountered in true_divide\n",
      "  predictions = predictions / np.sum(predictions, axis=1)[:, np.newaxis]\n"
     ]
    },
    {
     "name": "stdout",
     "output_type": "stream",
     "text": [
      "(0, 1458440, nan)\n",
      "(1, 581681, nan)\n",
      "(2, 152048, nan)\n",
      "(3, 32336, nan)\n",
      "(4, 57285, nan)\n",
      "(5, 22, nan)\n",
      "(6, 33159, nan)\n",
      "(7, 12964, nan)\n",
      "(8, 119363, nan)\n",
      "(9, 359297, nan)\n",
      "(10, 13166, nan)\n",
      "(11, 131225, nan)\n",
      "(12, 988, nan)\n",
      "(13, 1218, nan)\n",
      "(14, 11839, nan)\n"
     ]
    },
    {
     "ename": "AssertionError",
     "evalue": "",
     "output_type": "error",
     "traceback": [
      "\u001b[0;31m---------------------------------------------------------------------------\u001b[0m",
      "\u001b[0;31mAssertionError\u001b[0m                            Traceback (most recent call last)",
      "\u001b[0;32m<ipython-input-10-fc60ff4372b3>\u001b[0m in \u001b[0;36m<module>\u001b[0;34m()\u001b[0m\n\u001b[1;32m      1\u001b[0m \u001b[0mscore\u001b[0m \u001b[0;34m=\u001b[0m \u001b[0mLogLoss\u001b[0m\u001b[0;34m(\u001b[0m\u001b[0;34m)\u001b[0m\u001b[0;34m\u001b[0m\u001b[0m\n\u001b[0;32m----> 2\u001b[0;31m \u001b[0mm_perfect\u001b[0m \u001b[0;34m=\u001b[0m \u001b[0mscore\u001b[0m\u001b[0;34m.\u001b[0m\u001b[0mevaluate\u001b[0m\u001b[0;34m(\u001b[0m\u001b[0mprediction\u001b[0m\u001b[0;34m,\u001b[0m \u001b[0mtruth\u001b[0m\u001b[0;34m,\u001b[0m \u001b[0maveraging\u001b[0m\u001b[0;34m=\u001b[0m\u001b[0mweights\u001b[0m\u001b[0;34m)\u001b[0m\u001b[0;34m\u001b[0m\u001b[0m\n\u001b[0m",
      "\u001b[0;32m~/Documents/git/PLAsTiCC_Validation/metrics/logloss.py\u001b[0m in \u001b[0;36mevaluate\u001b[0;34m(self, prediction, truth, averaging)\u001b[0m\n\u001b[1;32m     71\u001b[0m         \u001b[0mlogloss\u001b[0m \u001b[0;34m=\u001b[0m \u001b[0mweight_sum\u001b[0m\u001b[0;34m(\u001b[0m\u001b[0mclass_logloss\u001b[0m\u001b[0;34m,\u001b[0m \u001b[0mweight_vector\u001b[0m\u001b[0;34m=\u001b[0m\u001b[0mweights\u001b[0m\u001b[0;34m)\u001b[0m\u001b[0;34m\u001b[0m\u001b[0m\n\u001b[1;32m     72\u001b[0m \u001b[0;34m\u001b[0m\u001b[0m\n\u001b[0;32m---> 73\u001b[0;31m         \u001b[0;32massert\u001b[0m\u001b[0;34m(\u001b[0m\u001b[0;34m~\u001b[0m\u001b[0mnp\u001b[0m\u001b[0;34m.\u001b[0m\u001b[0misnan\u001b[0m\u001b[0;34m(\u001b[0m\u001b[0mlogloss\u001b[0m\u001b[0;34m)\u001b[0m\u001b[0;34m)\u001b[0m\u001b[0;34m\u001b[0m\u001b[0m\n\u001b[0m\u001b[1;32m     74\u001b[0m \u001b[0;34m\u001b[0m\u001b[0m\n\u001b[1;32m     75\u001b[0m         \u001b[0;32mreturn\u001b[0m \u001b[0mlogloss\u001b[0m\u001b[0;34m\u001b[0m\u001b[0m\n",
      "\u001b[0;31mAssertionError\u001b[0m: "
     ]
    }
   ],
   "source": [
    "score = LogLoss()\n",
    "m_perfect = score.evaluate(prediction, truth, averaging=weights)"
   ]
  },
  {
   "cell_type": "code",
   "execution_count": null,
   "metadata": {},
   "outputs": [],
   "source": []
  }
 ],
 "metadata": {
  "kernelspec": {
   "display_name": "Python 3",
   "language": "python",
   "name": "python3"
  },
  "language_info": {
   "codemirror_mode": {
    "name": "ipython",
    "version": 3
   },
   "file_extension": ".py",
   "mimetype": "text/x-python",
   "name": "python",
   "nbconvert_exporter": "python",
   "pygments_lexer": "ipython3",
   "version": "3.6.6"
  }
 },
 "nbformat": 4,
 "nbformat_minor": 2
}
