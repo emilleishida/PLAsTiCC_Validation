{
 "cells": [
  {
   "cell_type": "markdown",
   "metadata": {
    "toc": true
   },
   "source": [
    "<h1>Table of Contents<span class=\"tocSkip\"></span></h1>\n",
    "<div class=\"toc\"><ul class=\"toc-item\"><li><span><a href=\"#Guessing-only-the-most-common-class-correct-performs-poorly-for-both-log-loss-and-AUC\" data-toc-modified-id=\"Guessing-only-the-most-common-class-correct-performs-poorly-for-both-log-loss-and-AUC-1\"><span class=\"toc-item-num\">1&nbsp;&nbsp;</span>Guessing only the most common class correct performs poorly for both log loss and AUC</a></span></li><li><span><a href=\"#Guessing-all-classes-are-equal-likely-is-a-good-naive-prediction-for-log-loss,-but-not-AUC\" data-toc-modified-id=\"Guessing-all-classes-are-equal-likely-is-a-good-naive-prediction-for-log-loss,-but-not-AUC-2\"><span class=\"toc-item-num\">2&nbsp;&nbsp;</span>Guessing all classes are equal likely is a good naive prediction for log loss, but not AUC</a></span></li><li><span><a href=\"#Effective-weight-of-rare-classes-depends-strongly-on-whether-we're-considering-true-positives-or-false-positives\" data-toc-modified-id=\"Effective-weight-of-rare-classes-depends-strongly-on-whether-we're-considering-true-positives-or-false-positives-3\"><span class=\"toc-item-num\">3&nbsp;&nbsp;</span>Effective weight of rare classes depends strongly on whether we're considering true positives or false positives</a></span></li><li><span><a href=\"#check-AUC-treatment-of-false-positives-for-rare-classes\" data-toc-modified-id=\"check-AUC-treatment-of-false-positives-for-rare-classes-4\"><span class=\"toc-item-num\">4&nbsp;&nbsp;</span>check AUC treatment of false positives for rare classes</a></span></li><li><span><a href=\"#Getting-only-the-most-common-two-class-correct\" data-toc-modified-id=\"Getting-only-the-most-common-two-class-correct-5\"><span class=\"toc-item-num\">5&nbsp;&nbsp;</span>Getting only the most common two class correct</a></span></li></ul></div>"
   ]
  },
  {
   "cell_type": "code",
   "execution_count": 1,
   "metadata": {
    "ExecuteTime": {
     "end_time": "2018-09-20T19:40:05.118809Z",
     "start_time": "2018-09-20T19:40:03.940810Z"
    }
   },
   "outputs": [],
   "source": [
    "import numpy as np\n",
    "import pandas as pd\n",
    "import sklearn.metrics\n",
    "import matplotlib.pyplot as plt\n",
    "%matplotlib notebook"
   ]
  },
  {
   "cell_type": "code",
   "execution_count": 2,
   "metadata": {
    "ExecuteTime": {
     "end_time": "2018-09-20T19:40:06.301056Z",
     "start_time": "2018-09-20T19:40:05.120771Z"
    }
   },
   "outputs": [],
   "source": [
    "solution = pd.read_csv('plasticc_test_truthtable.csv')\n",
    "solution = pd.get_dummies(solution, prefix='class', columns=['target'])"
   ]
  },
  {
   "cell_type": "code",
   "execution_count": 3,
   "metadata": {
    "ExecuteTime": {
     "end_time": "2018-09-20T19:40:06.331244Z",
     "start_time": "2018-09-20T19:40:06.303162Z"
    },
    "scrolled": true
   },
   "outputs": [
    {
     "data": {
      "text/html": [
       "<div>\n",
       "<style scoped>\n",
       "    .dataframe tbody tr th:only-of-type {\n",
       "        vertical-align: middle;\n",
       "    }\n",
       "\n",
       "    .dataframe tbody tr th {\n",
       "        vertical-align: top;\n",
       "    }\n",
       "\n",
       "    .dataframe thead th {\n",
       "        text-align: right;\n",
       "    }\n",
       "</style>\n",
       "<table border=\"1\" class=\"dataframe\">\n",
       "  <thead>\n",
       "    <tr style=\"text-align: right;\">\n",
       "      <th></th>\n",
       "      <th>object_id</th>\n",
       "      <th>class_6</th>\n",
       "      <th>class_15</th>\n",
       "      <th>class_16</th>\n",
       "      <th>class_42</th>\n",
       "      <th>class_52</th>\n",
       "      <th>class_53</th>\n",
       "      <th>class_62</th>\n",
       "      <th>class_64</th>\n",
       "      <th>class_65</th>\n",
       "      <th>class_67</th>\n",
       "      <th>class_88</th>\n",
       "      <th>class_90</th>\n",
       "      <th>class_92</th>\n",
       "      <th>class_95</th>\n",
       "      <th>class_99</th>\n",
       "    </tr>\n",
       "  </thead>\n",
       "  <tbody>\n",
       "    <tr>\n",
       "      <th>0</th>\n",
       "      <td>13</td>\n",
       "      <td>0</td>\n",
       "      <td>0</td>\n",
       "      <td>0</td>\n",
       "      <td>1</td>\n",
       "      <td>0</td>\n",
       "      <td>0</td>\n",
       "      <td>0</td>\n",
       "      <td>0</td>\n",
       "      <td>0</td>\n",
       "      <td>0</td>\n",
       "      <td>0</td>\n",
       "      <td>0</td>\n",
       "      <td>0</td>\n",
       "      <td>0</td>\n",
       "      <td>0</td>\n",
       "    </tr>\n",
       "    <tr>\n",
       "      <th>1</th>\n",
       "      <td>14</td>\n",
       "      <td>0</td>\n",
       "      <td>0</td>\n",
       "      <td>0</td>\n",
       "      <td>1</td>\n",
       "      <td>0</td>\n",
       "      <td>0</td>\n",
       "      <td>0</td>\n",
       "      <td>0</td>\n",
       "      <td>0</td>\n",
       "      <td>0</td>\n",
       "      <td>0</td>\n",
       "      <td>0</td>\n",
       "      <td>0</td>\n",
       "      <td>0</td>\n",
       "      <td>0</td>\n",
       "    </tr>\n",
       "    <tr>\n",
       "      <th>2</th>\n",
       "      <td>17</td>\n",
       "      <td>0</td>\n",
       "      <td>0</td>\n",
       "      <td>0</td>\n",
       "      <td>1</td>\n",
       "      <td>0</td>\n",
       "      <td>0</td>\n",
       "      <td>0</td>\n",
       "      <td>0</td>\n",
       "      <td>0</td>\n",
       "      <td>0</td>\n",
       "      <td>0</td>\n",
       "      <td>0</td>\n",
       "      <td>0</td>\n",
       "      <td>0</td>\n",
       "      <td>0</td>\n",
       "    </tr>\n",
       "    <tr>\n",
       "      <th>3</th>\n",
       "      <td>23</td>\n",
       "      <td>0</td>\n",
       "      <td>0</td>\n",
       "      <td>0</td>\n",
       "      <td>0</td>\n",
       "      <td>0</td>\n",
       "      <td>0</td>\n",
       "      <td>0</td>\n",
       "      <td>0</td>\n",
       "      <td>0</td>\n",
       "      <td>0</td>\n",
       "      <td>0</td>\n",
       "      <td>1</td>\n",
       "      <td>0</td>\n",
       "      <td>0</td>\n",
       "      <td>0</td>\n",
       "    </tr>\n",
       "    <tr>\n",
       "      <th>4</th>\n",
       "      <td>34</td>\n",
       "      <td>0</td>\n",
       "      <td>0</td>\n",
       "      <td>0</td>\n",
       "      <td>0</td>\n",
       "      <td>0</td>\n",
       "      <td>0</td>\n",
       "      <td>0</td>\n",
       "      <td>0</td>\n",
       "      <td>0</td>\n",
       "      <td>0</td>\n",
       "      <td>0</td>\n",
       "      <td>1</td>\n",
       "      <td>0</td>\n",
       "      <td>0</td>\n",
       "      <td>0</td>\n",
       "    </tr>\n",
       "  </tbody>\n",
       "</table>\n",
       "</div>"
      ],
      "text/plain": [
       "   object_id  class_6  class_15  class_16  class_42  class_52  class_53  \\\n",
       "0         13        0         0         0         1         0         0   \n",
       "1         14        0         0         0         1         0         0   \n",
       "2         17        0         0         0         1         0         0   \n",
       "3         23        0         0         0         0         0         0   \n",
       "4         34        0         0         0         0         0         0   \n",
       "\n",
       "   class_62  class_64  class_65  class_67  class_88  class_90  class_92  \\\n",
       "0         0         0         0         0         0         0         0   \n",
       "1         0         0         0         0         0         0         0   \n",
       "2         0         0         0         0         0         0         0   \n",
       "3         0         0         0         0         0         1         0   \n",
       "4         0         0         0         0         0         1         0   \n",
       "\n",
       "   class_95  class_99  \n",
       "0         0         0  \n",
       "1         0         0  \n",
       "2         0         0  \n",
       "3         0         0  \n",
       "4         0         0  "
      ]
     },
     "execution_count": 3,
     "metadata": {},
     "output_type": "execute_result"
    }
   ],
   "source": [
    "solution.head()"
   ]
  },
  {
   "cell_type": "markdown",
   "metadata": {},
   "source": [
    "Objects per class"
   ]
  },
  {
   "cell_type": "code",
   "execution_count": 4,
   "metadata": {
    "ExecuteTime": {
     "end_time": "2018-09-20T19:40:07.068544Z",
     "start_time": "2018-09-20T19:40:06.333603Z"
    },
    "scrolled": true
   },
   "outputs": [
    {
     "data": {
      "text/plain": [
       "class_6        1303\n",
       "class_15      13555\n",
       "class_16      96572\n",
       "class_42    1000150\n",
       "class_52      63664\n",
       "class_53       1453\n",
       "class_62     175094\n",
       "class_64        133\n",
       "class_65      93494\n",
       "class_67      40193\n",
       "class_88     101424\n",
       "class_90    1659831\n",
       "class_92     197155\n",
       "class_95      35782\n",
       "class_99      13087\n",
       "dtype: int64"
      ]
     },
     "execution_count": 4,
     "metadata": {},
     "output_type": "execute_result"
    }
   ],
   "source": [
    "solution.drop('object_id', axis=1).sum()"
   ]
  },
  {
   "cell_type": "code",
   "execution_count": 5,
   "metadata": {
    "ExecuteTime": {
     "end_time": "2018-09-20T19:40:07.113762Z",
     "start_time": "2018-09-20T19:40:07.070671Z"
    }
   },
   "outputs": [],
   "source": [
    "y_true = solution.drop('object_id', axis=1).values"
   ]
  },
  {
   "cell_type": "code",
   "execution_count": 6,
   "metadata": {
    "ExecuteTime": {
     "end_time": "2018-09-20T19:40:07.184575Z",
     "start_time": "2018-09-20T19:40:07.115735Z"
    }
   },
   "outputs": [],
   "source": [
    "y_pred = y_true.copy()"
   ]
  },
  {
   "cell_type": "markdown",
   "metadata": {},
   "source": [
    "## Guessing only the most common class correct performs poorly for both log loss and AUC"
   ]
  },
  {
   "cell_type": "code",
   "execution_count": 7,
   "metadata": {
    "ExecuteTime": {
     "end_time": "2018-09-20T19:42:51.748674Z",
     "start_time": "2018-09-20T19:40:07.186543Z"
    },
    "scrolled": true
   },
   "outputs": [],
   "source": [
    "ll_results = []\n",
    "auc_results = []\n",
    "for i in range(15):\n",
    "    y_pred *= 0\n",
    "    y_pred[:, i] += 1\n",
    "    ll_results.append(sklearn.metrics.log_loss(y_true, y_pred))\n",
    "    auc_results.append(sklearn.metrics.roc_auc_score(y_true, y_pred, average='macro'))"
   ]
  },
  {
   "cell_type": "code",
   "execution_count": 8,
   "metadata": {
    "ExecuteTime": {
     "end_time": "2018-09-20T19:42:51.756836Z",
     "start_time": "2018-09-20T19:42:51.750834Z"
    }
   },
   "outputs": [
    {
     "data": {
      "text/plain": [
       "<matplotlib.collections.PathCollection at 0x10e2fe5f8>"
      ]
     },
     "execution_count": 8,
     "metadata": {},
     "output_type": "execute_result"
    },
    {
     "data": {
      "image/png": "[encoded data removed]",
      "text/plain": [
       "<matplotlib.figure.Figure at 0x10eda9e48>"
      ]
     },
     "metadata": {
      "needs_background": "light"
     },
     "output_type": "display_data"
    }
   ],
   "source": [
    "fig = plt.figure()\n",
    "ax = fig.add_subplot(111)\n",
    "ax.scatter(ll_results, auc_results, marker='o')"
   ]
  },
  {
   "cell_type": "markdown",
   "metadata": {},
   "source": [
    "## Guessing all classes are equal likely is a good naive prediction for log loss, but not AUC"
   ]
  },
  {
   "cell_type": "code",
   "execution_count": 9,
   "metadata": {
    "ExecuteTime": {
     "end_time": "2018-09-20T19:43:04.904977Z",
     "start_time": "2018-09-20T19:42:51.766310Z"
    }
   },
   "outputs": [
    {
     "name": "stdout",
     "output_type": "stream",
     "text": [
      "2.708050201102198\n",
      "0.5\n"
     ]
    }
   ],
   "source": [
    "y_pred *= 0\n",
    "y_pred = y_pred.astype(np.float64)\n",
    "y_pred += float(1/15)\n",
    "print(sklearn.metrics.log_loss(y_true, y_pred))\n",
    "print(sklearn.metrics.roc_auc_score(y_true, y_pred, average='macro'))"
   ]
  },
  {
   "cell_type": "markdown",
   "metadata": {},
   "source": [
    "## Effective weight of rare classes depends strongly on whether we're considering true positives or false positives"
   ]
  },
  {
   "cell_type": "markdown",
   "metadata": {},
   "source": [
    "All KN wrong, set to Ia."
   ]
  },
  {
   "cell_type": "code",
   "execution_count": 10,
   "metadata": {
    "ExecuteTime": {
     "end_time": "2018-09-20T19:43:06.140609Z",
     "start_time": "2018-09-20T19:43:04.907407Z"
    }
   },
   "outputs": [],
   "source": [
    "y_pred = solution.copy()\n",
    "kn_locs = y_pred[y_pred.class_64 == 1].index.values\n",
    "y_pred.loc[kn_locs, 'class_64'] = 0\n",
    "y_pred.loc[kn_locs, 'class_90'] = 1\n",
    "y_pred = y_pred.drop('object_id', axis=1).values"
   ]
  },
  {
   "cell_type": "code",
   "execution_count": 11,
   "metadata": {
    "ExecuteTime": {
     "end_time": "2018-09-20T19:43:25.898614Z",
     "start_time": "2018-09-20T19:43:06.143310Z"
    }
   },
   "outputs": [
    {
     "name": "stdout",
     "output_type": "stream",
     "text": [
      "0.001315145126406607\n",
      "0.9666642481229464\n"
     ]
    }
   ],
   "source": [
    "print(sklearn.metrics.log_loss(y_true, y_pred))\n",
    "print(sklearn.metrics.roc_auc_score(y_true, y_pred, average='macro'))"
   ]
  },
  {
   "cell_type": "markdown",
   "metadata": {},
   "source": [
    "## check AUC treatment of false positives for rare classes"
   ]
  },
  {
   "cell_type": "markdown",
   "metadata": {},
   "source": [
    "10% of Ia set to KN"
   ]
  },
  {
   "cell_type": "code",
   "execution_count": 12,
   "metadata": {
    "ExecuteTime": {
     "end_time": "2018-09-20T19:43:27.460773Z",
     "start_time": "2018-09-20T19:43:25.901463Z"
    }
   },
   "outputs": [],
   "source": [
    "y_pred = solution.copy()\n",
    "fp_locs = y_pred[y_pred.class_90 == 1].sample(frac=0.1).index.values\n",
    "y_pred.loc[fp_locs, 'class_64'] = 1\n",
    "y_pred.loc[fp_locs, 'class_90'] = 0\n",
    "y_pred = y_pred.drop('object_id', axis=1).values"
   ]
  },
  {
   "cell_type": "code",
   "execution_count": 13,
   "metadata": {
    "ExecuteTime": {
     "end_time": "2018-09-20T19:43:47.060500Z",
     "start_time": "2018-09-20T19:43:27.463126Z"
    }
   },
   "outputs": [
    {
     "name": "stdout",
     "output_type": "stream",
     "text": [
      "1.6412912294279316\n",
      "0.9950826000819074\n"
     ]
    }
   ],
   "source": [
    "print(sklearn.metrics.log_loss(y_true, y_pred))\n",
    "print(sklearn.metrics.roc_auc_score(y_true, y_pred, average='macro'))"
   ]
  },
  {
   "cell_type": "markdown",
   "metadata": {
    "ExecuteTime": {
     "end_time": "2018-09-20T19:33:12.477114Z",
     "start_time": "2018-09-20T19:33:12.473127Z"
    }
   },
   "source": [
    "Log loss harshly penalizes the false positives, AUC rewards them"
   ]
  },
  {
   "cell_type": "markdown",
   "metadata": {
    "ExecuteTime": {
     "end_time": "2018-09-20T16:46:00.381712Z",
     "start_time": "2018-09-20T16:46:00.378861Z"
    }
   },
   "source": [
    "## Getting only the most common two class correct\n",
    "all others assigned to class 90"
   ]
  },
  {
   "cell_type": "code",
   "execution_count": 14,
   "metadata": {
    "ExecuteTime": {
     "end_time": "2018-09-20T19:43:47.568183Z",
     "start_time": "2018-09-20T19:43:47.062866Z"
    }
   },
   "outputs": [],
   "source": [
    "y_pred = solution.copy()\n",
    "y_pred *= 0\n",
    "y_pred['class_90'] = 1\n",
    "y_pred['class_42'] = solution['class_42']\n",
    "y_pred['class_90'] -= solution['class_42']\n",
    "y_pred = y_pred.drop('object_id', axis=1).values"
   ]
  },
  {
   "cell_type": "code",
   "execution_count": 15,
   "metadata": {
    "ExecuteTime": {
     "end_time": "2018-09-20T19:44:06.518307Z",
     "start_time": "2018-09-20T19:43:47.570151Z"
    }
   },
   "outputs": [
    {
     "name": "stdout",
     "output_type": "stream",
     "text": [
      "8.23606174494725\n",
      "0.5515206002643668\n"
     ]
    }
   ],
   "source": [
    "print(sklearn.metrics.log_loss(y_true, y_pred))\n",
    "print(sklearn.metrics.roc_auc_score(y_true, y_pred, average='macro'))"
   ]
  },
  {
   "cell_type": "markdown",
   "metadata": {},
   "source": [
    "Also correct for several more classes, to roughly match guessing all classes equally likely"
   ]
  },
  {
   "cell_type": "code",
   "execution_count": 16,
   "metadata": {
    "ExecuteTime": {
     "end_time": "2018-09-20T19:44:26.133428Z",
     "start_time": "2018-09-20T19:44:06.521248Z"
    }
   },
   "outputs": [
    {
     "name": "stdout",
     "output_type": "stream",
     "text": [
      "2.5973028532226587\n",
      "0.6952235761823997\n"
     ]
    }
   ],
   "source": [
    "y_pred = solution.copy()\n",
    "y_pred *= 0\n",
    "y_pred['class_90'] = 1\n",
    "\n",
    "y_pred['class_16'] = solution['class_16']\n",
    "y_pred['class_90'] -= solution['class_16']\n",
    "\n",
    "y_pred['class_42'] = solution['class_42']\n",
    "y_pred['class_90'] -= solution['class_42']\n",
    "\n",
    "y_pred['class_62'] = solution['class_62']\n",
    "y_pred['class_90'] -= solution['class_62']\n",
    "\n",
    "\n",
    "y_pred['class_92'] = solution['class_92']\n",
    "y_pred['class_90'] -= solution['class_92']\n",
    "\n",
    "y_pred['class_88'] = solution['class_88']\n",
    "y_pred['class_90'] -= solution['class_88']\n",
    "\n",
    "\n",
    "y_pred = y_pred.drop('object_id', axis=1).values\n",
    "\n",
    "print(sklearn.metrics.log_loss(y_true, y_pred))\n",
    "print(sklearn.metrics.roc_auc_score(y_true, y_pred, average='macro'))"
   ]
  },
  {
   "cell_type": "code",
   "execution_count": 17,
   "metadata": {
    "ExecuteTime": {
     "end_time": "2018-09-20T19:44:26.501857Z",
     "start_time": "2018-09-20T19:44:26.135411Z"
    }
   },
   "outputs": [
    {
     "data": {
      "text/plain": [
       "3230226"
      ]
     },
     "execution_count": 17,
     "metadata": {},
     "output_type": "execute_result"
    }
   ],
   "source": [
    "solution[['class_16', 'class_42', 'class_62', 'class_88', 'class_90', 'class_92']].sum().sum()"
   ]
  },
  {
   "cell_type": "code",
   "execution_count": 18,
   "metadata": {
    "ExecuteTime": {
     "end_time": "2018-09-20T19:44:26.507585Z",
     "start_time": "2018-09-20T19:44:26.503878Z"
    }
   },
   "outputs": [
    {
     "data": {
      "text/plain": [
       "0.9248003802009225"
      ]
     },
     "execution_count": 18,
     "metadata": {},
     "output_type": "execute_result"
    }
   ],
   "source": [
    "3230226 / len(solution)"
   ]
  }
 ],
 "metadata": {
  "kernelspec": {
   "display_name": "python3",
   "language": "python",
   "name": "python3"
  },
  "language_info": {
   "codemirror_mode": {
    "name": "ipython",
    "version": 3
   },
   "file_extension": ".py",
   "mimetype": "text/x-python",
   "name": "python",
   "nbconvert_exporter": "python",
   "pygments_lexer": "ipython3",
   "version": "3.6.6"
  },
  "toc": {
   "base_numbering": 1,
   "nav_menu": {},
   "number_sections": true,
   "sideBar": true,
   "skip_h1_title": false,
   "title_cell": "Table of Contents",
   "title_sidebar": "Contents",
   "toc_cell": true,
   "toc_position": {
    "height": "calc(100% - 180px)",
    "left": "10px",
    "top": "150px",
    "width": "384px"
   },
   "toc_section_display": true,
   "toc_window_display": true
  }
 },
 "nbformat": 4,
 "nbformat_minor": 2
}
