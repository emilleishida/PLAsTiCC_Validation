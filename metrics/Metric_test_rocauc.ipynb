{
 "cells": [
  {
   "cell_type": "code",
   "execution_count": 1,
   "metadata": {},
   "outputs": [],
   "source": [
    "from metric import *\n",
    "from util import *\n",
    "from rocauc import *\n",
    "from collections import Counter\n",
    "%matplotlib inline\n",
    "import numpy as np\n",
    "\n",
    "pop_test = {1: 1458440,\n",
    "         2: 581681,\n",
    "         3: 152048,\n",
    "         43: 57285,\n",
    "         60: 33159,\n",
    "         70: 119363,\n",
    "         80: 359297,\n",
    "         41: 32336,\n",
    "         64: 12964,\n",
    "         91: 1218,\n",
    "         83: 131225,\n",
    "         84: 988,\n",
    "         81: 13166,\n",
    "         51: 22,\n",
    "           99: 11839}\n",
    "\n",
    "pop_train = {2: 819,\n",
    "         1: 2272,\n",
    "         80: 389,\n",
    "         81: 132,\n",
    "         3: 531,\n",
    "         43: 172,\n",
    "         70: 388,\n",
    "         60: 178,\n",
    "         41: 205,\n",
    "         91: 158,\n",
    "         84: 32,\n",
    "         83: 1113,\n",
    "         64: 459,\n",
    "         51: 21}\n",
    "\n",
    "w1 =    {1: 1,\n",
    "         2: 2,\n",
    "         3: 9,\n",
    "         43: 25,\n",
    "         60: 43,\n",
    "         70: 12,\n",
    "         80: 4,\n",
    "         41: 45,\n",
    "         64: 112,\n",
    "         91: 1197,\n",
    "         83: 11,\n",
    "         84: 1476,\n",
    "         81: 110,\n",
    "         51: 66292,\n",
    "         99: 123}\n",
    "\n",
    "types = list(pop_test.keys())\n",
    "types.sort()"
   ]
  },
  {
   "cell_type": "markdown",
   "metadata": {},
   "source": [
    "### Number correspondance"
   ]
  },
  {
   "cell_type": "raw",
   "metadata": {},
   "source": [
    "#    MODELNUM  MODELNUM   symbol        model\n",
    "#   SNANA-GEN  PLASTICC   suffix        name\n",
    "# ========================================================================\n",
    "MODEL:  1         1      SNIa           Type Ia Supernova\n",
    "MODEL:  2+12+14   2      CCII           Type II Supernova\n",
    "MODEL:  3+13      3      CCIbc          Type Ibc Supernova\n",
    "MODEL:  41       41      bg             Type Ia Supernova 91bg sublcass\n",
    "MODEL:  43       43      Iax            Type Ia Supernova Iax subclass\n",
    "MODEL:  51       51      KN             Kilonova\n",
    "MODEL:  60       60      SLSN           Super Luminous Supernova\n",
    "MODEL:  61       99      PISN           Pair Instability Supernova\n",
    "MODEL:  62       99      ILOT           Intermediate Luminosity Transient\n",
    "MODEL:  63       99      CART           Calcium Rich Transient\n",
    "MODEL:  64       64      TDE            Tidal Disruption Event\n",
    "MODEL:  70       70      AGN            Active Galactic Nucleii\n",
    "MODEL:  80       80      RRlyrae        RR Lyrae Variable Star\n",
    "MODEL:  81       81      Mdwarf         M-dwarf Flare\n",
    "MODEL:  83       83      EB             Eclipsing Binary\n",
    "MODEL:  84       84      MIRA           Mira Variable Star\n",
    "MODEL:  90       99      uLensBinary    microlensing-Binary\n",
    "MODEL:  91+93    91      uLensPoint     microlensing-Point\n",
    "MODEL:  92       99      uLensSTRING    microlensing-String\n",
    "# =========================================================================="
   ]
  },
  {
   "cell_type": "markdown",
   "metadata": {},
   "source": [
    "###  Create model name dictionary"
   ]
  },
  {
   "cell_type": "code",
   "execution_count": 2,
   "metadata": {},
   "outputs": [],
   "source": [
    "model_name = {1: 'Ia',\n",
    "              2: 'CCII',\n",
    "              3: 'CCIbc',\n",
    "              41:'bg',\n",
    "              43:'Iax',\n",
    "              51:'KN',\n",
    "              60:'SLSN',\n",
    "              64:'TDE',\n",
    "              70:'AGN',\n",
    "              80:'RRLyrae',\n",
    "              81:'Mdwarf',\n",
    "              83:'EB',\n",
    "              84:'MIRA',\n",
    "              91:'uLensPoint',\n",
    "              99:'other'}"
   ]
  },
  {
   "cell_type": "markdown",
   "metadata": {},
   "source": [
    "### Determine weights"
   ]
  },
  {
   "cell_type": "code",
   "execution_count": 3,
   "metadata": {},
   "outputs": [
    {
     "name": "stdout",
     "output_type": "stream",
     "text": [
      "model:  weight\n",
      "Ia :  1\n",
      "CCII :  1\n",
      "CCIbc :  1\n",
      "bg :  1\n",
      "Iax :  1\n",
      "KN :  2\n",
      "SLSN :  1\n",
      "TDE :  2\n",
      "AGN :  1\n",
      "RRLyrae :  1\n",
      "Mdwarf :  1\n",
      "EB :  1\n",
      "MIRA :  1\n",
      "uLensPoint :  1\n",
      "other :  2\n"
     ]
    }
   ],
   "source": [
    "high_weights = [51, 64, 99]\n",
    "indx_high_weights = [types.index(k) for k in high_weights]\n",
    "weights = [1 if i not in indx_high_weights else 2 for i in range(len(types))]\n",
    "\n",
    "print('model:  weight')\n",
    "for i in range(len(weights)):\n",
    "    print(model_name[types[i]], ': ', weights[i])"
   ]
  },
  {
   "cell_type": "code",
   "execution_count": 4,
   "metadata": {},
   "outputs": [
    {
     "name": "stdout",
     "output_type": "stream",
     "text": [
      "truth length:  2965031\n"
     ]
    }
   ],
   "source": [
    "# Build true class vector\n",
    "truth = []\n",
    "for k in range(len(types)):\n",
    "    for l in range(pop_test[types[k]]):\n",
    "        truth.append(k)\n",
    "\n",
    "print('truth length: ', len(truth))\n",
    "\n",
    "N_objects = len(truth)\n",
    "M_classes = len(types)\n",
    "\n",
    "sklearn_truth = np.zeros((N_objects, M_classes))\n",
    "for i, x in enumerate(truth):\n",
    "    sklearn_truth[i][truth[i]] = 1.\n",
    "sklearn_truth = np.array(sklearn_truth)"
   ]
  },
  {
   "cell_type": "markdown",
   "metadata": {},
   "source": [
    "## Perfect classification"
   ]
  },
  {
   "cell_type": "code",
   "execution_count": 5,
   "metadata": {},
   "outputs": [],
   "source": [
    "# Build prediction vector - perfect classification\n",
    "prediction = []\n",
    "for k in types:\n",
    "    for l in range(pop_test[k]):\n",
    "        line = [1.0 if j == k else 0 for j in types]\n",
    "        prediction.append(line)\n",
    "\n",
    "prediction = np.array(prediction)"
   ]
  },
  {
   "cell_type": "code",
   "execution_count": 6,
   "metadata": {},
   "outputs": [
    {
     "name": "stdout",
     "output_type": "stream",
     "text": [
      "(2965031, 15) (2965031, 15)\n"
     ]
    }
   ],
   "source": [
    "print(sklearn_truth.shape, prediction.shape)"
   ]
  },
  {
   "cell_type": "code",
   "execution_count": 7,
   "metadata": {},
   "outputs": [
    {
     "name": "stdout",
     "output_type": "stream",
     "text": [
      "perfect score: 1.0\n"
     ]
    }
   ],
   "source": [
    "score = ROCAUC()\n",
    "m_perfect = score.evaluate(prediction, sklearn_truth)\n",
    "print('perfect score:', m_perfect)"
   ]
  },
  {
   "cell_type": "markdown",
   "metadata": {},
   "source": [
    "## All SN Ia classified as Kilonova, everything else correct"
   ]
  },
  {
   "cell_type": "code",
   "execution_count": 8,
   "metadata": {},
   "outputs": [],
   "source": [
    "pred_Ia_to_KN = []\n",
    "for k in types:\n",
    "    for l in range(pop_test[k]):\n",
    "        if k != 1:\n",
    "            line = [1.0 if j == k else 0 for j in types]\n",
    "            pred_Ia_to_KN.append(line)\n",
    "        else:\n",
    "            line = [1.0 if j == 51 else 0 for j in types]\n",
    "            pred_Ia_to_KN.append(line)\n",
    "pred_Ia_to_KN = np.array(pred_Ia_to_KN)"
   ]
  },
  {
   "cell_type": "code",
   "execution_count": 9,
   "metadata": {},
   "outputs": [
    {
     "name": "stdout",
     "output_type": "stream",
     "text": [
      "Ia_to_KN score: 0.950270538807808\n"
     ]
    }
   ],
   "source": [
    "score = ROCAUC()\n",
    "m_Ia_to_KN = score.evaluate(pred_Ia_to_KN, sklearn_truth, averaging=weights)\n",
    "print('Ia_to_KN score:', m_Ia_to_KN)"
   ]
  },
  {
   "cell_type": "markdown",
   "metadata": {},
   "source": [
    "## All Kilonova classified as SN Ia, everything else correct"
   ]
  },
  {
   "cell_type": "code",
   "execution_count": 10,
   "metadata": {},
   "outputs": [],
   "source": [
    "pred_KN_to_Ia = []\n",
    "for k in types:\n",
    "    for l in range(pop_test[k]):\n",
    "        if k != 51:\n",
    "            line = [1.0 if j == k else 0 for j in types]\n",
    "            pred_KN_to_Ia.append(line)\n",
    "        else:\n",
    "            line = [1.0 if j == 1 else 0 for j in types]\n",
    "            pred_KN_to_Ia.append(line)\n",
    "pred_KN_to_Ia = np.array(pred_KN_to_Ia)"
   ]
  },
  {
   "cell_type": "code",
   "execution_count": 11,
   "metadata": {},
   "outputs": [
    {
     "name": "stdout",
     "output_type": "stream",
     "text": [
      "KN_to_Ia score: 0.9666661799165578\n"
     ]
    }
   ],
   "source": [
    "score = ROCAUC()\n",
    "m_KN_to_Ia = score.evaluate(pred_KN_to_Ia, sklearn_truth, averaging=weights)\n",
    "print('KN_to_Ia score:', m_KN_to_Ia)"
   ]
  },
  {
   "cell_type": "markdown",
   "metadata": {},
   "source": [
    "## Everything classified as the Other class"
   ]
  },
  {
   "cell_type": "code",
   "execution_count": 12,
   "metadata": {},
   "outputs": [],
   "source": [
    "pred_all_other = []\n",
    "for k in types:\n",
    "    for l in range(pop_test[k]):\n",
    "        line = [1.0 if j == 99 else 0 for j in types]\n",
    "        pred_all_other.append(line)\n",
    "pred_all_other = np.array(pred_all_other)"
   ]
  },
  {
   "cell_type": "code",
   "execution_count": 13,
   "metadata": {},
   "outputs": [
    {
     "name": "stdout",
     "output_type": "stream",
     "text": [
      "all_other score: 0.5\n"
     ]
    }
   ],
   "source": [
    "score = ROCAUC()\n",
    "m_all_other = score.evaluate(pred_all_other, sklearn_truth, averaging=weights)\n",
    "print('all_other score:', m_all_other)"
   ]
  },
  {
   "cell_type": "markdown",
   "metadata": {},
   "source": [
    "## Randomly assign high weight classes"
   ]
  },
  {
   "cell_type": "code",
   "execution_count": 14,
   "metadata": {},
   "outputs": [],
   "source": [
    "pred_random_rare = []\n",
    "for k in types:\n",
    "    for l in range(pop_test[k]):\n",
    "        guess_type = np.random.choice([51,64,99])\n",
    "        line = [1.0 if j == guess_type else 0 for j in types]\n",
    "        pred_random_rare.append(line)\n",
    "pred_random_rare = np.array(pred_random_rare)"
   ]
  },
  {
   "cell_type": "code",
   "execution_count": 15,
   "metadata": {},
   "outputs": [
    {
     "name": "stdout",
     "output_type": "stream",
     "text": [
      "random_rare score: 0.5023748429115742\n"
     ]
    }
   ],
   "source": [
    "score = ROCAUC()\n",
    "m_random_rare = score.evaluate(pred_random_rare, sklearn_truth, averaging=weights)\n",
    "print('random_rare score:', m_random_rare)"
   ]
  },
  {
   "cell_type": "markdown",
   "metadata": {},
   "source": [
    "## Ia correct, everything else random"
   ]
  },
  {
   "cell_type": "code",
   "execution_count": 16,
   "metadata": {},
   "outputs": [],
   "source": [
    "pred_Ia_correct = []\n",
    "for k in types:\n",
    "    for l in range(pop_test[k]):\n",
    "        if k != 1:\n",
    "            temp =np.random.choice(types)\n",
    "            line = [1.0 if j == temp else 0 for j in types]\n",
    "            pred_Ia_correct.append(line)\n",
    "        else:\n",
    "            line = [1.0 if j == 1 else 0 for j in types]\n",
    "            pred_Ia_correct.append(line)\n",
    "pred_Ia_correct = np.array(pred_Ia_correct)"
   ]
  },
  {
   "cell_type": "code",
   "execution_count": 17,
   "metadata": {},
   "outputs": [
    {
     "name": "stdout",
     "output_type": "stream",
     "text": [
      "Ia_correct score: 0.5507189083085574\n"
     ]
    }
   ],
   "source": [
    "score = ROCAUC()\n",
    "m_Ia_correct = score.evaluate(pred_Ia_correct, sklearn_truth, averaging=weights)\n",
    "print('Ia_correct score:', m_Ia_correct)"
   ]
  },
  {
   "cell_type": "markdown",
   "metadata": {},
   "source": [
    "## KN correct, everything else random"
   ]
  },
  {
   "cell_type": "code",
   "execution_count": 18,
   "metadata": {},
   "outputs": [],
   "source": [
    "pred_KN_correct = []\n",
    "for k in types:\n",
    "    for l in range(pop_test[k]):\n",
    "        if k != 51:\n",
    "            temp =np.random.choice(types)\n",
    "            line = [1.0 if j == temp else 0 for j in types]\n",
    "            pred_KN_correct.append(line)\n",
    "        else:\n",
    "            line = [1.0 if j == 51 else 0 for j in types]\n",
    "            pred_KN_correct.append(line)\n",
    "pred_KN_correct = np.array(pred_KN_correct)"
   ]
  },
  {
   "cell_type": "code",
   "execution_count": 19,
   "metadata": {},
   "outputs": [
    {
     "name": "stdout",
     "output_type": "stream",
     "text": [
      "KN_correct score: 0.5314609194773465\n"
     ]
    }
   ],
   "source": [
    "score = ROCAUC()\n",
    "m_KN_correct = score.evaluate(pred_KN_correct, sklearn_truth, averaging=weights)\n",
    "print('KN_correct score:', m_KN_correct)"
   ]
  },
  {
   "cell_type": "markdown",
   "metadata": {},
   "source": [
    "## Everything wrong"
   ]
  },
  {
   "cell_type": "code",
   "execution_count": 20,
   "metadata": {},
   "outputs": [],
   "source": [
    "pred_all_wrong = []\n",
    "for k in types:\n",
    "    for l in range(pop_test[k]):\n",
    "        if k not in [51, 64, 99]:\n",
    "            line = [1.0 if j == 51 else 0 for j in types]\n",
    "            pred_all_wrong.append(line)\n",
    "        else:\n",
    "            line = [1.0 if j == 1 else 0 for j in types]\n",
    "            pred_all_wrong.append(line)\n",
    "pred_all_wrong = np.array(pred_all_wrong)"
   ]
  },
  {
   "cell_type": "code",
   "execution_count": 21,
   "metadata": {},
   "outputs": [
    {
     "name": "stdout",
     "output_type": "stream",
     "text": [
      "all_wrong score: 0.46639625461846634\n"
     ]
    }
   ],
   "source": [
    "score = ROCAUC()\n",
    "m_all_wrong = score.evaluate(pred_all_wrong, sklearn_truth, averaging=weights)\n",
    "print('all_wrong score:', m_all_wrong)"
   ]
  },
  {
   "cell_type": "markdown",
   "metadata": {},
   "source": [
    "# Plot"
   ]
  },
  {
   "cell_type": "code",
   "execution_count": 22,
   "metadata": {},
   "outputs": [
    {
     "data": {
      "image/png": "[encoded data removed]",
      "text/plain": [
       "<matplotlib.figure.Figure at 0x1a196a5ba8>"
      ]
     },
     "metadata": {
      "needs_background": "light"
     },
     "output_type": "display_data"
    }
   ],
   "source": [
    "results = np.array([[1, m_perfect],\n",
    "                    [4, m_Ia_to_KN],\n",
    "                    [7, m_KN_to_Ia],\n",
    "                    [10, m_KN_correct],\n",
    "                    [13, m_Ia_correct],\n",
    "                    [16, m_all_other],\n",
    "                    [19, m_random_rare],\n",
    "                    [22, m_all_wrong]])\n",
    "\n",
    "import matplotlib.pylab as plt\n",
    "\n",
    "plt.figure()\n",
    "plt.scatter(results[:,0], results[:,1])\n",
    "plt.xlabel('scenario')\n",
    "plt.ylabel('score')\n",
    "plt.xticks([1,4,7,10,13, 16, 19,22],['perfect', 'Ia_to_KN', 'KN_to_Ia', 'KN_correct','Ia_correct','all_other','random_rare','all_wrong'], rotation=45)\n",
    "plt.savefig('Extreme_class_rocauc.png')"
   ]
  },
  {
   "cell_type": "code",
   "execution_count": 23,
   "metadata": {},
   "outputs": [
    {
     "name": "stdout",
     "output_type": "stream",
     "text": [
      "Case \t \t \t \t \t  score\n",
      "Perfect classification: \t \t  1.0\n",
      "\t All Ia classified as KN: \t  0.950270538807808\n",
      "\t All KN classified as Ia: \t  0.9666661799165578\n",
      "Kilonova correct, everything else random: 0.5314609194773465\n",
      "Ia correct, everything else random: \t  0.5507189083085574\n",
      "All objects classified as \"Other\": \t  0.5\n",
      "Random rare: \t \t \t \t  0.5023748429115742\n",
      "All wrong: \t \t \t \t  0.46639625461846634\n"
     ]
    }
   ],
   "source": [
    "print('Case \\t \\t \\t \\t \\t  score')\n",
    "print('Perfect classification: \\t \\t ', m_perfect)\n",
    "print('\\t All Ia classified as KN: \\t ', m_Ia_to_KN)\n",
    "print('\\t All KN classified as Ia: \\t ', m_KN_to_Ia)\n",
    "print('Kilonova correct, everything else random:', m_KN_correct)\n",
    "print('Ia correct, everything else random: \\t ', m_Ia_correct)\n",
    "print('All objects classified as \"Other\": \\t ', m_all_other)\n",
    "print('Random rare: \\t \\t \\t \\t ', m_random_rare)\n",
    "print('All wrong: \\t \\t \\t \\t ', m_all_wrong)"
   ]
  },
  {
   "cell_type": "code",
   "execution_count": 24,
   "metadata": {},
   "outputs": [],
   "source": [
    "plt.show()"
   ]
  },
  {
   "cell_type": "code",
   "execution_count": null,
   "metadata": {},
   "outputs": [],
   "source": []
  }
 ],
 "metadata": {
  "kernelspec": {
   "display_name": "python3",
   "language": "python",
   "name": "python3"
  },
  "language_info": {
   "codemirror_mode": {
    "name": "ipython",
    "version": 3
   },
   "file_extension": ".py",
   "mimetype": "text/x-python",
   "name": "python",
   "nbconvert_exporter": "python",
   "pygments_lexer": "ipython3",
   "version": "3.6.6"
  }
 },
 "nbformat": 4,
 "nbformat_minor": 2
}
