{
 "cells": [
  {
   "cell_type": "markdown",
   "metadata": {},
   "source": [
    "First one should do:\n",
    "\n",
    "python serialize_lsst_model.py data/PLASTICC_2018-04-14/LSST_DDF_MODEL01/ --timed\n",
    "\n",
    "python serialize_lsst_model.py data/PLASTICC_2018-04-14/LSST_DDF_MODEL41/ --timed\n",
    "\n",
    "python serialize_lsst_model.py data/PLASTICC_2018-04-14/LSST_DDF_MODEL42/ --timed\n",
    "\n",
    "python serialize_lsst_model.py data/PLASTICC_2018-04-14/LSST_WFD_MODEL01/ --timed\n",
    "\n",
    "python serialize_lsst_model.py data/PLASTICC_2018-04-14/LSST_WFD_MODEL41/ --timed\n",
    "\n",
    "python serialize_lsst_model.py data/PLASTICC_2018-04-14/LSST_WFD_MODEL42/ --timed\n",
    "\n",
    "python serialize_lsst_model.py data/IDEAL_2018-04-14/IDEAL_zALL_MODEL01/ --timed\n",
    "\n",
    "python serialize_lsst_model.py data/IDEAL_2018-04-14/IDEAL_zALL_MODEL41/ --timed\n",
    "\n",
    "python serialize_lsst_model.py data/IDEAL_2018-04-14/IDEAL_zALL_MODEL42/ --timed\n",
    "\n",
    "python serialize_lsst_model.py data/IDEAL_2018-04-14/IDEAL_z02_MODEL01/ --timed\n",
    "\n",
    "python serialize_lsst_model.py data/IDEAL_2018-04-14/IDEAL_z02_MODEL41/ --timed\n",
    "\n",
    "python serialize_lsst_model.py data/IDEAL_2018-04-14/IDEAL_z02_MODEL42/ --timed\n",
    "\n",
    "for each model\n",
    "\n",
    "and move to pkl/MODEL41-42/"
   ]
  },
  {
   "cell_type": "code",
   "execution_count": 1,
   "metadata": {},
   "outputs": [],
   "source": [
    "import gzip\n",
    "import pickle\n",
    "import pandas as pd\n",
    "import numpy as np\n",
    "import os as os\n",
    "from os import listdir,makedirs,path\n",
    "\n",
    "LSST_FILTERS = 'ugrizY'\n",
    "\n",
    "\n",
    "def read_data(filename):\n",
    "    \"\"\"Read data from pickled file to a pandas dataframe\"\"\"\n",
    "    with gzip.open(filename, 'rb') as f:\n",
    "        data = pickle.load(f)\n",
    "\n",
    "    X = to_dataframe(data)\n",
    "    y = pd.get_dummies(X.type == 0, prefix='SNIa', drop_first=True)\n",
    "    X = X.drop(columns=['type'])\n",
    "\n",
    "    return X, y\n",
    "\n",
    "\n",
    "def to_dataframe(data):\n",
    "    \"\"\"Converts from a python dictionary to a pandas dataframe\"\"\"\n",
    "    for idx in data:\n",
    "        sn = data[idx]\n",
    "        for filt in LSST_FILTERS:\n",
    "            sn['mjd_%s' % filt] = np.array(sn[filt]['mjd'])\n",
    "            sn['fluxcal_%s' % filt] = np.array(sn[filt]['fluxcal'])\n",
    "            sn['fluxcalerr_%s' % filt] = np.array(sn[filt]['fluxcalerr'])\n",
    "            del sn[filt]\n",
    "        sn.update(sn['header'])\n",
    "        del sn['header']\n",
    "\n",
    "    return pd.DataFrame.from_dict(data, orient='index')"
   ]
  },
  {
   "cell_type": "markdown",
   "metadata": {},
   "source": [
    "Reading the data:"
   ]
  },
  {
   "cell_type": "code",
   "execution_count": 2,
   "metadata": {},
   "outputs": [],
   "source": [
    "X1, y1 = read_data('LSST_WFD_MODEL41.pkl.gz')\n",
    "X2, y2 = read_data('LSST_DDF_MODEL41.pkl.gz')\n",
    "X3, y3 = read_data('IDEAL_z02_MODEL41.pkl.gz')\n",
    "X4, y4 = read_data('IDEAL_zALL_MODEL41.pkl.gz')\n",
    "X5, y5 = read_data('LSST_WFD_MODEL42.pkl.gz')\n",
    "X6, y6 = read_data('LSST_DDF_MODEL42.pkl.gz')\n",
    "X7, y7 = read_data('IDEAL_z02_MODEL42.pkl.gz')\n",
    "X8, y8 = read_data('IDEAL_zALL_MODEL42.pkl.gz')\n",
    "X9, y9 = read_data('LSST_WFD_MODEL01.pkl.gz')\n",
    "X10, y10 = read_data('LSST_DDF_MODEL01.pkl.gz')\n",
    "X11, y11 = read_data('IDEAL_z02_MODEL01.pkl.gz')\n",
    "X12, y12 = read_data('IDEAL_zALL_MODEL01.pkl.gz')"
   ]
  },
  {
   "cell_type": "markdown",
   "metadata": {},
   "source": [
    "stores all redshifts in a file:"
   ]
  },
  {
   "cell_type": "code",
   "execution_count": 3,
   "metadata": {},
   "outputs": [],
   "source": [
    "files=['model41_WFD','model41_DDF','model41_ideal_z02','model41_ideal_zALL','model42_WFD','model42_DDF','model42_ideal_z02','model42_ideal_zALL','model01_WFD','model01_DDF','model01_ideal_z02','model01_ideal_zALL']\n",
    "mat=[X1,X2,X3,X4,X5,X6,X7,X8,X9,X10,X11,X12]\n",
    "\n",
    "for i,matr in enumerate(mat):\n",
    "    file = open(files[i]+'_z.txt','w') \n",
    "    for sn in range(len(matr)):\n",
    "        file.write(str(matr.iloc[sn]['z'])+'\\n')\n",
    "    file.close() "
   ]
  },
  {
   "cell_type": "markdown",
   "metadata": {},
   "source": [
    "Prepare SNANA input files:"
   ]
  },
  {
   "cell_type": "code",
   "execution_count": 4,
   "metadata": {},
   "outputs": [
    {
     "name": "stdout",
     "output_type": "stream",
     "text": [
      "Starting model01_WFD\n"
     ]
    },
    {
     "name": "stderr",
     "output_type": "stream",
     "text": [
      "/Users/lluisgalbany/miniconda3/lib/python3.6/site-packages/ipykernel_launcher.py:27: RuntimeWarning: invalid value encountered in log10\n",
      "/Users/lluisgalbany/miniconda3/lib/python3.6/site-packages/ipykernel_launcher.py:29: RuntimeWarning: invalid value encountered in log10\n",
      "/Users/lluisgalbany/miniconda3/lib/python3.6/site-packages/ipykernel_launcher.py:31: RuntimeWarning: invalid value encountered in log10\n",
      "/Users/lluisgalbany/miniconda3/lib/python3.6/site-packages/ipykernel_launcher.py:33: RuntimeWarning: invalid value encountered in log10\n",
      "/Users/lluisgalbany/miniconda3/lib/python3.6/site-packages/ipykernel_launcher.py:35: RuntimeWarning: invalid value encountered in log10\n",
      "/Users/lluisgalbany/miniconda3/lib/python3.6/site-packages/ipykernel_launcher.py:37: RuntimeWarning: invalid value encountered in log10\n"
     ]
    }
   ],
   "source": [
    "#write files for snana\n",
    "\n",
    "for j,matr in enumerate(mat):\n",
    "    print('Starting '+files[j])\n",
    "    if not os.path.exists(files[j]):\n",
    "            os.makedirs(files[j])\n",
    "    filelist = open(files[j]+'/'+files[j][:7]+'.LIST','w') \n",
    "    for sn in range(len(matr)):\n",
    "        filelist.write(files[j][:7]+'_'+str(matr.iloc[sn]['snid'])+'.txt\\n')\n",
    "        file = open(files[j]+'/'+files[j][:7]+'_'+str(matr.iloc[sn]['snid'])+'.txt','w')     \n",
    "        file.write('SURVEY:  '+files[j][:7]+'\\n')\n",
    "        file.write('PHOTOMETRY_VERSION: '+files[j][:7]+'\\n')\n",
    "        file.write('SNTYPE: '+files[j][5:7]+'\\n')\n",
    "        file.write('SNID:        '+str(matr.iloc[sn]['snid'])+'\\n')\n",
    "        file.write('IAUC:    UNKNOWN\\n')\n",
    "        file.write('RA:      '+str(matr.iloc[sn]['SIM_RA'])+'  deg\\n')\n",
    "        file.write('DECL:    '+str(matr.iloc[sn]['SIM_DECL'])+'  deg\\n')\n",
    "        file.write('MWEBV:   '+str(matr.iloc[sn]['SIM_MWEBV'])+'  MW E(B-V)\\n')\n",
    "        file.write('REDSHIFT_HELIO:      '+str(matr.iloc[sn]['z'])+' +- 0.000100000 (CMB)\\n')\n",
    "        file.write('REDSHIFT_FINAL:      '+str(matr.iloc[sn]['z'])+' +- 0.000100000 (CMB)\\n')\n",
    "        file.write('FILTERS: ugrizY\\n')\n",
    "        file.write('SEARCH_PEAKMJD: '+str(matr.iloc[sn]['SIM_PEAKMJD'])+'\\n')\n",
    "        file.write('NOBS:           '+str(len(matr.iloc[sn]['mjd_u'])+len(matr.iloc[sn]['mjd_g'])+len(matr.iloc[sn]['mjd_r'])+len(matr.iloc[sn]['mjd_i'])+len(matr.iloc[sn]['mjd_z'])+len(matr.iloc[sn]['mjd_Y']))+'\\n')\n",
    "        file.write('NVAR:   6\\n')\n",
    "        file.write('VARLIST:  MJD  FLT FIELD   FLUXCAL   FLUXCALERR    MAG     MAGERR\\n')\n",
    "        for i in range(len(matr.iloc[sn]['mjd_u'])): \n",
    "            file.write('OBS:       '+str(matr.iloc[sn]['mjd_u'][i])+' u WFD '+str(matr.iloc[sn]['fluxcal_u'][i])+' '+str(matr.iloc[sn]['fluxcalerr_u'][i])+' '+str(-2.5*np.log10(matr.iloc[sn]['fluxcal_u'][i])+27.5)+' '+str(2.5*np.log10(1.+(matr.iloc[sn]['fluxcalerr_u'][i]/matr.iloc[sn]['fluxcal_u'][i])))+'\\n')\n",
    "        for i in range(len(matr.iloc[sn]['mjd_g'])): \n",
    "            file.write('OBS:       '+str(matr.iloc[sn]['mjd_g'][i])+' g WFD '+str(matr.iloc[sn]['fluxcal_g'][i])+' '+str(matr.iloc[sn]['fluxcalerr_g'][i])+' '+str(-2.5*np.log10(matr.iloc[sn]['fluxcal_g'][i])+27.5)+' '+str(2.5*np.log10(1.+(matr.iloc[sn]['fluxcalerr_g'][i]/matr.iloc[sn]['fluxcal_g'][i])))+'\\n')\n",
    "        for i in range(len(matr.iloc[sn]['mjd_r'])): \n",
    "            file.write('OBS:       '+str(matr.iloc[sn]['mjd_r'][i])+' r WFD '+str(matr.iloc[sn]['fluxcal_r'][i])+' '+str(matr.iloc[sn]['fluxcalerr_r'][i])+' '+str(-2.5*np.log10(matr.iloc[sn]['fluxcal_r'][i])+27.5)+' '+str(2.5*np.log10(1.+(matr.iloc[sn]['fluxcalerr_r'][i]/matr.iloc[sn]['fluxcal_r'][i])))+'\\n')\n",
    "        for i in range(len(matr.iloc[sn]['mjd_i'])): \n",
    "            file.write('OBS:       '+str(matr.iloc[sn]['mjd_i'][i])+' i WFD '+str(matr.iloc[sn]['fluxcal_i'][i])+' '+str(matr.iloc[sn]['fluxcalerr_i'][i])+' '+str(-2.5*np.log10(matr.iloc[sn]['fluxcal_i'][i])+27.5)+' '+str(2.5*np.log10(1.+(matr.iloc[sn]['fluxcalerr_i'][i]/matr.iloc[sn]['fluxcal_i'][i])))+'\\n')\n",
    "        for i in range(len(matr.iloc[sn]['mjd_z'])): \n",
    "            file.write('OBS:       '+str(matr.iloc[sn]['mjd_z'][i])+' z WFD '+str(matr.iloc[sn]['fluxcal_z'][i])+' '+str(matr.iloc[sn]['fluxcalerr_z'][i])+' '+str(-2.5*np.log10(matr.iloc[sn]['fluxcal_z'][i])+27.5)+' '+str(2.5*np.log10(1.+(matr.iloc[sn]['fluxcalerr_z'][i]/matr.iloc[sn]['fluxcal_z'][i])))+'\\n')\n",
    "        for i in range(len(matr.iloc[sn]['mjd_Y'])): \n",
    "            file.write('OBS:       '+str(matr.iloc[sn]['mjd_Y'][i])+' Y WFD '+str(matr.iloc[sn]['fluxcal_Y'][i])+' '+str(matr.iloc[sn]['fluxcalerr_Y'][i])+' '+str(-2.5*np.log10(matr.iloc[sn]['fluxcal_Y'][i])+27.5)+' '+str(2.5*np.log10(1.+(matr.iloc[sn]['fluxcalerr_Y'][i]/matr.iloc[sn]['fluxcal_Y'][i])))+'\\n')\n",
    "        file.write('END:')       \n",
    "        file.close()    \n",
    "    filelist.close()\n",
    "    filelist = open(files[j]+'/'+files[j][:7]+'.README','w') \n",
    "    filelist.close()\n",
    "    filelist = open(files[j]+'/'+files[j][:7]+'.IGNORE','w') \n",
    "    filelist.close()\n"
   ]
  },
  {
   "cell_type": "code",
   "execution_count": null,
   "metadata": {},
   "outputs": [],
   "source": []
  },
  {
   "cell_type": "code",
   "execution_count": null,
   "metadata": {},
   "outputs": [],
   "source": []
  },
  {
   "cell_type": "code",
   "execution_count": null,
   "metadata": {},
   "outputs": [],
   "source": []
  },
  {
   "cell_type": "code",
   "execution_count": null,
   "metadata": {},
   "outputs": [],
   "source": []
  },
  {
   "cell_type": "code",
   "execution_count": null,
   "metadata": {},
   "outputs": [],
   "source": [
    "#import sys,os,math\n",
    "import numpy as np\n",
    "from matplotlib import pyplot as plt\n",
    "\n",
    "SN_Hb = np.linspace(1.,10.,num=100)\n",
    "SN_Ha = 2.7*SN_Hb # (naively?) assuming constant noise and thermal ratio\n",
    "\n",
    "# 12+log(O/H) = 8.743 + 0.462*log10(NII/Ha) (N2 calibration by Marino et al. 2013)\n",
    "OH_min = 8.743 + 0.462*np.log10(1/SN_Ha) # so that S/N>1 for [NII]\n",
    "\n",
    "# N2 = log10(NII/Ha) = ( 12+log(O/H) - 8.743 ) / 0.462 (from the N2 calibration above)\n",
    "# 12+log(O/H) = 8.533 - 0.214*( log10(OIII/Hb) - N2 )  (O3N2 calibration by Marino et al. 2013)\n",
    "# 12+log(O/H) * (1-0.214/0.462) = 8.533 - 0.214*( log10(OIII/Hb) + 8.743/0.462 ) (combining both)\n",
    "OH_max = ( 8.533 - 0.214*( np.log10(1/SN_Hb) + 8.743/0.462 ) ) / (1-0.214/0.462) # so that S/N>1 for [OIII]\n",
    "\n",
    "plt.fill_between(SN_Hb, OH_max, 11, facecolor='red', alpha=0.5)\n",
    "plt.fill_between(SN_Hb, 7, OH_min, facecolor='blue', alpha=0.5)\n",
    "\n",
    "plt.xlabel(r'(S/N)_H$\\beta$')\n",
    "plt.ylabel(r'12 + log(O/H)')\n",
    "plt.ylim(8.0,8.8)\n",
    "plt.text(2.,8.7,r'(S/N)_OIII<1')\n",
    "plt.text(2.,8.1,r'(S/N)_NII<1')\n",
    "plt.text(5.,8.4,r'allowed region')\n",
    "\n",
    "plt.show()"
   ]
  }
 ],
 "metadata": {
  "kernelspec": {
   "display_name": "Python 3",
   "language": "python",
   "name": "python3"
  },
  "language_info": {
   "codemirror_mode": {
    "name": "ipython",
    "version": 3
   },
   "file_extension": ".py",
   "mimetype": "text/x-python",
   "name": "python",
   "nbconvert_exporter": "python",
   "pygments_lexer": "ipython3",
   "version": "3.6.4"
  }
 },
 "nbformat": 4,
 "nbformat_minor": 2
}
