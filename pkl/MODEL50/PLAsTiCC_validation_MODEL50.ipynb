{
 "cells": [
  {
   "cell_type": "markdown",
   "metadata": {},
   "source": [
    "## Generate the pkl files\n",
    "\n",
    "Before you start, copy the script in [this script](https://github.com/ramp-kits/supernovae/blob/master/utils/serialize_lsst_sn_sims.py) to your local directory.\n",
    "\n",
    "\n",
    "Choose a model to validate. In this example, we will work with MODEL01.\n",
    "Using an environment with Python3, do in the command line\n",
    "\n",
    "```\n",
    ">> python serialize_lsst_sn_sims.py <LSST_sim_dir> --timed\n",
    "```\n",
    "\n",
    "where <LSST_sim_dir> is the directory where the FITS files for the model you will analyze are located.\n",
    "\n",
    "In my case that was\n",
    "\n",
    "```\n",
    ">> python serialize_lsst_sn_sim.py ../../data/PLASTICC_2018-02-10/LSST_DDF_MODEL01/ --timed\n",
    "```\n",
    "\n",
    "This will create in your local directory a file named `LSST_DDF_MODEL01_train.pkl` which will be used from now on as the data source."
   ]
  },
  {
   "cell_type": "markdown",
   "metadata": {},
   "source": [
    "## Read the data\n",
    "\n",
    "The functions bellow will convert the pkl file into pandas data frames"
   ]
  },
  {
   "cell_type": "code",
   "execution_count": 48,
   "metadata": {},
   "outputs": [],
   "source": [
    "import gzip\n",
    "import pickle\n",
    "import pandas as pd\n",
    "import numpy as np\n",
    "from matplotlib import gridspec\n",
    "\n",
    "LSST_FILTERS = 'ugrizY'\n",
    "\n",
    "\n",
    "def read_data(filename):\n",
    "    \"\"\"Read data from pickled file to a pandas dataframe\"\"\"\n",
    "    with gzip.open(filename, 'rb') as f:\n",
    "        data = pickle.load(f)\n",
    "\n",
    "    X = to_dataframe(data)\n",
    "    y = pd.get_dummies(X.type == 0, prefix='SNIa', drop_first=True)\n",
    "    X = X.drop(columns=['type'])\n",
    "\n",
    "    return X, y\n",
    "\n",
    "\n",
    "def to_dataframe(data):\n",
    "    \"\"\"Converts from a python dictionary to a pandas dataframe\"\"\"\n",
    "    for idx in data:\n",
    "        sn = data[idx]\n",
    "        for filt in LSST_FILTERS:\n",
    "            sn['mjd_%s' % filt] = np.array(sn[filt]['mjd'])\n",
    "            sn['fluxcal_%s' % filt] = np.array(sn[filt]['fluxcal'])\n",
    "            sn['fluxcalerr_%s' % filt] = np.array(sn[filt]['fluxcalerr'])\n",
    "            del sn[filt]\n",
    "        sn.update(sn['header'])\n",
    "        del sn['header']\n",
    "\n",
    "    return pd.DataFrame.from_dict(data, orient='index')"
   ]
  },
  {
   "cell_type": "markdown",
   "metadata": {},
   "source": [
    "Now you can use the data doing"
   ]
  },
  {
   "cell_type": "code",
   "execution_count": 2,
   "metadata": {},
   "outputs": [],
   "source": [
    "X, y = read_data('LSST_DDF_MODEL50_train.pkl')"
   ]
  },
  {
   "cell_type": "markdown",
   "metadata": {},
   "source": [
    "The `X` contain the data itself. You can take a look at what IDs are present in X by using"
   ]
  },
  {
   "cell_type": "code",
   "execution_count": 7,
   "metadata": {},
   "outputs": [
    {
     "data": {
      "text/plain": [
       "1"
      ]
     },
     "execution_count": 7,
     "metadata": {},
     "output_type": "execute_result"
    }
   ],
   "source": [
    "len(X.index[:100])"
   ]
  },
  {
   "cell_type": "code",
   "execution_count": 5,
   "metadata": {},
   "outputs": [
    {
     "data": {
      "text/plain": [
       "mjd_u           [59968.195, 59997.133, 59998.109, 59999.113, 6...\n",
       "fluxcal_u       [-1.91316, -4.12298, 2.35498, 0.844363, 1.3591...\n",
       "fluxcalerr_u    [2.4795, 1.97271, 1.75124, 2.04549, 1.58141, 1...\n",
       "mjd_g           [59947.34, 59957.297, 59962.203, 59973.195, 59...\n",
       "fluxcal_g       [1.77058, -0.244306, -0.317347, -0.669768, -1....\n",
       "fluxcalerr_g    [5.05102, 2.10154, 0.832759, 1.41351, 2.97284,...\n",
       "mjd_r           [59947.332, 59957.289, 59962.195, 59973.188, 5...\n",
       "fluxcal_r       [0.209983, -0.146035, -1.21163, 1.4662, -1.343...\n",
       "fluxcalerr_r    [1.24601, 1.37734, 0.843722, 1.09938, 1.7421, ...\n",
       "mjd_i           [59947.348, 59957.305, 59962.211, 59973.203, 5...\n",
       "fluxcal_i       [0.653277, -1.25016, 0.273663, 0.387701, 3.302...\n",
       "fluxcalerr_i    [13.5119, 2.59679, 1.33352, 1.67036, 2.63054, ...\n",
       "mjd_z           [59947.359, 59957.316, 59962.219, 59973.215, 5...\n",
       "fluxcal_z       [-4.84883, 2.33852, 0.994424, -3.10595, -6.827...\n",
       "fluxcalerr_z    [8.20591, 3.54133, 1.77483, 1.85464, 3.47789, ...\n",
       "mjd_Y           [59947.363, 59957.324, 59962.23, 59973.223, 59...\n",
       "fluxcal_Y       [-47.774, -9.14373, 8.53059, 0.464419, -8.9072...\n",
       "fluxcalerr_Y    [60.5291, 7.74843, 7.58962, 7.62247, 9.98552, ...\n",
       "pkmag_g                                                   21.2504\n",
       "pkmag_r                                                   21.1719\n",
       "pkmjd                                                     59986.4\n",
       "pkmag_z                                                   21.3253\n",
       "pkmag_i                                                   21.1745\n",
       "pkmag_Y                                                   21.5147\n",
       "snid                                                       218536\n",
       "z                                                       0.0497842\n",
       "pkmag_u                                                   21.5037\n",
       "Name: 218536, dtype: object"
      ]
     },
     "execution_count": 5,
     "metadata": {},
     "output_type": "execute_result"
    }
   ],
   "source": [
    "# Get one supernovae - the first in the list\n",
    "X.iloc[0]"
   ]
  },
  {
   "cell_type": "markdown",
   "metadata": {},
   "source": [
    "You can choose one specific SN through its ID. For example, if you wish to access the SN 1618,"
   ]
  },
  {
   "cell_type": "code",
   "execution_count": 18,
   "metadata": {},
   "outputs": [
    {
     "data": {
      "text/plain": [
       "mjd_u           [59968.195, 59997.133, 59998.109, 59999.113, 6...\n",
       "fluxcal_u       [-1.91316, -4.12298, 2.35498, 0.844363, 1.3591...\n",
       "fluxcalerr_u    [2.4795, 1.97271, 1.75124, 2.04549, 1.58141, 1...\n",
       "mjd_g           [59947.34, 59957.297, 59962.203, 59973.195, 59...\n",
       "fluxcal_g       [1.77058, -0.244306, -0.317347, -0.669768, -1....\n",
       "fluxcalerr_g    [5.05102, 2.10154, 0.832759, 1.41351, 2.97284,...\n",
       "mjd_r           [59947.332, 59957.289, 59962.195, 59973.188, 5...\n",
       "fluxcal_r       [0.209983, -0.146035, -1.21163, 1.4662, -1.343...\n",
       "fluxcalerr_r    [1.24601, 1.37734, 0.843722, 1.09938, 1.7421, ...\n",
       "mjd_i           [59947.348, 59957.305, 59962.211, 59973.203, 5...\n",
       "fluxcal_i       [0.653277, -1.25016, 0.273663, 0.387701, 3.302...\n",
       "fluxcalerr_i    [13.5119, 2.59679, 1.33352, 1.67036, 2.63054, ...\n",
       "mjd_z           [59947.359, 59957.316, 59962.219, 59973.215, 5...\n",
       "fluxcal_z       [-4.84883, 2.33852, 0.994424, -3.10595, -6.827...\n",
       "fluxcalerr_z    [8.20591, 3.54133, 1.77483, 1.85464, 3.47789, ...\n",
       "mjd_Y           [59947.363, 59957.324, 59962.23, 59973.223, 59...\n",
       "fluxcal_Y       [-47.774, -9.14373, 8.53059, 0.464419, -8.9072...\n",
       "fluxcalerr_Y    [60.5291, 7.74843, 7.58962, 7.62247, 9.98552, ...\n",
       "pkmag_g                                                   21.2504\n",
       "pkmag_r                                                   21.1719\n",
       "pkmjd                                                     59986.4\n",
       "pkmag_z                                                   21.3253\n",
       "pkmag_i                                                   21.1745\n",
       "pkmag_Y                                                   21.5147\n",
       "snid                                                       218536\n",
       "z                                                       0.0497842\n",
       "pkmag_u                                                   21.5037\n",
       "Name: 218536, dtype: object"
      ]
     },
     "execution_count": 18,
     "metadata": {},
     "output_type": "execute_result"
    }
   ],
   "source": [
    "X.loc[218536]"
   ]
  },
  {
   "cell_type": "markdown",
   "metadata": {},
   "source": [
    "The y holds the IDs in crescent order"
   ]
  },
  {
   "cell_type": "code",
   "execution_count": 9,
   "metadata": {},
   "outputs": [
    {
     "data": {
      "text/html": [
       "<div>\n",
       "<style scoped>\n",
       "    .dataframe tbody tr th:only-of-type {\n",
       "        vertical-align: middle;\n",
       "    }\n",
       "\n",
       "    .dataframe tbody tr th {\n",
       "        vertical-align: top;\n",
       "    }\n",
       "\n",
       "    .dataframe thead th {\n",
       "        text-align: right;\n",
       "    }\n",
       "</style>\n",
       "<table border=\"1\" class=\"dataframe\">\n",
       "  <thead>\n",
       "    <tr style=\"text-align: right;\">\n",
       "      <th></th>\n",
       "    </tr>\n",
       "  </thead>\n",
       "  <tbody>\n",
       "    <tr>\n",
       "      <th>218536</th>\n",
       "    </tr>\n",
       "  </tbody>\n",
       "</table>\n",
       "</div>"
      ],
      "text/plain": [
       "Empty DataFrame\n",
       "Columns: []\n",
       "Index: [218536]"
      ]
     },
     "execution_count": 9,
     "metadata": {},
     "output_type": "execute_result"
    }
   ],
   "source": [
    "y[:10]"
   ]
  },
  {
   "cell_type": "markdown",
   "metadata": {},
   "source": [
    "## Plotting the Light curves\n",
    "\n",
    "You can use the utility bellow to plot one (or a few) light curves"
   ]
  },
  {
   "cell_type": "code",
   "execution_count": 10,
   "metadata": {},
   "outputs": [],
   "source": [
    "#Plot the data\n",
    "import matplotlib.pyplot as plt\n",
    "plt.style.use('seaborn')\n",
    "%matplotlib inline\n",
    "\n",
    "LSST_FILTERS = 'ugrizY'\n",
    "\n",
    "def plot_lightcurves(idx, X):    \n",
    "    \n",
    "    flux = []\n",
    "    for f in LSST_FILTERS:\n",
    "        if len(X.iloc[idx]['fluxcal_' + f]) > 0:\n",
    "            flux.append(max(X.iloc[idx]['fluxcal_' + f]))\n",
    "            \n",
    "    for id_f, f in enumerate(LSST_FILTERS):\n",
    "        \n",
    "        \n",
    "        ax = axes[id_f // 3, id_f % 3]\n",
    "        ax.errorbar(X.iloc[idx]['mjd_%s' % f] - X.iloc[idx]['pkmjd'], \n",
    "                    X.iloc[idx]['fluxcal_%s' % f]/max(flux), \n",
    "                    X.iloc[idx]['fluxcalerr_%s' % f]/max(flux), \n",
    "                    fmt='o')\n",
    "        ax.set_xlabel('MJD')\n",
    "        ax.set_ylabel('Calibrated flux')\n",
    "        ax.set_title('%s-band' % f)"
   ]
  },
  {
   "cell_type": "markdown",
   "metadata": {},
   "source": [
    "The functionality bellow will plot light curves in sequence, order by ID"
   ]
  },
  {
   "cell_type": "code",
   "execution_count": 92,
   "metadata": {},
   "outputs": [
    {
     "data": {
      "image/png": "[encoded data removed]",
      "text/plain": [
       "<matplotlib.figure.Figure at 0x7fc26873e978>"
      ]
     },
     "metadata": {},
     "output_type": "display_data"
    }
   ],
   "source": [
    "# set the number of light curves to plot\n",
    "nplots = 1\n",
    "\n",
    "fig, axes = plt.subplots(2, 3, sharex=True, sharey=True, figsize=(12, 8))\n",
    "for i in range(nplots):\n",
    "    plot_lightcurves(i, X)"
   ]
  },
  {
   "cell_type": "markdown",
   "metadata": {},
   "source": [
    "If you wish to plot one specific light curve, e.g. again SN 1618,"
   ]
  },
  {
   "cell_type": "code",
   "execution_count": 99,
   "metadata": {},
   "outputs": [],
   "source": [
    "def plot_lightcurves_id(idx, X):    \n",
    "    \n",
    "    flux = []\n",
    "    for f in LSST_FILTERS:\n",
    "        if len(X.loc[idx]['fluxcal_' + f]) > 0:\n",
    "            flux.append(max(X.loc[idx]['fluxcal_' + f]))\n",
    "            \n",
    "    fig, axes = plt.subplots(2, 3, sharex=True, sharey=True, figsize=(12, 8))        \n",
    "            \n",
    "    for id_f, f in enumerate(LSST_FILTERS):\n",
    "        \n",
    "        \n",
    "        ax = axes[id_f // 3, id_f % 3]\n",
    "        ax.errorbar(X.loc[idx]['mjd_%s' % f] - X.iloc[idx]['pkmjd'], \n",
    "                    X.loc[idx]['fluxcal_%s' % f]/max(flux), \n",
    "                    X.loc[idx]['fluxcalerr_%s' % f]/max(flux), \n",
    "                    fmt='o')\n",
    "        ax.set_xlabel('MJD')\n",
    "        ax.set_ylabel('Calibrated flux')\n",
    "        ax.set_title('%s-band' % f)"
   ]
  },
  {
   "cell_type": "code",
   "execution_count": 101,
   "metadata": {},
   "outputs": [],
   "source": [
    "#plot_lightcurves_id(218536, X)"
   ]
  },
  {
   "cell_type": "markdown",
   "metadata": {},
   "source": [
    "## Example of population tests\n",
    "\n",
    "Bellow are just a few examples I could quickly think of. \n",
    "Feel free to add as much as you want\n",
    "\n",
    "### Flux values\n",
    "\n",
    "Check the minimum and maximum values for all filters"
   ]
  },
  {
   "cell_type": "code",
   "execution_count": 21,
   "metadata": {},
   "outputs": [],
   "source": [
    "max_flux = {}\n",
    "min_flux = {}\n",
    "\n",
    "# for each filter\n",
    "for f in LSST_FILTERS:\n",
    "    max_flux[f] = []\n",
    "    min_flux[f] = []\n",
    "    \n",
    "    # get the flux values\n",
    "    for indx in range(len(X)):\n",
    "        if len(X.iloc[indx]['fluxcal_' + f]) > 0:\n",
    "            max_flux[f].append(max(X.iloc[indx]['fluxcal_' + f]))\n",
    "            min_flux[f].append(min(X.iloc[indx]['fluxcal_' + f]))                   "
   ]
  },
  {
   "cell_type": "markdown",
   "metadata": {},
   "source": [
    "After this information is gathered we can check the the distribution of its values"
   ]
  },
  {
   "cell_type": "markdown",
   "metadata": {},
   "source": [
    "fig, axes = plt.subplots(2, 3, sharex=True, sharey=True, figsize=(12, 8))     \n",
    "for id_f, f in enumerate(LSST_FILTERS):        \n",
    "    ax = axes[id_f // 3, id_f % 3]\n",
    "    ax.hist(max_flux[f])\n",
    "    ax.set_xlabel('Max flux')\n",
    "    ax.set_ylabel('Number of objects')\n",
    "    ax.set_title('%s-band' % f)"
   ]
  },
  {
   "cell_type": "code",
   "execution_count": 23,
   "metadata": {},
   "outputs": [
    {
     "name": "stdout",
     "output_type": "stream",
     "text": [
      "3.78104\n",
      "26.9528\n",
      "108.87\n",
      "162.737\n",
      "155.937\n",
      "202.504\n"
     ]
    }
   ],
   "source": [
    "for f in LSST_FILTERS:\n",
    "    print(max(max_flux[f]))"
   ]
  },
  {
   "cell_type": "markdown",
   "metadata": {},
   "source": [
    "Same thing for minimum values"
   ]
  },
  {
   "cell_type": "markdown",
   "metadata": {},
   "source": [
    "fig, axes = plt.subplots(2, 3, sharex=True, sharey=True, figsize=(12, 8))     \n",
    "for id_f, f in enumerate(LSST_FILTERS):        \n",
    "    ax = axes[id_f // 3, id_f % 3]\n",
    "    ax.hist(min_flux[f])\n",
    "    ax.set_xlim(min(min_flux[f]), max(min_flux[f]))\n",
    "    ax.set_xlabel('Min flux')\n",
    "    ax.set_ylabel('Number of objects')\n",
    "    ax.set_title('%s-band' % f)"
   ]
  },
  {
   "cell_type": "code",
   "execution_count": 25,
   "metadata": {},
   "outputs": [
    {
     "name": "stdout",
     "output_type": "stream",
     "text": [
      "-4.12298 -4.12298\n",
      "-1.29395 -1.29395\n",
      "-2.12721 -2.12721\n",
      "-2.05972 -2.05972\n",
      "-6.82765 -6.82765\n",
      "-47.774 -47.774\n"
     ]
    }
   ],
   "source": [
    "for f in LSST_FILTERS:\n",
    "    print(min(min_flux[f]), max(min_flux[f]))"
   ]
  },
  {
   "cell_type": "code",
   "execution_count": null,
   "metadata": {},
   "outputs": [],
   "source": []
  },
  {
   "cell_type": "markdown",
   "metadata": {},
   "source": [
    "## Compare with ideal simulations\n",
    "\n",
    "We are going to plot this against other simulations."
   ]
  },
  {
   "cell_type": "code",
   "execution_count": 56,
   "metadata": {},
   "outputs": [
    {
     "name": "stdout",
     "output_type": "stream",
     "text": [
      "['1' '1' '1' '1' '1' '1' '1' '1' '1' '1' '1' '1' '1' '1' '1' '1']\n"
     ]
    }
   ],
   "source": [
    "#dat = np.genfromtxt('/project/rkessler/dscolnic/GW170817/LSST.LCPLOT_example.TEXT',dtype='str')\n",
    "mjd1,flux1,fluxe1,flag1,filt1 = np.loadtxt('LSST.LCPLOT_example.TEXT', usecols=(2,4,5,6,7), unpack=True, dtype='str', skiprows=2)"
   ]
  },
  {
   "cell_type": "code",
   "execution_count": 102,
   "metadata": {},
   "outputs": [
    {
     "name": "stdout",
     "output_type": "stream",
     "text": [
      "mjd1[xx[0]] [ 62624.227  62657.121] [ 0.77604  5.2716 ] ['u' 'g' 'g' 'r' 'r' 'r' 'r' 'i' 'i' 'i' 'i' 'i' 'z' 'Y' 'Y' 'Y'] 0\n",
      "mjd1[xx[0]] [ 62630.25   62644.281  62649.152  62652.133] [ 134.33       1.478      0.95486   -0.29016] ['u' 'g' 'g' 'r' 'r' 'r' 'r' 'i' 'i' 'i' 'i' 'i' 'z' 'Y' 'Y' 'Y'] 1\n",
      "mjd1[xx[0]] [ 62632.254  62643.238  62653.195  62655.223  62656.121] [ 34.634    -7.7425    1.6151    0.61847   1.075  ] ['u' 'g' 'g' 'r' 'r' 'r' 'r' 'i' 'i' 'i' 'i' 'i' 'z' 'Y' 'Y' 'Y'] 2\n",
      "mjd1[xx[0]] [ 62633.242] [ 32.252] ['u' 'g' 'g' 'r' 'r' 'r' 'r' 'i' 'i' 'i' 'i' 'i' 'z' 'Y' 'Y' 'Y'] 3\n",
      "mjd1[xx[0]] [ 62637.266  62639.227  62642.332] [-23.458  55.96  -15.432] ['u' 'g' 'g' 'r' 'r' 'r' 'r' 'i' 'i' 'i' 'i' 'i' 'z' 'Y' 'Y' 'Y'] 4\n"
     ]
    },
    {
     "data": {
      "text/plain": [
       "(-44.28100000000268, 35.945999999996275)"
      ]
     },
     "execution_count": 102,
     "metadata": {},
     "output_type": "execute_result"
    },
    {
     "data": {
      "image/png": "[encoded data removed]",
      "text/plain": [
       "<matplotlib.figure.Figure at 0x7fc26876df28>"
      ]
     },
     "metadata": {},
     "output_type": "display_data"
    }
   ],
   "source": [
    "mjd1=mjd1.astype(float)\n",
    "flux1=flux1.astype(float)\n",
    "fluxe1=fluxe1.astype(float)\n",
    "import matplotlib.ticker as ticker\n",
    "str2a=['g','r','i','z','Y']\n",
    "col=['b','r','c','y','m','y','r','g','m','b','g']\n",
    "pos=[]\n",
    "\n",
    "for i in range(1,299):\n",
    "    pos.append(i-35)\n",
    "    \n",
    "pos2=[]\n",
    "\n",
    "for i in range(1,299):\n",
    "    pos2.append(0.0/100.0+0)\n",
    "    \n",
    "gs1 = gridspec.GridSpec(1, 1)\n",
    "gs1.update(bottom=0.15, top=0.95, hspace=0.05)\n",
    "ax1= plt.subplot(gs1[0])\n",
    "zred=['0.05','0.4','0.68']\n",
    "names=['LSST example','WFIRST example','PS1-380040']\n",
    "for i in range(0,5):\n",
    "    #line, = ax1.plot(pos, pos2, lw=2)\n",
    "\n",
    "    xx=np.where((filt1==str2a[i]) & (flag1=='1'))\n",
    "    print('mjd1[xx[0]]', mjd1[xx[0]], flux1[xx[0]], filt1, i)\n",
    "    ax1.errorbar(mjd1[xx[0]]+3-62644.281, flux1[xx[0]], yerr=fluxe1[xx[0]], fmt='o', color=col[i],label=str2a[i])\n",
    "    xx=np.where((filt1==str2a[i]) & (flag1=='0'))\n",
    "    \n",
    "    #line, = ax1.plot(mjd1[xx[0]]-62644.281, flux1[xx[0]], lw=2, color=col[i])\n",
    "#ax1.text(40,650,\"z=\"+zred[0])\n",
    "#ax1.text(40,900,names[0])\n",
    "#ax1.yaxis.set_major_locator(ticker.MultipleLocator(50))\n",
    "\n",
    "lowlim= 62600-62644.281\n",
    "uplim=62680.227-62644.281\n",
    "\n",
    "ax1.set_xlim(lowlim,uplim)\n",
    "#ax1.set_ylim(-60,260.0)\n",
    "\n"
   ]
  },
  {
   "cell_type": "markdown",
   "metadata": {},
   "source": []
  },
  {
   "cell_type": "markdown",
   "metadata": {},
   "source": [
    "And plot some ID"
   ]
  },
  {
   "cell_type": "code",
   "execution_count": null,
   "metadata": {},
   "outputs": [],
   "source": []
  },
  {
   "cell_type": "markdown",
   "metadata": {},
   "source": [
    "Suppose we wish to compare our pet project SN 1618 from the non-ideal simuations. We can check its redshift:"
   ]
  },
  {
   "cell_type": "code",
   "execution_count": 73,
   "metadata": {},
   "outputs": [
    {
     "data": {
      "text/plain": [
       "1.1337954998016357"
      ]
     },
     "execution_count": 73,
     "metadata": {},
     "output_type": "execute_result"
    }
   ],
   "source": [
    "z1618 = X.z[1618]\n",
    "z1618"
   ]
  },
  {
   "cell_type": "markdown",
   "metadata": {},
   "source": [
    "now which ideal simulations are close to it in redshift"
   ]
  },
  {
   "cell_type": "code",
   "execution_count": 137,
   "metadata": {},
   "outputs": [
    {
     "data": {
      "text/plain": [
       "[741, 892, 1694, 1791, 1945, 2099, 2339, 3118, 3244, 3391]"
      ]
     },
     "execution_count": 137,
     "metadata": {},
     "output_type": "execute_result"
    }
   ],
   "source": [
    "neighbors = [i for i in range(y1.shape[0]) if abs(X1.z[y1.index[i]] - z1618) <= 0.001] \n",
    "neighbors[:10]"
   ]
  },
  {
   "cell_type": "markdown",
   "metadata": {},
   "source": [
    "Plot them all"
   ]
  },
  {
   "cell_type": "code",
   "execution_count": 138,
   "metadata": {},
   "outputs": [
    {
     "data": {
      "image/png": "[encoded data removed]",
      "text/plain": [
       "<matplotlib.figure.Figure at 0x7f8e5caee9b0>"
      ]
     },
     "metadata": {},
     "output_type": "display_data"
    }
   ],
   "source": [
    "fig, axes = plt.subplots(2, 3, sharex=True, sharey=True, figsize=(12, 8))\n",
    "for i in neighbors:\n",
    "    plot_lightcurves(i, X1)"
   ]
  },
  {
   "cell_type": "markdown",
   "metadata": {},
   "source": [
    "Superimpose the non-ideal light curve."
   ]
  },
  {
   "cell_type": "code",
   "execution_count": 148,
   "metadata": {},
   "outputs": [],
   "source": [
    "snid = 1618\n",
    "\n",
    "def plot_lightcurves_ideal_compare(snid, X, neighbors, X1):  \n",
    "    \n",
    "    fig, axes = plt.subplots(2, 3, sharex=True, sharey=True, figsize=(12, 8)) \n",
    "    \n",
    "    for idx in neighbors:\n",
    "        flux = []\n",
    "        for f in LSST_FILTERS:\n",
    "            if len(X1.iloc[idx]['fluxcal_' + f]) > 0:\n",
    "                flux.append(max(X1.iloc[idx]['fluxcal_' + f]))\n",
    "   \n",
    "        for id_f, f in enumerate(LSST_FILTERS):\n",
    "            ax = axes[id_f // 3, id_f % 3]\n",
    "            ax.errorbar(X1.iloc[idx]['mjd_%s' % f] - X1.iloc[idx]['pkmjd'], \n",
    "                        X1.iloc[idx]['fluxcal_%s' % f]/max(flux), \n",
    "                        X1.iloc[idx]['fluxcalerr_%s' % f]/max(flux), \n",
    "                        fmt='o')\n",
    "            ax.set_xlabel('MJD')\n",
    "            ax.set_ylabel('Calibrated flux')\n",
    "            ax.set_title('%s-band' % f)\n",
    "    \n",
    "    flux2 = []\n",
    "    for f in LSST_FILTERS:\n",
    "        if len(X.loc[snid]['fluxcal_' + f]) > 0:\n",
    "            flux2.append(max(X.loc[snid]['fluxcal_' + f]))\n",
    "    \n",
    "    for id_f, f in enumerate(LSST_FILTERS):\n",
    "        ax = axes[id_f // 3, id_f % 3]\n",
    "        ax.errorbar(X.loc[snid]['mjd_%s' % f] - X.loc[snid]['pkmjd'], \n",
    "                    X.loc[snid]['fluxcal_%s' % f]/max(flux), \n",
    "                    X.loc[snid]['fluxcalerr_%s' % f]/max(flux), \n",
    "                    fmt='o', color='black')\n",
    "        ax.set_xlabel('MJD')\n",
    "        ax.set_ylabel('Calibrated flux')\n",
    "        ax.set_title('%s-band' % f)"
   ]
  },
  {
   "cell_type": "markdown",
   "metadata": {},
   "source": [
    "In the plot bellow, the black points corresponto the realistic light curve and the other colors to perfect simulations (high cadence and no noise)"
   ]
  },
  {
   "cell_type": "code",
   "execution_count": 149,
   "metadata": {},
   "outputs": [
    {
     "data": {
      "image/png": "[encoded data removed]",
      "text/plain": [
       "<matplotlib.figure.Figure at 0x7f8e5c7db5c0>"
      ]
     },
     "metadata": {},
     "output_type": "display_data"
    }
   ],
   "source": [
    "plot_lightcurves_ideal_compare(snid, X, neighbors, X1)"
   ]
  },
  {
   "cell_type": "code",
   "execution_count": null,
   "metadata": {},
   "outputs": [],
   "source": []
  }
 ],
 "metadata": {
  "kernelspec": {
   "display_name": "Python 3",
   "language": "python",
   "name": "python3"
  },
  "language_info": {
   "codemirror_mode": {
    "name": "ipython",
    "version": 3
   },
   "file_extension": ".py",
   "mimetype": "text/x-python",
   "name": "python",
   "nbconvert_exporter": "python",
   "pygments_lexer": "ipython3",
   "version": "3.6.3"
  }
 },
 "nbformat": 4,
 "nbformat_minor": 2
}
