{
 "cells": [
  {
   "cell_type": "code",
   "execution_count": 15,
   "metadata": {},
   "outputs": [],
   "source": [
    "import gzip\n",
    "import pickle\n",
    "import pandas as pd\n",
    "import numpy as np\n",
    "import snana\n",
    "import json\n",
    "from scipy.optimize import least_squares\n",
    "import matplotlib.pyplot as plt\n",
    "%matplotlib inline\n",
    "\n",
    "LSST_FILTERS = 'ugrizY'"
   ]
  },
  {
   "cell_type": "markdown",
   "metadata": {},
   "source": [
    "routine for converting JSON from the open supernova catalaog to SNANA format"
   ]
  },
  {
   "cell_type": "code",
   "execution_count": 23,
   "metadata": {},
   "outputs": [],
   "source": [
    "def mkPhotFile_Err(fname='PTF11bij.json',outfile='PTF11bij.snana.dat',\n",
    "                   surveyname='NULL',pkmjd=None,filtlist=None):\n",
    "    filtdict = {}\n",
    "    with open(fname) as data_file:\n",
    "        data = json.load(data_file)\n",
    "\n",
    "    snid = fname.split('.')[0].split('/')[-1]\n",
    "    nobs = len(data[snid]['photometry'])\n",
    "    try:\n",
    "        z = float(data[snid]['redshift'][0]['value'])\n",
    "    except:\n",
    "        z = 0\n",
    "        print('warning : no redshift for file %s'%fname)\n",
    "    peakdate = data[snid]['maxdate'][0]['value']\n",
    "\n",
    "    if not pkmjd:\n",
    "        from astropy.time import Time\n",
    "        times = ['%sT00:00:00'%peakdate.replace('/','-')]\n",
    "        t = Time(times,format='isot',scale='utc')\n",
    "        pkmjd = t.mjd[0]\n",
    "\n",
    "    if not filtlist and snid not in filtdict.keys():\n",
    "        filters = ''\n",
    "        for phot in data[snid]['photometry']:\n",
    "            if 'band' in phot.keys():\n",
    "                if phot['band'] not in filters and phot['band'].replace(\"'\",\"\") not in filters and \\\n",
    "                   phot['band'].replace(\"'\",\"\") in ['U','B','V','R','I','u','g','r','i','z']:\n",
    "                    filters += phot['band'].replace(\"'\",\"\")\n",
    "    elif snid in filtdict.keys():\n",
    "        filters = filtdict[snid]\n",
    "    else:\n",
    "        filters = filtlist\n",
    "        \n",
    "    snanahdr = \"\"\"SNID: %s\n",
    "SURVEY: %s\n",
    "FILTERS: %s\n",
    "REDSHIFT_FINAL: %.4f +- 0.0010\n",
    "PEAKMJD: %s\n",
    "\n",
    "NOBS: %i\n",
    "NVAR: 7\n",
    "VARLIST:  MJD  MJDERR  FLT FIELD   FLUXCAL\t FLUXCALERR\t   MAG\t   MAGERR\n",
    "\"\"\"%(snid,surveyname,filters,z,pkmjd,nobs)\n",
    "\n",
    "    fout = open(outfile,'w')\n",
    "    print(snanahdr,file=fout)\n",
    "\n",
    "    for phot in data[snid]['photometry']:\n",
    "        linefmt = 'OBS: %.1f  %.1f  %s  NULL\t%.3f  %.3f\t%.3f  %.3f'\n",
    "        if 'band' in phot.keys() and 'time' in phot.keys() and phot['band'].replace(\"'\",\"\") in filters:\n",
    "            if 'system' in phot.keys() and phot['band'] == phot['band'].upper() and len(phot['band']) == 1 and phot['system'] == 'AB':\n",
    "                print('AHHHHH AB MAG FOR FILTER %s'%phot['band'])\n",
    "            if 'e_time' in phot.keys() and 'e_magnitude' in phot.keys():\n",
    "                print(linefmt%(float(phot['time']),float(phot['e_time']),phot['band'].replace(\"'\",\"\"),10**(-0.4*(float(phot['magnitude'])-27.5)),\n",
    "                                        np.abs(float(phot['e_magnitude'])*0.4*np.log(10)*10**(-0.4*(float(phot['magnitude'])-27.5))),float(phot['magnitude']),float(phot['e_magnitude'])),file=fout)\n",
    "            elif 'e_magnitude' in phot.keys():\n",
    "                print(linefmt%(float(phot['time']),0.0,phot['band'].replace(\"'\",\"\"),10**(-0.4*(float(phot['magnitude'])-27.5)),\n",
    "                                     np.abs(float(phot['e_magnitude'])*0.4*np.log(10)*10**(-0.4*(float(phot['magnitude'])-27.5))),\n",
    "                                      float(phot['magnitude']),float(phot['e_magnitude'])),file=fout)\n",
    "\n",
    "            elif 'upperlimit' in phot.keys() and phot['upperlimit'] == True:\n",
    "                flux_upperlim = 10**(-0.4*(float(phot['magnitude'])-27.5))\n",
    "                fluxerr = flux_upperlim/3.\n",
    "                flux = 0\n",
    "\n",
    "                print(linefmt%(float(phot['time']),0.0,phot['band'].replace(\"'\",\"\"),flux,fluxerr,\n",
    "                                        float(phot['magnitude']),0),file=fout)\n",
    "\n",
    "\n",
    "    print >> fout, 'END: '\n",
    "    fout.close()\n"
   ]
  },
  {
   "cell_type": "code",
   "execution_count": 24,
   "metadata": {},
   "outputs": [
    {
     "ename": "TypeError",
     "evalue": "unsupported operand type(s) for >>: 'builtin_function_or_method' and '_io.TextIOWrapper'. Did you mean \"print(<message>, file=<output_stream>)\"?",
     "output_type": "error",
     "traceback": [
      "\u001b[0;31m---------------------------------------------------------------------------\u001b[0m",
      "\u001b[0;31mTypeError\u001b[0m                                 Traceback (most recent call last)",
      "\u001b[0;32m<ipython-input-24-b7523f9b6055>\u001b[0m in \u001b[0;36m<module>\u001b[0;34m()\u001b[0m\n\u001b[0;32m----> 1\u001b[0;31m \u001b[0mmkPhotFile_Err\u001b[0m\u001b[0;34m(\u001b[0m\u001b[0mfname\u001b[0m\u001b[0;34m=\u001b[0m\u001b[0;34m'PTF11kmb.json'\u001b[0m\u001b[0;34m,\u001b[0m\u001b[0moutfile\u001b[0m\u001b[0;34m=\u001b[0m\u001b[0;34m'PTF11kmb.snana.dat'\u001b[0m\u001b[0;34m)\u001b[0m\u001b[0;34m\u001b[0m\u001b[0m\n\u001b[0m",
      "\u001b[0;32m<ipython-input-23-59473c633718>\u001b[0m in \u001b[0;36mmkPhotFile_Err\u001b[0;34m(fname, outfile, surveyname, pkmjd, filtlist)\u001b[0m\n\u001b[1;32m     67\u001b[0m \u001b[0;34m\u001b[0m\u001b[0m\n\u001b[1;32m     68\u001b[0m \u001b[0;34m\u001b[0m\u001b[0m\n\u001b[0;32m---> 69\u001b[0;31m     \u001b[0mprint\u001b[0m \u001b[0;34m>>\u001b[0m \u001b[0mfout\u001b[0m\u001b[0;34m,\u001b[0m \u001b[0;34m'END: '\u001b[0m\u001b[0;34m\u001b[0m\u001b[0m\n\u001b[0m\u001b[1;32m     70\u001b[0m     \u001b[0mfout\u001b[0m\u001b[0;34m.\u001b[0m\u001b[0mclose\u001b[0m\u001b[0;34m(\u001b[0m\u001b[0;34m)\u001b[0m\u001b[0;34m\u001b[0m\u001b[0m\n",
      "\u001b[0;31mTypeError\u001b[0m: unsupported operand type(s) for >>: 'builtin_function_or_method' and '_io.TextIOWrapper'. Did you mean \"print(<message>, file=<output_stream>)\"?"
     ]
    }
   ],
   "source": [
    "mkPhotFile_Err(fname='PTF11kmb.json',outfile='PTF11kmb.snana.dat')"
   ]
  },
  {
   "cell_type": "markdown",
   "metadata": {},
   "source": [
    "The utilities below read in the data, from Emille's code"
   ]
  },
  {
   "cell_type": "code",
   "execution_count": 3,
   "metadata": {},
   "outputs": [],
   "source": [
    "def read_data(filename):\n",
    "    \"\"\"Read data from pickled file to a pandas dataframe\"\"\"\n",
    "    with gzip.open(filename, 'rb') as f:\n",
    "        data = pickle.load(f)\n",
    "\n",
    "    X = to_dataframe(data)\n",
    "    y = pd.get_dummies(X.type == 0, prefix='SNIa', drop_first=True)\n",
    "    X = X.drop(columns=['type'])\n",
    "\n",
    "    return X, y\n",
    "\n",
    "\n",
    "def to_dataframe(data):\n",
    "    \"\"\"Converts from a python dictionary to a pandas dataframe\"\"\"\n",
    "    for idx in data:\n",
    "        sn = data[idx]\n",
    "        for filt in LSST_FILTERS:\n",
    "            sn['mjd_%s' % filt] = np.array(sn[filt]['mjd'])\n",
    "            sn['fluxcal_%s' % filt] = np.array(sn[filt]['fluxcal'])\n",
    "            sn['fluxcalerr_%s' % filt] = np.array(sn[filt]['fluxcalerr'])\n",
    "            del sn[filt]\n",
    "        sn.update(sn['header'])\n",
    "        del sn['header']\n",
    "\n",
    "    return pd.DataFrame.from_dict(data, orient='index')"
   ]
  },
  {
   "cell_type": "markdown",
   "metadata": {},
   "source": [
    "read in the Ca-Rich pickle file"
   ]
  },
  {
   "cell_type": "code",
   "execution_count": 4,
   "metadata": {},
   "outputs": [],
   "source": [
    "X, y = read_data('IDEAL_z02_MODEL63.pkl.gz')"
   ]
  },
  {
   "cell_type": "markdown",
   "metadata": {},
   "source": [
    "utility for plotting light curves, one filter at a time"
   ]
  },
  {
   "cell_type": "code",
   "execution_count": 5,
   "metadata": {},
   "outputs": [],
   "source": [
    "def plot_lightcurves_id_onefilt(idx, X, ax, flt='u'):\n",
    "    \n",
    "    flux = []\n",
    "    if len(X.loc[idx]['fluxcal_' + flt]) > 0:\n",
    "        flux.append(max(X.loc[idx]['fluxcal_' + flt]))\n",
    "                \n",
    "    ax.errorbar(X.loc[idx]['mjd_%s' % flt] - X.loc[idx]['pkmjd'], \n",
    "                X.loc[idx]['fluxcal_%s' % flt], \n",
    "                X.loc[idx]['fluxcalerr_%s' % flt], \n",
    "                fmt='o')\n",
    "    ax.set_xlabel('$t_{obs}$')\n",
    "    ax.set_ylabel('Calibrated flux')\n",
    "    ax.set_title('%s-band' % flt)"
   ]
  },
  {
   "cell_type": "markdown",
   "metadata": {},
   "source": [
    "function for comparing an ideal simulation with a given index to real data"
   ]
  },
  {
   "cell_type": "code",
   "execution_count": 6,
   "metadata": {},
   "outputs": [],
   "source": [
    "def realdatacomp(X, y, realfile='PTF11kmb.snana.dat', idx=27):\n",
    "    sn = snana.SuperNova(realfile)\n",
    "    idx = X.iloc[idx].snid\n",
    "    \n",
    "    fig, axes = plt.subplots(2, 3, sharex=True, sharey=True, figsize=(10, 6))\n",
    "    \n",
    "    realflux,simflux = np.array([]),np.array([])\n",
    "    for id_f, f in enumerate(LSST_FILTERS):        \n",
    "        if f in sn.FLT:\n",
    "            tobs = sn.MJD[sn.FLT == f]-sn.pkmjd\n",
    "            simtobs = X.loc[idx]['mjd_%s' % f] - X.loc[idx]['pkmjd']\n",
    "            simflx = X.loc[idx]['fluxcal_%s' % f]\n",
    "            for t in tobs:\n",
    "                iReal = np.where(tobs == t)[0]\n",
    "                if len(iReal) > 1: iReal = iReal[0]\n",
    "                realflux = np.append(realflux,sn.FLUXCAL[sn.FLT == f][iReal])\n",
    "                iSim = np.where(np.abs(simtobs-t) == np.min(np.abs(simtobs-t)))[0]\n",
    "                if len(iSim) > 1: iSim = iSim[0]\n",
    "                simflux = np.append(simflux,simflx[iSim])\n",
    "                \n",
    "    scale = fitfluxscale(simflux,realflux)\n",
    "    \n",
    "    for id_f, f in enumerate(LSST_FILTERS):\n",
    "        ax = axes[id_f // 3, id_f % 3]\n",
    "        if id_f == 0:\n",
    "            ax.text(0.01,0.8,\"simid %i \\n$A_V$ = %.2f\"%(idx,X.loc[idx]['SIM_AV']),transform=ax.transAxes)\n",
    "\n",
    "        plot_lightcurves_id_onefilt(idx, X, ax, flt=f)\t\t\n",
    "        if f in sn.FLT:\n",
    "            ax.errorbar(sn.MJD[sn.FLT == f]-sn.pkmjd,sn.FLUXCAL[sn.FLT == f]*scale,yerr=sn.FLUXCALERR[sn.FLT == f]*scale,fmt='o')\n",
    "        ax.set_title('%s, filter %s'%(realfile.split('.')[0],f))\n",
    "        ax.set_ylim([0,np.max(X.loc[idx]['fluxcal_%s' % f])*4/3.])\n",
    "        ax.set_xlim([-20,40])\n",
    "    ax.set_xlabel('$t_{obs}$')\n",
    "    ax.set_ylabel('Flux')\n",
    "\n"
   ]
  },
  {
   "cell_type": "markdown",
   "metadata": {},
   "source": [
    "this does a one-parameter flux scaling so match data to sims"
   ]
  },
  {
   "cell_type": "code",
   "execution_count": 11,
   "metadata": {},
   "outputs": [],
   "source": [
    "def fitfluxscale(flux1,flux2):\n",
    "\n",
    "    errfunc = lambda params: abs(flux1 - scaledflux(flux2, *params))\n",
    "    result = least_squares(errfunc, (1), method='lm')\n",
    "\n",
    "    return result.x[0]\n",
    "\n",
    "def scaledflux(flux, a):\n",
    "    return a*flux\n",
    "\n",
    "def leastsquares(flux1,flux2,fluxerr=1):\n",
    "    import cosmo\n",
    "    fluxerr = np.array([fluxerr]*len(flux1))\n",
    "\n",
    "    fluxcorr=sum((flux1-flux2)/fluxerr**2.)/sum(1./fluxerr**2.)\n",
    "\n",
    "    return fluxcorr"
   ]
  },
  {
   "cell_type": "markdown",
   "metadata": {},
   "source": [
    "## Do the plotting\n",
    "The real CART files are:\n",
    "\n",
    "PTF09dav.snana.dat\n",
    "\n",
    "PTF11bij.snana.dat\n",
    "\n",
    "PTF11kmb.snana.dat\n",
    "\n",
    "PTF12bho.snana.dat\n",
    "\n",
    "SN2007ke.snana.dat\n",
    "\n",
    "SN2010et.snana.dat"
   ]
  },
  {
   "cell_type": "code",
   "execution_count": 10,
   "metadata": {},
   "outputs": [
    {
     "data": {
      "image/png": "[encoded data removed]",
      "text/plain": [
       "<Figure size 720x432 with 6 Axes>"
      ]
     },
     "metadata": {},
     "output_type": "display_data"
    }
   ],
   "source": [
    "realdatacomp(X,y,realfile='SN2010et.snana.dat',idx=100)"
   ]
  },
  {
   "cell_type": "code",
   "execution_count": null,
   "metadata": {},
   "outputs": [],
   "source": []
  }
 ],
 "metadata": {
  "kernelspec": {
   "display_name": "Python 3",
   "language": "python",
   "name": "python3"
  },
  "language_info": {
   "codemirror_mode": {
    "name": "ipython",
    "version": 3
   },
   "file_extension": ".py",
   "mimetype": "text/x-python",
   "name": "python",
   "nbconvert_exporter": "python",
   "pygments_lexer": "ipython3",
   "version": "3.6.4"
  }
 },
 "nbformat": 4,
 "nbformat_minor": 2
}
