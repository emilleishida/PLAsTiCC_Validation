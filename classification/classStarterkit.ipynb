{
 "cells": [
  {
   "cell_type": "code",
   "execution_count": 1,
   "metadata": {},
   "outputs": [],
   "source": [
    "import numpy as np\n",
    "import pylab as pl\n",
    "from sklearn import datasets\n",
    "import numpy as np\n",
    "import matplotlib.pyplot as plt\n",
    "from sklearn import svm\n",
    "%matplotlib inline\n",
    "from sklearn.model_selection import StratifiedShuffleSplit\n",
    "iris = datasets.load_iris()\n",
    "digits = datasets.load_digits()\n",
    "import gzip\n",
    "import csv\n",
    "import pandas\n",
    "from pandas.plotting import scatter_matrix\n",
    "\n",
    "    "
   ]
  },
  {
   "cell_type": "code",
   "execution_count": 2,
   "metadata": {},
   "outputs": [],
   "source": [
    "datdir = '/home/rhlozek/pubData/'\n",
    "filename = 'plasticc_training_set.csv.gz'\n",
    "nrows=20\n",
    "names = ['object_id', 'mjd', 'passband', 'flux', 'flux_err', 'detected_bool']\n",
    "\n",
    "df = pandas.read_csv(datdir+filename, compression='gzip')  #, names=names)\n",
    "meta = pandas.read_csv(datdir+'plasticc_training_set_metadata.csv', na_values='NaN', na_filter=True)\n",
    "meta = meta.fillna(value=-999)\n",
    "    \n",
    "clf = svm.SVC(gamma=0.001, C=100.)"
   ]
  },
  {
   "cell_type": "code",
   "execution_count": 3,
   "metadata": {},
   "outputs": [
    {
     "name": "stdout",
     "output_type": "stream",
     "text": [
      "   object_id         mjd  passband        flux   flux_err  detected_bool\n",
      "0        615  59750.4229         2 -544.810303   3.622952              1\n",
      "1        615  59750.4306         1 -816.434326   5.553370              1\n",
      "2        615  59750.4383         3 -471.385529   3.801213              1\n",
      "3        615  59750.4450         4 -388.984985  11.395031              1\n",
      "4        615  59752.4070         2 -681.858887   4.041204              1\n",
      "   object_id          ra       decl        gall       galb  ddf_bool  \\\n",
      "0        615  349.046051 -61.943836  320.796530 -51.753706         1   \n",
      "1        713   53.085938 -27.784405  223.525509 -54.460748         1   \n",
      "2        730   33.574219  -6.579593  170.455585 -61.548219         1   \n",
      "3        745    0.189873 -45.586655  328.254458 -68.969298         1   \n",
      "4       1124  352.711273 -63.823658  316.922299 -51.059403         1   \n",
      "\n",
      "   hostgal_specz  hostgal_photoz  hostgal_photoz_err   distmod  mwebv  target  \n",
      "0         0.0000          0.0000              0.0000 -999.0000  0.017      92  \n",
      "1         1.8181          1.6267              0.2552   45.4063  0.007      88  \n",
      "2         0.2320          0.2262              0.0157   40.2561  0.021      42  \n",
      "3         0.3037          0.2813              1.1523   40.7951  0.007      90  \n",
      "4         0.1934          0.2415              0.0176   40.4166  0.024      90  \n"
     ]
    }
   ],
   "source": [
    "print(df.head())\n",
    "print(meta.head())"
   ]
  },
  {
   "cell_type": "code",
   "execution_count": 117,
   "metadata": {},
   "outputs": [
    {
     "name": "stdout",
     "output_type": "stream",
     "text": [
      "[(615,      object_id         mjd  passband         flux   flux_err  detected_bool\n",
      "0          615  59750.4229         2  -544.810303   3.622952              1\n",
      "1          615  59750.4306         1  -816.434326   5.553370              1\n",
      "2          615  59750.4383         3  -471.385529   3.801213              1\n",
      "3          615  59750.4450         4  -388.984985  11.395031              1\n",
      "4          615  59752.4070         2  -681.858887   4.041204              1\n",
      "5          615  59752.4147         1 -1061.457031   6.472994              1\n",
      "6          615  59752.4224         3  -524.954590   3.552751              1\n",
      "7          615  59752.4334         4  -393.480225   3.599346              1\n",
      "8          615  59752.4435         5  -355.886780  10.421921              1\n",
      "9          615  59767.2968         2  -548.013550   3.462291              1\n",
      "10         615  59767.3045         1  -815.188599   5.293019              1\n",
      "11         615  59767.3122         3  -475.516052   3.340643              1\n",
      "12         615  59767.3233         4  -405.663818   3.496113              1\n",
      "13         615  59767.3343         5  -421.199066   6.377517              1\n",
      "14         615  59770.2179         2  -554.903198   3.927843              1\n",
      "15         615  59770.2256         1  -820.042786   5.875329              1\n",
      "16         615  59770.2334         3  -477.004730   3.736262              1\n",
      "17         615  59770.2445         4  -400.270386   3.834955              1\n",
      "18         615  59770.2557         5  -415.286896   7.435979              1\n",
      "19         615  59779.3188         2  -630.523682   4.333287              1\n",
      "20         615  59779.3265         1  -921.002502   6.306800              1\n",
      "21         615  59779.3342         3  -518.533997   3.915225              1\n",
      "22         615  59779.3452         4  -422.184509   4.089213              1\n",
      "23         615  59779.3562         5  -422.815094   8.124096              1\n",
      "24         615  59782.1897         2  -280.039520   2.819228              1\n",
      "25         615  59782.1974         1  -449.095612   4.028310              1\n",
      "26         615  59782.2051         3  -316.704865   3.491153              1\n",
      "27         615  59782.2162         4  -332.885437   4.021619              1\n",
      "28         615  59782.2274         5  -365.075775   8.514805              1\n",
      "29         615  59797.2861         2   391.399231   3.098059              1\n",
      "..         ...         ...       ...          ...        ...            ...\n",
      "322        615  60603.0286         1    70.494507   3.060846              1\n",
      "323        615  60603.0363         3   338.994537   3.051842              1\n",
      "324        615  60603.0473         4   362.888550   3.381572              1\n",
      "325        615  60603.0584         5   378.188141   6.295821              1\n",
      "326        615  60606.0225         2   422.610779   3.198191              1\n",
      "327        615  60606.0303         1   457.502197   4.173640              1\n",
      "328        615  60606.0379         3   205.937546   2.957614              1\n",
      "329        615  60606.0490         4   123.048210   3.402847              1\n",
      "330        615  60606.0601         5    33.726837   7.368811              0\n",
      "331        615  60609.0247         2  -355.611389   2.720825              1\n",
      "332        615  60609.0323         1  -537.169312   4.090708              1\n",
      "333        615  60609.0400         3  -372.485565   2.985755              1\n",
      "334        615  60609.0510         4  -350.518677   3.225662              1\n",
      "335        615  60609.0621         5  -371.873230   6.150734              1\n",
      "336        615  60612.0266         0  -110.649872   2.844200              1\n",
      "337        615  60613.0269         0   -89.973892   2.937887              1\n",
      "338        615  60614.0276         0   -10.015225   3.212408              0\n",
      "339        615  60615.0375         0    99.438087   3.662484              1\n",
      "340        615  60616.0290         0   120.849113   3.776495              1\n",
      "341        615  60617.0295         0   121.411896   3.569777              1\n",
      "342        615  60621.1734         2    56.559818   2.259825              1\n",
      "343        615  60621.1810         1  -607.040771   4.452463              1\n",
      "344        615  60621.1886         3   208.770279   2.959783              1\n",
      "345        615  60621.1996         4   297.624725   3.718585              1\n",
      "346        615  60621.2105         5   332.919006   8.157172              1\n",
      "347        615  60624.1760         2   552.150269   3.917989              1\n",
      "348        615  60624.1836         1   607.047668   5.140991              1\n",
      "349        615  60624.1913         3   296.946533   3.475000              1\n",
      "350        615  60624.2022         4   235.489929   3.926538              1\n",
      "351        615  60624.2132         5   157.080200   8.453112              1\n",
      "\n",
      "[352 rows x 6 columns]), (713,      object_id         mjd  passband       flux  flux_err  detected_bool\n",
      "352        713  59825.2600         2   9.110147  1.013889              0\n",
      "353        713  59825.2676         1   7.615042  1.160329              1\n",
      "354        713  59825.2752         3   6.673631  1.932316              1\n",
      "355        713  59825.2862         4   5.214194  3.018003              0\n",
      "356        713  59825.2971         5  12.060948  7.163382              0\n",
      "357        713  59839.2161         2   4.953065  1.196956              0\n",
      "358        713  59839.2236         1   3.131028  1.351706              0\n",
      "359        713  59839.2313         3   6.108739  1.789895              0\n",
      "360        713  59839.2422         4   8.283792  2.527953              0\n",
      "361        713  59839.2532         5   9.686500  5.882469              0\n",
      "362        713  59842.1987         2   6.472355  1.110572              0\n",
      "363        713  59842.2064         1   5.914848  1.134476              1\n",
      "364        713  59842.2140         3   5.311658  1.683777              0\n",
      "365        713  59842.2250         4   4.680908  2.349234              0\n",
      "366        713  59842.2359         5   6.921503  5.573885              0\n",
      "367        713  59851.2006         0   7.267655  2.866838              0\n",
      "368        713  59854.2089         2   3.945918  0.922779              0\n",
      "369        713  59854.2165         1   2.956484  0.953529              0\n",
      "370        713  59854.2242         3   4.768611  1.422675              0\n",
      "371        713  59854.2351         4   4.065430  1.943197              0\n",
      "372        713  59854.2461         5   1.290383  3.980583              0\n",
      "373        713  59857.1879         2   3.937931  2.088610              0\n",
      "374        713  59857.1956         1  -2.223347  2.861396              0\n",
      "375        713  59857.2032         3  -0.476698  2.280299              0\n",
      "376        713  59857.2141         4   8.054095  2.712542              0\n",
      "377        713  59857.2251         5  -9.332252  5.174713              0\n",
      "378        713  59867.1600         2   1.380378  1.105223              0\n",
      "379        713  59867.1676         1   1.569406  1.369900              0\n",
      "380        713  59867.1753         3   1.433712  1.730335              0\n",
      "381        713  59867.1862         4   5.299760  2.530279              0\n",
      "..         ...         ...       ...        ...       ...            ...\n",
      "672        713  60649.0561         0 -12.232555  1.708795              0\n",
      "673        713  60651.1265         2  -9.331477  0.865811              1\n",
      "674        713  60651.1451         1 -10.061421  0.932510              1\n",
      "675        713  60651.1527         3  -9.335849  1.315029              1\n",
      "676        713  60651.1637         4  -6.167844  1.952829              0\n",
      "677        713  60651.1746         5 -10.171921  4.815349              0\n",
      "678        713  60654.0597         2  -9.607999  1.647062              1\n",
      "679        713  60654.0673         1  -6.258916  2.222855              0\n",
      "680        713  60654.0749         3  -9.524345  1.901351              0\n",
      "681        713  60654.0859         4  -9.513783  2.389906              0\n",
      "682        713  60654.0968         5  -9.744430  5.404162              0\n",
      "683        713  60662.1451         2  -5.698765  1.334831              0\n",
      "684        713  60662.1527         1  -4.317381  2.017339              0\n",
      "685        713  60662.1603         3  -6.093997  1.675434              0\n",
      "686        713  60662.1713         4  -5.760686  2.093239              0\n",
      "687        713  60662.1822         5  -5.400730  4.721159              0\n",
      "688        713  60665.0637         2  -6.826318  0.676851              1\n",
      "689        713  60665.0713         1  -6.498077  0.740772              1\n",
      "690        713  60665.0789         3  -5.938825  1.048616              1\n",
      "691        713  60665.1017         4  -6.440791  1.543503              1\n",
      "692        713  60665.1156         5 -13.727009  3.770338              0\n",
      "693        713  60668.0647         2  -6.938087  0.920544              1\n",
      "694        713  60668.0723         1  -8.995543  0.954973              1\n",
      "695        713  60668.0893         3 -10.263328  1.437371              1\n",
      "696        713  60668.1055         4  -5.455149  2.164149              0\n",
      "697        713  60668.1165         5  -9.138229  5.354884              0\n",
      "698        713  60671.0655         0 -10.165054  1.726118              1\n",
      "699        713  60672.0693         0 -10.828177  1.470152              1\n",
      "700        713  60673.0745         0 -12.148479  2.243120              0\n",
      "701        713  60674.0798         0  -8.669188  2.216094              0\n",
      "\n",
      "[350 rows x 6 columns])]\n"
     ]
    }
   ],
   "source": [
    "feature_names = ['mjd', 'passband', 'flux', 'flux_err', 'detected_bool']\n",
    "X = df.groupby('object_id')\n",
    "y = meta['target']\n",
    "\n",
    "inds = range(2)\n",
    "# so we can make a list of the new grouped dataframe\n",
    "print(list(X)[0:2])\n",
    "\n",
    "\n",
    "#X.describe().head()\n",
    "#print(len(X))\n",
    "#print(X.head())\n",
    "#for k, gp in X:\n",
    "#    print('key=' + str(k))\n",
    "    #print(gp)\n",
    "#print(dict(list(X)))\n",
    "#df.groupby('object_id').flux.hist(alpha=0.4)\n",
    "#scatter_matrix(X, alpha=0.2, figsize=(6, 6), diagonal='kde')\n"
   ]
  },
  {
   "cell_type": "code",
   "execution_count": 111,
   "metadata": {},
   "outputs": [
    {
     "name": "stdout",
     "output_type": "stream",
     "text": [
      "7848\n",
      "TRAIN: 3924 TEST: 3924\n"
     ]
    },
    {
     "ename": "TypeError",
     "evalue": "only integer scalar arrays can be converted to a scalar index",
     "output_type": "error",
     "traceback": [
      "\u001b[0;31m---------------------------------------------------------------------------\u001b[0m",
      "\u001b[0;31mTypeError\u001b[0m                                 Traceback (most recent call last)",
      "\u001b[0;32m<ipython-input-111-5499e70382f5>\u001b[0m in \u001b[0;36m<module>\u001b[0;34m()\u001b[0m\n\u001b[1;32m     10\u001b[0m     \u001b[0mprint\u001b[0m\u001b[0;34m(\u001b[0m\u001b[0;34m\"TRAIN:\"\u001b[0m\u001b[0;34m,\u001b[0m \u001b[0mlen\u001b[0m\u001b[0;34m(\u001b[0m\u001b[0mtrain_index\u001b[0m\u001b[0;34m)\u001b[0m\u001b[0;34m,\u001b[0m \u001b[0;34m\"TEST:\"\u001b[0m\u001b[0;34m,\u001b[0m \u001b[0mlen\u001b[0m\u001b[0;34m(\u001b[0m\u001b[0mtest_index\u001b[0m\u001b[0;34m)\u001b[0m\u001b[0;34m)\u001b[0m\u001b[0;34m\u001b[0m\u001b[0m\n\u001b[1;32m     11\u001b[0m     \u001b[0mX_train\u001b[0m\u001b[0;34m=\u001b[0m \u001b[0mlist\u001b[0m\u001b[0;34m(\u001b[0m\u001b[0mX\u001b[0m\u001b[0;34m)\u001b[0m\u001b[0;34m[\u001b[0m\u001b[0mtrain_index\u001b[0m\u001b[0;34m[\u001b[0m\u001b[0;36m1\u001b[0m\u001b[0;34m]\u001b[0m\u001b[0;34m]\u001b[0m\u001b[0;34m\u001b[0m\u001b[0m\n\u001b[0;32m---> 12\u001b[0;31m     \u001b[0mX_test\u001b[0m \u001b[0;34m=\u001b[0m \u001b[0mlist\u001b[0m\u001b[0;34m(\u001b[0m\u001b[0mX\u001b[0m\u001b[0;34m)\u001b[0m\u001b[0;34m[\u001b[0m\u001b[0mtest_index\u001b[0m\u001b[0;34m]\u001b[0m\u001b[0;34m\u001b[0m\u001b[0m\n\u001b[0m\u001b[1;32m     13\u001b[0m     \u001b[0my_train\u001b[0m\u001b[0;34m,\u001b[0m \u001b[0my_test\u001b[0m \u001b[0;34m=\u001b[0m \u001b[0my\u001b[0m\u001b[0;34m[\u001b[0m\u001b[0mtrain_index\u001b[0m\u001b[0;34m]\u001b[0m\u001b[0;34m,\u001b[0m \u001b[0my\u001b[0m\u001b[0;34m[\u001b[0m\u001b[0mtest_index\u001b[0m\u001b[0;34m]\u001b[0m\u001b[0;34m\u001b[0m\u001b[0m\n",
      "\u001b[0;31mTypeError\u001b[0m: only integer scalar arrays can be converted to a scalar index"
     ]
    }
   ],
   "source": [
    "#from sklearn.model_selection import train_test_split\n",
    "#X_train, X_test, y_train, y_test = train_test_split(X, y, random_state=0)\n",
    "print(len(X))\n",
    "#print(X.count())\n",
    "sss = StratifiedShuffleSplit(n_splits=2,test_size=0.5, train_size=0.5, random_state=0)\n",
    "\n",
    "#df[df.groupby(['id'])['year']\n",
    "for train_index, test_index in sss.split(X, y):\n",
    "    \n",
    "    print(\"TRAIN:\", len(train_index), \"TEST:\", len(test_index))\n",
    "    X_train= list(X)[train_index]\n",
    "    X_test = list(X)[test_index]\n",
    "    y_train, y_test = y[train_index], y[test_index]\n"
   ]
  },
  {
   "cell_type": "code",
   "execution_count": 23,
   "metadata": {},
   "outputs": [
    {
     "name": "stdout",
     "output_type": "stream",
     "text": [
      "[[1 2]\n",
      " [3 4]\n",
      " [1 2]\n",
      " [3 4]]\n",
      "[1 2 3 4]\n",
      "TimeSeriesSplit(max_train_size=None, n_splits=2)\n",
      "TRAIN: [0 1] TEST: [2]\n",
      "TRAIN: [0 1 2] TEST: [3]\n"
     ]
    }
   ],
   "source": [
    "from sklearn.model_selection import TimeSeriesSplit\n",
    "X = np.array([[1, 2], [3, 4], [1, 2], [3, 4]])\n",
    "y = np.array([1, 2, 3, 4])\n",
    "print(X)\n",
    "print(y)\n",
    "tscv = TimeSeriesSplit(n_splits=2)\n",
    "print(tscv)  \n",
    "\n",
    "for train_index, test_index in tscv.split(X):\n",
    "    print(\"TRAIN:\", train_index, \"TEST:\", test_index)\n",
    "    X_train, X_test = X[train_index], X[test_index]\n",
    "    y_train, y_test = y[train_index], y[test_index]\n",
    "\n",
    "\n"
   ]
  },
  {
   "cell_type": "code",
   "execution_count": 9,
   "metadata": {},
   "outputs": [
    {
     "name": "stdout",
     "output_type": "stream",
     "text": [
      "[[1 2]\n",
      " [3 4]\n",
      " [1 2]\n",
      " [3 4]]\n",
      "StratifiedShuffleSplit(n_splits=3, random_state=0, test_size=0.5,\n",
      "            train_size=None)\n",
      "TRAIN: [1 2] TEST: [3 0]\n",
      "TRAIN: [0 2] TEST: [1 3]\n",
      "TRAIN: [0 2] TEST: [3 1]\n"
     ]
    }
   ],
   "source": [
    "X = np.array([[1, 2], [3, 4], [1, 2], [3, 4]])\n",
    "y = np.array([0, 0, 1, 1])\n",
    "print(X)\n",
    "sss = StratifiedShuffleSplit(n_splits=3, test_size=0.5, random_state=0)\n",
    "sss.get_n_splits(X, y)\n",
    "3\n",
    "print(sss)       \n",
    "for train_index, test_index in sss.split(X, y):\n",
    "    print(\"TRAIN:\", train_index, \"TEST:\", test_index)\n",
    "    X_train, X_test = X[train_index], X[test_index]\n",
    "    y_train, y_test = y[train_index], y[test_index]\n"
   ]
  },
  {
   "cell_type": "code",
   "execution_count": null,
   "metadata": {},
   "outputs": [],
   "source": []
  }
 ],
 "metadata": {
  "kernelspec": {
   "display_name": "Python 3",
   "language": "python",
   "name": "python3"
  },
  "language_info": {
   "codemirror_mode": {
    "name": "ipython",
    "version": 3
   },
   "file_extension": ".py",
   "mimetype": "text/x-python",
   "name": "python",
   "nbconvert_exporter": "python",
   "pygments_lexer": "ipython3",
   "version": "3.6.3"
  }
 },
 "nbformat": 4,
 "nbformat_minor": 2
}
